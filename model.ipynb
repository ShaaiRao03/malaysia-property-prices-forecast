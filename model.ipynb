{
 "cells": [
  {
   "cell_type": "markdown",
   "metadata": {},
   "source": [
    "# Malaysia Home Price Predictor\n",
    "\n",
    "### Reference :\n",
    "- https://loanstreet.com.my/learning-centre/types-of-residential-houses-malaysia\n",
    "### Sample test case :\n",
    "- https://www.iproperty.com.my/property/permas-jaya/fair-view-apartment/sale-106318143/\n",
    "- https://www.iproperty.com.my/building/fair-view-apartment-pty_65995/ \n",
    "### Github Link : \n",
    "- https://github.com/ShaaiRao03/malaysia-property-prices-forecast"
   ]
  },
  {
   "cell_type": "code",
   "execution_count": 74,
   "metadata": {},
   "outputs": [],
   "source": [
    "import pandas as pd  \n",
    "import matplotlib\n",
    "from matplotlib import pyplot as plt \n",
    "import numpy as np \n",
    "import seaborn as sns \n",
    "matplotlib.style.use('ggplot')\n",
    "import plotly.express as px \n",
    "\n",
    "pd.set_option('display.max_columns', None)"
   ]
  },
  {
   "cell_type": "markdown",
   "metadata": {},
   "source": [
    "*****Data Preprocessing*****"
   ]
  },
  {
   "cell_type": "code",
   "execution_count": 75,
   "metadata": {},
   "outputs": [
    {
     "data": {
      "text/plain": [
       "(4000, 32)"
      ]
     },
     "execution_count": 75,
     "metadata": {},
     "output_type": "execute_result"
    }
   ],
   "source": [
    "df = pd.read_csv(\"houses.csv\") \n",
    "df.shape"
   ]
  },
  {
   "cell_type": "code",
   "execution_count": 76,
   "metadata": {},
   "outputs": [
    {
     "name": "stdout",
     "output_type": "stream",
     "text": [
      "<class 'pandas.core.frame.DataFrame'>\n",
      "RangeIndex: 4000 entries, 0 to 3999\n",
      "Data columns (total 32 columns):\n",
      " #   Column                  Non-Null Count  Dtype \n",
      "---  ------                  --------------  ----- \n",
      " 0   description             4000 non-null   object\n",
      " 1   Bedroom                 4000 non-null   object\n",
      " 2   Bathroom                4000 non-null   object\n",
      " 3   Property Size           4000 non-null   object\n",
      " 4   Nearby School           687 non-null    object\n",
      " 5   Nearby Mall             365 non-null    object\n",
      " 6   Ad List                 4000 non-null   int64 \n",
      " 7   Category                4000 non-null   object\n",
      " 8   Facilities              4000 non-null   object\n",
      " 9   Building Name           4000 non-null   object\n",
      " 10  Developer               4000 non-null   object\n",
      " 11  Tenure Type             4000 non-null   object\n",
      " 12  Address                 4000 non-null   object\n",
      " 13  Completion Year         4000 non-null   object\n",
      " 14  # of Floors             4000 non-null   object\n",
      " 15  Total Units             4000 non-null   object\n",
      " 16  Property Type           4000 non-null   object\n",
      " 17  Parking Lot             4000 non-null   object\n",
      " 18  Floor Range             4000 non-null   object\n",
      " 19  Land Title              4000 non-null   object\n",
      " 20  Firm Type               3797 non-null   object\n",
      " 21  Firm Number             3797 non-null   object\n",
      " 22  REN Number              3797 non-null   object\n",
      " 23  Bus Stop                708 non-null    object\n",
      " 24  Mall                    475 non-null    object\n",
      " 25  Park                    807 non-null    object\n",
      " 26  School                  948 non-null    object\n",
      " 27  Hospital                343 non-null    object\n",
      " 28  price                   4000 non-null   object\n",
      " 29  Highway                 141 non-null    object\n",
      " 30  Nearby Railway Station  363 non-null    object\n",
      " 31  Railway Station         485 non-null    object\n",
      "dtypes: int64(1), object(31)\n",
      "memory usage: 1000.1+ KB\n"
     ]
    }
   ],
   "source": [
    "df.info() "
   ]
  },
  {
   "cell_type": "code",
   "execution_count": 77,
   "metadata": {},
   "outputs": [
    {
     "data": {
      "text/html": [
       "<div>\n",
       "<style scoped>\n",
       "    .dataframe tbody tr th:only-of-type {\n",
       "        vertical-align: middle;\n",
       "    }\n",
       "\n",
       "    .dataframe tbody tr th {\n",
       "        vertical-align: top;\n",
       "    }\n",
       "\n",
       "    .dataframe thead th {\n",
       "        text-align: right;\n",
       "    }\n",
       "</style>\n",
       "<table border=\"1\" class=\"dataframe\">\n",
       "  <thead>\n",
       "    <tr style=\"text-align: right;\">\n",
       "      <th></th>\n",
       "      <th>description</th>\n",
       "      <th>Bedroom</th>\n",
       "      <th>Bathroom</th>\n",
       "      <th>Property Size</th>\n",
       "      <th>Nearby School</th>\n",
       "      <th>Nearby Mall</th>\n",
       "      <th>Ad List</th>\n",
       "      <th>Category</th>\n",
       "      <th>Facilities</th>\n",
       "      <th>Building Name</th>\n",
       "      <th>Developer</th>\n",
       "      <th>Tenure Type</th>\n",
       "      <th>Address</th>\n",
       "      <th>Completion Year</th>\n",
       "      <th># of Floors</th>\n",
       "      <th>Total Units</th>\n",
       "      <th>Property Type</th>\n",
       "      <th>Parking Lot</th>\n",
       "      <th>Floor Range</th>\n",
       "      <th>Land Title</th>\n",
       "      <th>Firm Type</th>\n",
       "      <th>Firm Number</th>\n",
       "      <th>REN Number</th>\n",
       "      <th>Bus Stop</th>\n",
       "      <th>Mall</th>\n",
       "      <th>Park</th>\n",
       "      <th>School</th>\n",
       "      <th>Hospital</th>\n",
       "      <th>price</th>\n",
       "      <th>Highway</th>\n",
       "      <th>Nearby Railway Station</th>\n",
       "      <th>Railway Station</th>\n",
       "    </tr>\n",
       "  </thead>\n",
       "  <tbody>\n",
       "    <tr>\n",
       "      <th>0</th>\n",
       "      <td>Iconic Building @ KL SETAPAK\\nNew launching &amp; ...</td>\n",
       "      <td>4</td>\n",
       "      <td>2</td>\n",
       "      <td>1000 sq.ft.</td>\n",
       "      <td>Sekolah Menengah Pendidikan Khas Cacat Penglih...</td>\n",
       "      <td>Setapak Central</td>\n",
       "      <td>98187451</td>\n",
       "      <td>Apartment / Condominium, For sale</td>\n",
       "      <td>-</td>\n",
       "      <td>Kenwingston Platz</td>\n",
       "      <td>Kenwingston Group</td>\n",
       "      <td>Freehold</td>\n",
       "      <td>Jalan Gombak, Setapak, Kuala Lumpur</td>\n",
       "      <td>-</td>\n",
       "      <td>-</td>\n",
       "      <td>-</td>\n",
       "      <td>Service Residence</td>\n",
       "      <td>2</td>\n",
       "      <td>-</td>\n",
       "      <td>Non Bumi Lot</td>\n",
       "      <td>VE</td>\n",
       "      <td>30338</td>\n",
       "      <td>-</td>\n",
       "      <td>Bus Stop Starparc Point\\nBus Stop Setapak Cent...</td>\n",
       "      <td>Setapak Central</td>\n",
       "      <td>Park at Taman Tasik Danau Kota, Setapak, Kuala...</td>\n",
       "      <td>Sekolah Menengah Pendidikan Khas Cacat Penglih...</td>\n",
       "      <td>Columbia Asia Hospital</td>\n",
       "      <td>RM 340 000</td>\n",
       "      <td>NaN</td>\n",
       "      <td>NaN</td>\n",
       "      <td>NaN</td>\n",
       "    </tr>\n",
       "    <tr>\n",
       "      <th>1</th>\n",
       "      <td>FOR SALE @ RM250,000\\nIntroduction:\\n~ Pangsap...</td>\n",
       "      <td>3</td>\n",
       "      <td>2</td>\n",
       "      <td>980 sq.ft.</td>\n",
       "      <td>NaN</td>\n",
       "      <td>NaN</td>\n",
       "      <td>101683090</td>\n",
       "      <td>Apartment / Condominium, For sale</td>\n",
       "      <td>Parking, Security, Swimming Pool, Playground, ...</td>\n",
       "      <td>Kenanga (Park View Court)</td>\n",
       "      <td>-</td>\n",
       "      <td>Freehold</td>\n",
       "      <td>Jalan Kenanga 3/8, Melaka City, Melaka</td>\n",
       "      <td>-</td>\n",
       "      <td>-</td>\n",
       "      <td>-</td>\n",
       "      <td>Apartment</td>\n",
       "      <td>1</td>\n",
       "      <td>Low</td>\n",
       "      <td>Non Bumi Lot</td>\n",
       "      <td>E</td>\n",
       "      <td>30812</td>\n",
       "      <td>REN 15862</td>\n",
       "      <td>NaN</td>\n",
       "      <td>NaN</td>\n",
       "      <td>NaN</td>\n",
       "      <td>NaN</td>\n",
       "      <td>NaN</td>\n",
       "      <td>RM 250 000</td>\n",
       "      <td>NaN</td>\n",
       "      <td>NaN</td>\n",
       "      <td>NaN</td>\n",
       "    </tr>\n",
       "    <tr>\n",
       "      <th>2</th>\n",
       "      <td>[Below Market] Sri Lavender Apartment,Tmn Sepa...</td>\n",
       "      <td>3</td>\n",
       "      <td>2</td>\n",
       "      <td>1000 sq.ft.</td>\n",
       "      <td>NaN</td>\n",
       "      <td>NaN</td>\n",
       "      <td>103792905</td>\n",
       "      <td>Apartment / Condominium, For sale</td>\n",
       "      <td>Playground, Minimart, Jogging Track, Barbeque ...</td>\n",
       "      <td>Sri Lavender Apartment</td>\n",
       "      <td>TLS Group</td>\n",
       "      <td>Freehold</td>\n",
       "      <td>Jalan Sepakat Indah 2/1, Taman Sepakat Indah 2...</td>\n",
       "      <td>2007</td>\n",
       "      <td>13</td>\n",
       "      <td>445</td>\n",
       "      <td>Apartment</td>\n",
       "      <td>1</td>\n",
       "      <td>Medium</td>\n",
       "      <td>Non Bumi Lot</td>\n",
       "      <td>-</td>\n",
       "      <td>-</td>\n",
       "      <td>-</td>\n",
       "      <td>NaN</td>\n",
       "      <td>NaN</td>\n",
       "      <td>NaN</td>\n",
       "      <td>NaN</td>\n",
       "      <td>NaN</td>\n",
       "      <td>RM 230 000</td>\n",
       "      <td>SILK Sg Ramal (T) Toll Plaza</td>\n",
       "      <td>NaN</td>\n",
       "      <td>NaN</td>\n",
       "    </tr>\n",
       "    <tr>\n",
       "      <th>3</th>\n",
       "      <td>Flat Pandan Indah\\nJalan Pandan Indah 3/3\\nNon...</td>\n",
       "      <td>3</td>\n",
       "      <td>1</td>\n",
       "      <td>592 sq.ft.</td>\n",
       "      <td>NaN</td>\n",
       "      <td>NaN</td>\n",
       "      <td>103806240</td>\n",
       "      <td>Apartment / Condominium, For sale</td>\n",
       "      <td>Parking, Playground, Minimart, Jogging Track</td>\n",
       "      <td>Flat Pandan Indah</td>\n",
       "      <td>-</td>\n",
       "      <td>Leasehold</td>\n",
       "      <td>jalan pandan indah 3/3, Selangor, Ampang</td>\n",
       "      <td>-</td>\n",
       "      <td>-</td>\n",
       "      <td>-</td>\n",
       "      <td>Flat</td>\n",
       "      <td>1</td>\n",
       "      <td>-</td>\n",
       "      <td>Non Bumi Lot</td>\n",
       "      <td>E</td>\n",
       "      <td>11584</td>\n",
       "      <td>REN 16279</td>\n",
       "      <td>NaN</td>\n",
       "      <td>NaN</td>\n",
       "      <td>NaN</td>\n",
       "      <td>NaN</td>\n",
       "      <td>NaN</td>\n",
       "      <td>RM 158 000</td>\n",
       "      <td>NaN</td>\n",
       "      <td>NaN</td>\n",
       "      <td>NaN</td>\n",
       "    </tr>\n",
       "    <tr>\n",
       "      <th>4</th>\n",
       "      <td>* Open-concept Soho with balcony, unblock view...</td>\n",
       "      <td>1</td>\n",
       "      <td>1</td>\n",
       "      <td>467 sq.ft.</td>\n",
       "      <td>Sekolah Jenis Kebangsaan (T) Ladang Midlands</td>\n",
       "      <td>i-Soho i-City</td>\n",
       "      <td>103806234</td>\n",
       "      <td>Apartment / Condominium, For sale</td>\n",
       "      <td>Minimart, Gymnasium, Parking, Security</td>\n",
       "      <td>i-Soho @ i-City</td>\n",
       "      <td>i-Berhad</td>\n",
       "      <td>Freehold</td>\n",
       "      <td>Jalan Plumbum 7/102, Shah Alam, Selangor</td>\n",
       "      <td>-</td>\n",
       "      <td>43</td>\n",
       "      <td>956</td>\n",
       "      <td>Studio</td>\n",
       "      <td>-</td>\n",
       "      <td>Low</td>\n",
       "      <td>Bumi Lot</td>\n",
       "      <td>E</td>\n",
       "      <td>31916</td>\n",
       "      <td>-</td>\n",
       "      <td>Bus Stop at Persiaran Permai 1\\nBus Stop at Pe...</td>\n",
       "      <td>i-Soho i-City\\nGulati\\nCentral i-City Shopping...</td>\n",
       "      <td>Park 2 at Section 7, Shah Alam\\nPark 1 at Sect...</td>\n",
       "      <td>Sekolah Jenis Kebangsaan (T) Ladang Midlands\\n...</td>\n",
       "      <td>Osel Clinic (Shah Alam)\\nHospital Shah Alam</td>\n",
       "      <td>RM 305 000</td>\n",
       "      <td>NaN</td>\n",
       "      <td>NaN</td>\n",
       "      <td>NaN</td>\n",
       "    </tr>\n",
       "  </tbody>\n",
       "</table>\n",
       "</div>"
      ],
      "text/plain": [
       "                                         description Bedroom Bathroom  \\\n",
       "0  Iconic Building @ KL SETAPAK\\nNew launching & ...       4        2   \n",
       "1  FOR SALE @ RM250,000\\nIntroduction:\\n~ Pangsap...       3        2   \n",
       "2  [Below Market] Sri Lavender Apartment,Tmn Sepa...       3        2   \n",
       "3  Flat Pandan Indah\\nJalan Pandan Indah 3/3\\nNon...       3        1   \n",
       "4  * Open-concept Soho with balcony, unblock view...       1        1   \n",
       "\n",
       "  Property Size                                      Nearby School  \\\n",
       "0   1000 sq.ft.  Sekolah Menengah Pendidikan Khas Cacat Penglih...   \n",
       "1    980 sq.ft.                                                NaN   \n",
       "2   1000 sq.ft.                                                NaN   \n",
       "3    592 sq.ft.                                                NaN   \n",
       "4    467 sq.ft.       Sekolah Jenis Kebangsaan (T) Ladang Midlands   \n",
       "\n",
       "       Nearby Mall    Ad List                           Category  \\\n",
       "0  Setapak Central   98187451  Apartment / Condominium, For sale   \n",
       "1              NaN  101683090  Apartment / Condominium, For sale   \n",
       "2              NaN  103792905  Apartment / Condominium, For sale   \n",
       "3              NaN  103806240  Apartment / Condominium, For sale   \n",
       "4    i-Soho i-City  103806234  Apartment / Condominium, For sale   \n",
       "\n",
       "                                          Facilities  \\\n",
       "0                                                  -   \n",
       "1  Parking, Security, Swimming Pool, Playground, ...   \n",
       "2  Playground, Minimart, Jogging Track, Barbeque ...   \n",
       "3       Parking, Playground, Minimart, Jogging Track   \n",
       "4             Minimart, Gymnasium, Parking, Security   \n",
       "\n",
       "               Building Name          Developer Tenure Type  \\\n",
       "0          Kenwingston Platz  Kenwingston Group    Freehold   \n",
       "1  Kenanga (Park View Court)                  -    Freehold   \n",
       "2     Sri Lavender Apartment          TLS Group    Freehold   \n",
       "3          Flat Pandan Indah                  -   Leasehold   \n",
       "4            i-Soho @ i-City           i-Berhad    Freehold   \n",
       "\n",
       "                                             Address Completion Year  \\\n",
       "0                Jalan Gombak, Setapak, Kuala Lumpur               -   \n",
       "1             Jalan Kenanga 3/8, Melaka City, Melaka               -   \n",
       "2  Jalan Sepakat Indah 2/1, Taman Sepakat Indah 2...            2007   \n",
       "3           jalan pandan indah 3/3, Selangor, Ampang               -   \n",
       "4           Jalan Plumbum 7/102, Shah Alam, Selangor               -   \n",
       "\n",
       "  # of Floors Total Units      Property Type Parking Lot Floor Range  \\\n",
       "0           -           -  Service Residence           2           -   \n",
       "1           -           -          Apartment           1         Low   \n",
       "2          13         445          Apartment           1      Medium   \n",
       "3           -           -               Flat           1           -   \n",
       "4          43         956             Studio           -         Low   \n",
       "\n",
       "     Land Title Firm Type Firm Number REN Number  \\\n",
       "0  Non Bumi Lot        VE       30338          -   \n",
       "1  Non Bumi Lot         E       30812  REN 15862   \n",
       "2  Non Bumi Lot         -           -          -   \n",
       "3  Non Bumi Lot         E       11584  REN 16279   \n",
       "4      Bumi Lot         E       31916          -   \n",
       "\n",
       "                                            Bus Stop  \\\n",
       "0  Bus Stop Starparc Point\\nBus Stop Setapak Cent...   \n",
       "1                                                NaN   \n",
       "2                                                NaN   \n",
       "3                                                NaN   \n",
       "4  Bus Stop at Persiaran Permai 1\\nBus Stop at Pe...   \n",
       "\n",
       "                                                Mall  \\\n",
       "0                                    Setapak Central   \n",
       "1                                                NaN   \n",
       "2                                                NaN   \n",
       "3                                                NaN   \n",
       "4  i-Soho i-City\\nGulati\\nCentral i-City Shopping...   \n",
       "\n",
       "                                                Park  \\\n",
       "0  Park at Taman Tasik Danau Kota, Setapak, Kuala...   \n",
       "1                                                NaN   \n",
       "2                                                NaN   \n",
       "3                                                NaN   \n",
       "4  Park 2 at Section 7, Shah Alam\\nPark 1 at Sect...   \n",
       "\n",
       "                                              School  \\\n",
       "0  Sekolah Menengah Pendidikan Khas Cacat Penglih...   \n",
       "1                                                NaN   \n",
       "2                                                NaN   \n",
       "3                                                NaN   \n",
       "4  Sekolah Jenis Kebangsaan (T) Ladang Midlands\\n...   \n",
       "\n",
       "                                      Hospital       price  \\\n",
       "0                       Columbia Asia Hospital  RM 340 000   \n",
       "1                                          NaN  RM 250 000   \n",
       "2                                          NaN  RM 230 000   \n",
       "3                                          NaN  RM 158 000   \n",
       "4  Osel Clinic (Shah Alam)\\nHospital Shah Alam  RM 305 000   \n",
       "\n",
       "                        Highway Nearby Railway Station Railway Station  \n",
       "0                           NaN                    NaN             NaN  \n",
       "1                           NaN                    NaN             NaN  \n",
       "2  SILK Sg Ramal (T) Toll Plaza                    NaN             NaN  \n",
       "3                           NaN                    NaN             NaN  \n",
       "4                           NaN                    NaN             NaN  "
      ]
     },
     "execution_count": 77,
     "metadata": {},
     "output_type": "execute_result"
    }
   ],
   "source": [
    "df.head(5) "
   ]
  },
  {
   "cell_type": "code",
   "execution_count": 78,
   "metadata": {},
   "outputs": [],
   "source": [
    "columns_to_drop = ['description','Nearby Mall','Nearby School','Ad List','Nearby Railway Station']\n",
    "df.drop(columns=columns_to_drop,inplace=True)"
   ]
  },
  {
   "cell_type": "code",
   "execution_count": 79,
   "metadata": {},
   "outputs": [
    {
     "data": {
      "text/plain": [
       "0               -\n",
       "1       REN 15862\n",
       "2               -\n",
       "3       REN 16279\n",
       "4               -\n",
       "          ...    \n",
       "3995            -\n",
       "3996            -\n",
       "3997            -\n",
       "3998            -\n",
       "3999    REN 33845\n",
       "Name: REN Number, Length: 4000, dtype: object"
      ]
     },
     "execution_count": 79,
     "metadata": {},
     "output_type": "execute_result"
    }
   ],
   "source": [
    "# Identifying the structure of column \"REN Number\" \n",
    "df[\"REN Number\"]"
   ]
  },
  {
   "cell_type": "code",
   "execution_count": 80,
   "metadata": {},
   "outputs": [
    {
     "data": {
      "text/plain": [
       "Bedroom               0\n",
       "Bathroom              0\n",
       "Property Size         0\n",
       "Category              0\n",
       "Facilities            0\n",
       "Building Name         0\n",
       "Developer             0\n",
       "Tenure Type           0\n",
       "Address               0\n",
       "Completion Year       0\n",
       "# of Floors           0\n",
       "Total Units           0\n",
       "Property Type         0\n",
       "Parking Lot           0\n",
       "Floor Range           0\n",
       "Land Title            0\n",
       "Firm Type           203\n",
       "Firm Number         203\n",
       "REN Number          203\n",
       "Bus Stop           3292\n",
       "Mall               3525\n",
       "Park               3193\n",
       "School             3052\n",
       "Hospital           3657\n",
       "price                 0\n",
       "Highway            3859\n",
       "Railway Station    3515\n",
       "dtype: int64"
      ]
     },
     "execution_count": 80,
     "metadata": {},
     "output_type": "execute_result"
    }
   ],
   "source": [
    "df.isnull().sum()"
   ]
  },
  {
   "cell_type": "code",
   "execution_count": 81,
   "metadata": {},
   "outputs": [
    {
     "name": "stdout",
     "output_type": "stream",
     "text": [
      "\n",
      "Unique values in column 'Bedroom': ['4', '3', '1', '2', '5', '6', '-', '10', '8'] \n",
      "\n",
      "\n",
      "Unique values in column 'Bathroom': ['2', '1', '3', '4', '5', '-', '6', '7', '8'] \n",
      "\n",
      "\n",
      "Unique values in column 'Category': ['Apartment / Condominium, For sale'] \n",
      "\n",
      "\n",
      "Unique values in column 'Tenure Type': ['Freehold', 'Leasehold'] \n",
      "\n",
      "\n",
      "Unique values in column 'Completion Year': ['-', '2007', '2010', '2000', '2008', '2021', '2016', '1990', '1998', '2020', '2018', '2015', '2019', '2014', '2002', '1999', '2017', '2006', '2023', '2011', '2003', '2013', '2022', '1993', '1995', '1997', '2012', '1996', '2009', '2001', '2005', '2004', '1989', '2026', '2024', '2025', '1994', '1992', '1991', '1987', '1985'] \n",
      "\n",
      "\n",
      "Unique values in column '# of Floors': ['-', '13', '43', '19', '5', '12', '435', '18', '24', '10', '33', '44', '17', '25', '4', '35', '26', '29', '21', '30', '41', '16', '15', '42', '22', '23', '20', '27', '38', '31', '9', '8', '11', '14', '34', '32', '6', '28', '40', '55', '486', '49', '60', '46', '37', '7', '36', '2', '45', '3', '63', '39', '48', '58', '50', '135', '47', '500', '56', '504', '52'] \n",
      "\n",
      "\n",
      "Unique values in column 'Property Type': ['Service Residence', 'Apartment', 'Flat', 'Studio', 'Condominium', 'Others', 'Townhouse Condo', 'Duplex'] \n",
      "\n",
      "\n",
      "Unique values in column 'Parking Lot': ['2', '1', '-', '3', '4', '5', '9', '10', '6'] \n",
      "\n",
      "\n",
      "Unique values in column 'Floor Range': ['-', 'Low', 'Medium', 'High'] \n",
      "\n",
      "\n",
      "Unique values in column 'Land Title': ['Non Bumi Lot', 'Bumi Lot', 'Malay Reserved'] \n",
      "\n",
      "\n",
      "Unique values in column 'Firm Type': ['VE', 'E', '-', 'VEPM', 'AE', nan, 'V', 'EPM', 'PM'] \n",
      "\n",
      "\n",
      "Unique values in column 'Hospital': ['Columbia Asia Hospital', nan, 'Osel Clinic (Shah Alam)\\nHospital Shah Alam', 'MSU Medical Centre', 'Poliklinik An Nisa', 'KPJ Tawakkal Specialist Hospital\\nHospital Tawakal', 'KPJ Ampang Puteri Specialist Hospital\\nGleneagles\\xa0Kuala Lumpur', 'National Institute of Health', 'Shi Yi Tang International Sdn Bhd', 'Pusat Perubatan Nluri\\nHospital Angkatan Tentera Tuanku Mizan', 'Pantai Hospital Ampang', 'Gleneagles\\xa0Kuala Lumpur', 'Hospital UiTM Selayang\\nHospital Selayang', \"London Children's Clinic\", 'Columbia Asia Hospital\\nOhana Specialist Hospital', 'KPJ Ampang Puteri Specialist Hospital', 'Ohana Specialist Hospital', 'Hospital Pakar Sentosa', 'Pusat Perubatan Nluri', 'National Heart Institute', 'Columbia Asia Hospital Puchong', 'Thomson Hospital Kota Damansara', 'Global Doctors Hospital', 'Hospital Angkatan Tentera Tuanku Mizan', 'Klinik Dr Bazilah Shah Alam', 'Pusat Kesihatan Kampong Melayu Subang', 'Hospital Cyberjaya', 'National Heart Institute\\nWisma Rekod (Wisma Kayu)\\nNational Blood Bank Malaysia\\nJabatan Psiakitri\\nInstitut Kajisaraf Tunku Abdul Rahman(IKTAR)\\nKlinik Pergigian Institut Pediatrik\\nInstitut Pediatrik\\nBlok Kejuruteraan\\nRadioterapi\\nHospital Kuala Lumpur\\nAl-Islam Specialist Hospital\\nJabatan Sajian Diatetik\\nDewan Utama', 'Osel Clinic (Shah Alam)', 'Kids Clinic', 'KPJ Klang Specialist Hospital', 'Kelana Jaya Medical Centre', 'Pantai Hospital', 'Pusat Pakar UKM\\nHospital Pakar Kanak-Kanak Universiti Kebangsaan Malaysia\\nHospital Canselor Tuanku Muhriz UKM\\nHospital Rehabilitasi Cheras', 'Klinik Dr Bazilah\\nHospital Az-Zahrah\\nHospital An-Nur', 'Sunway Medical Centre', 'Pantai Medical Center Cheras', 'National Heart Institute\\nNational Blood Bank Malaysia\\nWisma Rekod (Wisma Kayu)\\nJabatan Psiakitri\\nInstitut Kajisaraf Tunku Abdul Rahman(IKTAR)\\nBlok Kejuruteraan\\nRadioterapi\\nKlinik Pergigian Institut Pediatrik\\nInstitut Pediatrik\\nHospital Kuala Lumpur\\nJabatan Sajian Diatetik', 'Pantai Medical Center Klang', 'Sungai Long Specialist Hospital', 'Manipal Hospitals Klang', 'QHC Medical Center', 'Kajang Plaza Medical Centre', 'Sunway Medical Centre Velocity', 'Hospital Canselor Tuanku Muhriz UKM', 'Lourdes Medical Centre', 'Sentul Medical Centre\\nLourdes Medical Centre', 'Al-Islam Specialist Hospital', 'KPJ Tawakkal Specialist Hospital\\nHospital Tawakal\\nSentul Medical Centre\\nLourdes Medical Centre', 'Hospital Canselor Tuanku Muhriz UKM\\nPusat Pakar UKM', 'Hospital Umra', 'Hospital Kajang', 'KPJ Rawang Specialist Hospital', 'Lourdes Medical Centre\\nSentul Medical Centre', 'Manipal Hospitals Klang\\nHospital Tengku Ampuan Rahimah\\nPantai Medical Center Klang', 'ParkCity Medical Centre', 'Chinese Maternity Hospital\\nHospital Tung Shin', 'KL eye Specialist Centre', 'Tun Hussein Onn National Eye Hospital', 'Hospital Angkatan Tentera Tuanku Mizan\\nPusat Perubatan Nluri', 'MSU Medical Centre\\nKlinik Dr Bazilah Shah Alam', 'Columbia Asia Hospital Klang', 'KPJ Selangor Specialist Hospital', 'Columbia Asia Hospital Cheras', \"Avisena Specialist Hospital\\nAVISENA Women's & Children's Specialist Hospital\", 'Taman Desa Medical Centre', 'Damai Service Hospital\\nKPJ Sentosa Specialist Hospital\\nLourdes Medical Centre', 'Prince Court Medical Centre', 'Kajang Plaza Medical Centre\\nColumbia Asia Hospital Puchong', 'Hospital Selayang', 'Hospital Rehabilitasi Cheras\\nHospital Pakar Kanak-Kanak Universiti Kebangsaan Malaysia\\nPusat Pakar UKM\\nHospital Canselor Tuanku Muhriz UKM', 'Ampang Hospital', 'Avisena Specialist Hospital', 'Ampang Hospital\\nPantai Hospital Ampang', 'Hospital Selayang\\nHospital UiTM Selayang', 'Lourdes Medical Centre\\nSentul Medical Centre\\nDamai Service Hospital\\nKPJ Sentosa Specialist Hospital', 'Columbia Asia Hospital Bukit Rimau', 'Andorra Women and Children Hospital', 'KPJ Sentosa Specialist Hospital\\nDamai Service Hospital\\nKomples Rawatan & Rawatan Harian (SCACC)\\nDermatologi\\nKompleks Dewan Bedah (IUN)\\nJabatan Rehabilisasi\\nX-Ray\\nJabatan Patologi\\nEmergency & Trauma\\nSentul Medical Centre\\nJabatan Sajian Diatetik\\nDewan Utama\\nHospital Kuala Lumpur\\nLourdes Medical Centre\\nInstitut Pediatrik\\nKlinik Pergigian Institut Pediatrik\\nRadioterapi\\nKPJ Tawakkal Specialist Hospital\\nInstitut Kajisaraf Tunku Abdul Rahman(IKTAR)\\nJabatan Psiakitri\\nHospital Tawakal\\nBlok Kejuruteraan\\nWisma Rekod (Wisma Kayu)', 'Hospital Tung Shin\\nChinese Maternity Hospital'] \n",
      "\n",
      "\n",
      "Unique values in column 'Highway': [nan, 'SILK Sg Ramal (T) Toll Plaza', 'Puchong West Toll Plaza', 'Mines South Toll Plaza', 'Batu Toll Plaza', 'Loke Yew Toll Plaza', 'Seafield Toll Plaza', 'KESAS Kemuning Toll Plaza', 'Jalan Duta Toll Plaza\\nPlaza Toll Bukit Kiara', 'Jalan Duta Toll Plaza', 'Segambut Toll Plaza', 'SILK Bukit Kajang Toll Plaza (Eastward)', 'SILK Sungai Long Toll Plaza', 'Shah Alam Toll Plaza', 'Subang Toll Plaza', 'Petaling Jaya Toll Plaza\\nKESAS Sunway Toll Plaza', 'Sungai Buloh Toll Plaza', 'Plaza Toll Bukit Kiara', 'SILK Bukit Kajang Toll Plaza (Eastward)\\nSILK Bukit Kajang Toll Plaza (Westward)', 'SILK Sungai Balak Toll Plaza', 'Putra Heights Toll Plaza', 'SILK Bukit Kajang Toll Plaza (Westward)\\nSILK Bukit Kajang Toll Plaza (Eastward)', 'Kota Damansara Toll Plaza', 'KESAS Awan Besar East Toll Plaza', 'USJ Toll Plaza', 'Puchong South Toll Plaza', 'NNKSB2 Toll Plaza', 'Pantai Dalam Toll Plaza\\nPantai Dalam West Toll Plaza', 'KESAS Sunway Toll Plaza\\nPetaling Jaya Toll Plaza', 'Segambut Toll Plaza\\nJalan Duta Toll Plaza', 'PJS 5 Toll Plaza', 'SILK Sg Ramal (T) Toll Plaza\\nSILK Sg Ramal (B) Toll Plaza'] \n",
      "\n"
     ]
    }
   ],
   "source": [
    "# Checking for unique values in each column \n",
    "all_features = df.columns\n",
    "\n",
    "for i in all_features:\n",
    "    unique_values = df[i].unique()\n",
    "\n",
    "    if len(unique_values) <= 100:\n",
    "        print(f\"\\nUnique values in column '{i}': {unique_values.tolist()} \\n\")  \n"
   ]
  },
  {
   "cell_type": "code",
   "execution_count": 82,
   "metadata": {},
   "outputs": [
    {
     "data": {
      "text/html": [
       "<div>\n",
       "<style scoped>\n",
       "    .dataframe tbody tr th:only-of-type {\n",
       "        vertical-align: middle;\n",
       "    }\n",
       "\n",
       "    .dataframe tbody tr th {\n",
       "        vertical-align: top;\n",
       "    }\n",
       "\n",
       "    .dataframe thead th {\n",
       "        text-align: right;\n",
       "    }\n",
       "</style>\n",
       "<table border=\"1\" class=\"dataframe\">\n",
       "  <thead>\n",
       "    <tr style=\"text-align: right;\">\n",
       "      <th></th>\n",
       "      <th>index</th>\n",
       "      <th>0</th>\n",
       "    </tr>\n",
       "  </thead>\n",
       "  <tbody>\n",
       "    <tr>\n",
       "      <th>0</th>\n",
       "      <td>Bedroom</td>\n",
       "      <td>True</td>\n",
       "    </tr>\n",
       "    <tr>\n",
       "      <th>1</th>\n",
       "      <td>Bathroom</td>\n",
       "      <td>True</td>\n",
       "    </tr>\n",
       "    <tr>\n",
       "      <th>2</th>\n",
       "      <td>Property Size</td>\n",
       "      <td>False</td>\n",
       "    </tr>\n",
       "    <tr>\n",
       "      <th>3</th>\n",
       "      <td>Category</td>\n",
       "      <td>False</td>\n",
       "    </tr>\n",
       "    <tr>\n",
       "      <th>4</th>\n",
       "      <td>Facilities</td>\n",
       "      <td>True</td>\n",
       "    </tr>\n",
       "    <tr>\n",
       "      <th>5</th>\n",
       "      <td>Building Name</td>\n",
       "      <td>True</td>\n",
       "    </tr>\n",
       "    <tr>\n",
       "      <th>6</th>\n",
       "      <td>Developer</td>\n",
       "      <td>True</td>\n",
       "    </tr>\n",
       "    <tr>\n",
       "      <th>7</th>\n",
       "      <td>Tenure Type</td>\n",
       "      <td>False</td>\n",
       "    </tr>\n",
       "    <tr>\n",
       "      <th>8</th>\n",
       "      <td>Address</td>\n",
       "      <td>True</td>\n",
       "    </tr>\n",
       "    <tr>\n",
       "      <th>9</th>\n",
       "      <td>Completion Year</td>\n",
       "      <td>True</td>\n",
       "    </tr>\n",
       "    <tr>\n",
       "      <th>10</th>\n",
       "      <td># of Floors</td>\n",
       "      <td>True</td>\n",
       "    </tr>\n",
       "    <tr>\n",
       "      <th>11</th>\n",
       "      <td>Total Units</td>\n",
       "      <td>True</td>\n",
       "    </tr>\n",
       "    <tr>\n",
       "      <th>12</th>\n",
       "      <td>Property Type</td>\n",
       "      <td>False</td>\n",
       "    </tr>\n",
       "    <tr>\n",
       "      <th>13</th>\n",
       "      <td>Parking Lot</td>\n",
       "      <td>True</td>\n",
       "    </tr>\n",
       "    <tr>\n",
       "      <th>14</th>\n",
       "      <td>Floor Range</td>\n",
       "      <td>True</td>\n",
       "    </tr>\n",
       "    <tr>\n",
       "      <th>15</th>\n",
       "      <td>Land Title</td>\n",
       "      <td>False</td>\n",
       "    </tr>\n",
       "    <tr>\n",
       "      <th>16</th>\n",
       "      <td>Firm Type</td>\n",
       "      <td>True</td>\n",
       "    </tr>\n",
       "    <tr>\n",
       "      <th>17</th>\n",
       "      <td>Firm Number</td>\n",
       "      <td>True</td>\n",
       "    </tr>\n",
       "    <tr>\n",
       "      <th>18</th>\n",
       "      <td>REN Number</td>\n",
       "      <td>True</td>\n",
       "    </tr>\n",
       "    <tr>\n",
       "      <th>19</th>\n",
       "      <td>Bus Stop</td>\n",
       "      <td>False</td>\n",
       "    </tr>\n",
       "    <tr>\n",
       "      <th>20</th>\n",
       "      <td>Mall</td>\n",
       "      <td>False</td>\n",
       "    </tr>\n",
       "    <tr>\n",
       "      <th>21</th>\n",
       "      <td>Park</td>\n",
       "      <td>False</td>\n",
       "    </tr>\n",
       "    <tr>\n",
       "      <th>22</th>\n",
       "      <td>School</td>\n",
       "      <td>False</td>\n",
       "    </tr>\n",
       "    <tr>\n",
       "      <th>23</th>\n",
       "      <td>Hospital</td>\n",
       "      <td>False</td>\n",
       "    </tr>\n",
       "    <tr>\n",
       "      <th>24</th>\n",
       "      <td>price</td>\n",
       "      <td>False</td>\n",
       "    </tr>\n",
       "    <tr>\n",
       "      <th>25</th>\n",
       "      <td>Highway</td>\n",
       "      <td>False</td>\n",
       "    </tr>\n",
       "    <tr>\n",
       "      <th>26</th>\n",
       "      <td>Railway Station</td>\n",
       "      <td>False</td>\n",
       "    </tr>\n",
       "  </tbody>\n",
       "</table>\n",
       "</div>"
      ],
      "text/plain": [
       "              index      0\n",
       "0           Bedroom   True\n",
       "1          Bathroom   True\n",
       "2     Property Size  False\n",
       "3          Category  False\n",
       "4        Facilities   True\n",
       "5     Building Name   True\n",
       "6         Developer   True\n",
       "7       Tenure Type  False\n",
       "8           Address   True\n",
       "9   Completion Year   True\n",
       "10      # of Floors   True\n",
       "11      Total Units   True\n",
       "12    Property Type  False\n",
       "13      Parking Lot   True\n",
       "14      Floor Range   True\n",
       "15       Land Title  False\n",
       "16        Firm Type   True\n",
       "17      Firm Number   True\n",
       "18       REN Number   True\n",
       "19         Bus Stop  False\n",
       "20             Mall  False\n",
       "21             Park  False\n",
       "22           School  False\n",
       "23         Hospital  False\n",
       "24            price  False\n",
       "25          Highway  False\n",
       "26  Railway Station  False"
      ]
     },
     "execution_count": 82,
     "metadata": {},
     "output_type": "execute_result"
    }
   ],
   "source": [
    "# Checking if theres any row in data frame with '-'\n",
    "df[df == '-'].any().reset_index() "
   ]
  },
  {
   "cell_type": "code",
   "execution_count": 83,
   "metadata": {},
   "outputs": [],
   "source": [
    "#converting columns with numbers that contain '-' into 0 \n",
    "df[\"Bedroom\"] = df[\"Bedroom\"].replace('-','0')\n",
    "df[\"Bathroom\"] = df[\"Bathroom\"].replace('-','0') \n",
    "df[\"# of Floors\"] = df[\"# of Floors\"].replace('-','0')  \n",
    "df[\"Parking Lot\"] = df[\"Parking Lot\"].replace('-','0')  \n",
    "df[\"Total Units\"] = df[\"Total Units\"].replace('-','0')  \n",
    "df[\"Parking Lot\"] = df[\"Parking Lot\"].replace('-','0')  \n",
    "\n",
    "#converting columns with strings that contain '-' into 'Unknown' \n",
    "df[\"Facilities\"] = df[\"Bedroom\"].replace('-','Unknown')\n",
    "df[\"Building Name\"] = df[\"Building Name\"].replace('-','Unknown')\n",
    "df[\"Developer\"] = df[\"Developer\"].replace('-','Unknown')\n",
    "df[\"Completion Year\"] = df[\"Completion Year\"].replace('-','Unknown')\n",
    "df[\"Floor Range\"] = df[\"Floor Range\"].replace('-','Unknown')\n",
    "df[\"Firm Number\"] = df[\"Firm Number\"].replace('-','Unknown')\n",
    "df[\"Firm Type\"] = df[\"Firm Type\"].replace('-','Unknown')\n",
    "df[\"REN Number\"] = df[\"REN Number\"].replace('-','Unknown')\n",
    "\n",
    "#dropping rows of df which contain '-' in \"Address\" column. This is because the state which can be extracted from address is one of the important feature in prediction. \n",
    "df.drop(df[(df['Address'] == '-')].index, inplace=True)\n"
   ]
  },
  {
   "cell_type": "code",
   "execution_count": 84,
   "metadata": {},
   "outputs": [
    {
     "data": {
      "text/html": [
       "<div>\n",
       "<style scoped>\n",
       "    .dataframe tbody tr th:only-of-type {\n",
       "        vertical-align: middle;\n",
       "    }\n",
       "\n",
       "    .dataframe tbody tr th {\n",
       "        vertical-align: top;\n",
       "    }\n",
       "\n",
       "    .dataframe thead th {\n",
       "        text-align: right;\n",
       "    }\n",
       "</style>\n",
       "<table border=\"1\" class=\"dataframe\">\n",
       "  <thead>\n",
       "    <tr style=\"text-align: right;\">\n",
       "      <th></th>\n",
       "      <th>index</th>\n",
       "      <th>0</th>\n",
       "    </tr>\n",
       "  </thead>\n",
       "  <tbody>\n",
       "    <tr>\n",
       "      <th>0</th>\n",
       "      <td>Bedroom</td>\n",
       "      <td>False</td>\n",
       "    </tr>\n",
       "    <tr>\n",
       "      <th>1</th>\n",
       "      <td>Bathroom</td>\n",
       "      <td>False</td>\n",
       "    </tr>\n",
       "    <tr>\n",
       "      <th>2</th>\n",
       "      <td>Property Size</td>\n",
       "      <td>False</td>\n",
       "    </tr>\n",
       "    <tr>\n",
       "      <th>3</th>\n",
       "      <td>Category</td>\n",
       "      <td>False</td>\n",
       "    </tr>\n",
       "    <tr>\n",
       "      <th>4</th>\n",
       "      <td>Facilities</td>\n",
       "      <td>False</td>\n",
       "    </tr>\n",
       "    <tr>\n",
       "      <th>5</th>\n",
       "      <td>Building Name</td>\n",
       "      <td>False</td>\n",
       "    </tr>\n",
       "    <tr>\n",
       "      <th>6</th>\n",
       "      <td>Developer</td>\n",
       "      <td>False</td>\n",
       "    </tr>\n",
       "    <tr>\n",
       "      <th>7</th>\n",
       "      <td>Tenure Type</td>\n",
       "      <td>False</td>\n",
       "    </tr>\n",
       "    <tr>\n",
       "      <th>8</th>\n",
       "      <td>Address</td>\n",
       "      <td>False</td>\n",
       "    </tr>\n",
       "    <tr>\n",
       "      <th>9</th>\n",
       "      <td>Completion Year</td>\n",
       "      <td>False</td>\n",
       "    </tr>\n",
       "    <tr>\n",
       "      <th>10</th>\n",
       "      <td># of Floors</td>\n",
       "      <td>False</td>\n",
       "    </tr>\n",
       "    <tr>\n",
       "      <th>11</th>\n",
       "      <td>Total Units</td>\n",
       "      <td>False</td>\n",
       "    </tr>\n",
       "    <tr>\n",
       "      <th>12</th>\n",
       "      <td>Property Type</td>\n",
       "      <td>False</td>\n",
       "    </tr>\n",
       "    <tr>\n",
       "      <th>13</th>\n",
       "      <td>Parking Lot</td>\n",
       "      <td>False</td>\n",
       "    </tr>\n",
       "    <tr>\n",
       "      <th>14</th>\n",
       "      <td>Floor Range</td>\n",
       "      <td>False</td>\n",
       "    </tr>\n",
       "    <tr>\n",
       "      <th>15</th>\n",
       "      <td>Land Title</td>\n",
       "      <td>False</td>\n",
       "    </tr>\n",
       "    <tr>\n",
       "      <th>16</th>\n",
       "      <td>Firm Type</td>\n",
       "      <td>False</td>\n",
       "    </tr>\n",
       "    <tr>\n",
       "      <th>17</th>\n",
       "      <td>Firm Number</td>\n",
       "      <td>False</td>\n",
       "    </tr>\n",
       "    <tr>\n",
       "      <th>18</th>\n",
       "      <td>REN Number</td>\n",
       "      <td>False</td>\n",
       "    </tr>\n",
       "    <tr>\n",
       "      <th>19</th>\n",
       "      <td>Bus Stop</td>\n",
       "      <td>False</td>\n",
       "    </tr>\n",
       "    <tr>\n",
       "      <th>20</th>\n",
       "      <td>Mall</td>\n",
       "      <td>False</td>\n",
       "    </tr>\n",
       "    <tr>\n",
       "      <th>21</th>\n",
       "      <td>Park</td>\n",
       "      <td>False</td>\n",
       "    </tr>\n",
       "    <tr>\n",
       "      <th>22</th>\n",
       "      <td>School</td>\n",
       "      <td>False</td>\n",
       "    </tr>\n",
       "    <tr>\n",
       "      <th>23</th>\n",
       "      <td>Hospital</td>\n",
       "      <td>False</td>\n",
       "    </tr>\n",
       "    <tr>\n",
       "      <th>24</th>\n",
       "      <td>price</td>\n",
       "      <td>False</td>\n",
       "    </tr>\n",
       "    <tr>\n",
       "      <th>25</th>\n",
       "      <td>Highway</td>\n",
       "      <td>False</td>\n",
       "    </tr>\n",
       "    <tr>\n",
       "      <th>26</th>\n",
       "      <td>Railway Station</td>\n",
       "      <td>False</td>\n",
       "    </tr>\n",
       "  </tbody>\n",
       "</table>\n",
       "</div>"
      ],
      "text/plain": [
       "              index      0\n",
       "0           Bedroom  False\n",
       "1          Bathroom  False\n",
       "2     Property Size  False\n",
       "3          Category  False\n",
       "4        Facilities  False\n",
       "5     Building Name  False\n",
       "6         Developer  False\n",
       "7       Tenure Type  False\n",
       "8           Address  False\n",
       "9   Completion Year  False\n",
       "10      # of Floors  False\n",
       "11      Total Units  False\n",
       "12    Property Type  False\n",
       "13      Parking Lot  False\n",
       "14      Floor Range  False\n",
       "15       Land Title  False\n",
       "16        Firm Type  False\n",
       "17      Firm Number  False\n",
       "18       REN Number  False\n",
       "19         Bus Stop  False\n",
       "20             Mall  False\n",
       "21             Park  False\n",
       "22           School  False\n",
       "23         Hospital  False\n",
       "24            price  False\n",
       "25          Highway  False\n",
       "26  Railway Station  False"
      ]
     },
     "execution_count": 84,
     "metadata": {},
     "output_type": "execute_result"
    }
   ],
   "source": [
    "# Now we can see that Bedroom doesnt have '-' as we replaced all of them with '0'\n",
    "df[df == '-'].any().reset_index()"
   ]
  },
  {
   "cell_type": "code",
   "execution_count": 85,
   "metadata": {},
   "outputs": [
    {
     "data": {
      "text/html": [
       "<div>\n",
       "<style scoped>\n",
       "    .dataframe tbody tr th:only-of-type {\n",
       "        vertical-align: middle;\n",
       "    }\n",
       "\n",
       "    .dataframe tbody tr th {\n",
       "        vertical-align: top;\n",
       "    }\n",
       "\n",
       "    .dataframe thead th {\n",
       "        text-align: right;\n",
       "    }\n",
       "</style>\n",
       "<table border=\"1\" class=\"dataframe\">\n",
       "  <thead>\n",
       "    <tr style=\"text-align: right;\">\n",
       "      <th></th>\n",
       "      <th>index</th>\n",
       "      <th>0</th>\n",
       "    </tr>\n",
       "  </thead>\n",
       "  <tbody>\n",
       "    <tr>\n",
       "      <th>0</th>\n",
       "      <td>Bedroom</td>\n",
       "      <td>False</td>\n",
       "    </tr>\n",
       "    <tr>\n",
       "      <th>1</th>\n",
       "      <td>Bathroom</td>\n",
       "      <td>False</td>\n",
       "    </tr>\n",
       "    <tr>\n",
       "      <th>2</th>\n",
       "      <td>Property Size</td>\n",
       "      <td>False</td>\n",
       "    </tr>\n",
       "    <tr>\n",
       "      <th>3</th>\n",
       "      <td>Category</td>\n",
       "      <td>False</td>\n",
       "    </tr>\n",
       "    <tr>\n",
       "      <th>4</th>\n",
       "      <td>Facilities</td>\n",
       "      <td>False</td>\n",
       "    </tr>\n",
       "    <tr>\n",
       "      <th>5</th>\n",
       "      <td>Building Name</td>\n",
       "      <td>False</td>\n",
       "    </tr>\n",
       "    <tr>\n",
       "      <th>6</th>\n",
       "      <td>Developer</td>\n",
       "      <td>False</td>\n",
       "    </tr>\n",
       "    <tr>\n",
       "      <th>7</th>\n",
       "      <td>Tenure Type</td>\n",
       "      <td>False</td>\n",
       "    </tr>\n",
       "    <tr>\n",
       "      <th>8</th>\n",
       "      <td>Address</td>\n",
       "      <td>False</td>\n",
       "    </tr>\n",
       "    <tr>\n",
       "      <th>9</th>\n",
       "      <td>Completion Year</td>\n",
       "      <td>False</td>\n",
       "    </tr>\n",
       "    <tr>\n",
       "      <th>10</th>\n",
       "      <td># of Floors</td>\n",
       "      <td>False</td>\n",
       "    </tr>\n",
       "    <tr>\n",
       "      <th>11</th>\n",
       "      <td>Total Units</td>\n",
       "      <td>False</td>\n",
       "    </tr>\n",
       "    <tr>\n",
       "      <th>12</th>\n",
       "      <td>Property Type</td>\n",
       "      <td>False</td>\n",
       "    </tr>\n",
       "    <tr>\n",
       "      <th>13</th>\n",
       "      <td>Parking Lot</td>\n",
       "      <td>False</td>\n",
       "    </tr>\n",
       "    <tr>\n",
       "      <th>14</th>\n",
       "      <td>Floor Range</td>\n",
       "      <td>False</td>\n",
       "    </tr>\n",
       "    <tr>\n",
       "      <th>15</th>\n",
       "      <td>Land Title</td>\n",
       "      <td>False</td>\n",
       "    </tr>\n",
       "    <tr>\n",
       "      <th>16</th>\n",
       "      <td>Firm Type</td>\n",
       "      <td>True</td>\n",
       "    </tr>\n",
       "    <tr>\n",
       "      <th>17</th>\n",
       "      <td>Firm Number</td>\n",
       "      <td>True</td>\n",
       "    </tr>\n",
       "    <tr>\n",
       "      <th>18</th>\n",
       "      <td>REN Number</td>\n",
       "      <td>True</td>\n",
       "    </tr>\n",
       "    <tr>\n",
       "      <th>19</th>\n",
       "      <td>Bus Stop</td>\n",
       "      <td>True</td>\n",
       "    </tr>\n",
       "    <tr>\n",
       "      <th>20</th>\n",
       "      <td>Mall</td>\n",
       "      <td>True</td>\n",
       "    </tr>\n",
       "    <tr>\n",
       "      <th>21</th>\n",
       "      <td>Park</td>\n",
       "      <td>True</td>\n",
       "    </tr>\n",
       "    <tr>\n",
       "      <th>22</th>\n",
       "      <td>School</td>\n",
       "      <td>True</td>\n",
       "    </tr>\n",
       "    <tr>\n",
       "      <th>23</th>\n",
       "      <td>Hospital</td>\n",
       "      <td>True</td>\n",
       "    </tr>\n",
       "    <tr>\n",
       "      <th>24</th>\n",
       "      <td>price</td>\n",
       "      <td>False</td>\n",
       "    </tr>\n",
       "    <tr>\n",
       "      <th>25</th>\n",
       "      <td>Highway</td>\n",
       "      <td>True</td>\n",
       "    </tr>\n",
       "    <tr>\n",
       "      <th>26</th>\n",
       "      <td>Railway Station</td>\n",
       "      <td>True</td>\n",
       "    </tr>\n",
       "  </tbody>\n",
       "</table>\n",
       "</div>"
      ],
      "text/plain": [
       "              index      0\n",
       "0           Bedroom  False\n",
       "1          Bathroom  False\n",
       "2     Property Size  False\n",
       "3          Category  False\n",
       "4        Facilities  False\n",
       "5     Building Name  False\n",
       "6         Developer  False\n",
       "7       Tenure Type  False\n",
       "8           Address  False\n",
       "9   Completion Year  False\n",
       "10      # of Floors  False\n",
       "11      Total Units  False\n",
       "12    Property Type  False\n",
       "13      Parking Lot  False\n",
       "14      Floor Range  False\n",
       "15       Land Title  False\n",
       "16        Firm Type   True\n",
       "17      Firm Number   True\n",
       "18       REN Number   True\n",
       "19         Bus Stop   True\n",
       "20             Mall   True\n",
       "21             Park   True\n",
       "22           School   True\n",
       "23         Hospital   True\n",
       "24            price  False\n",
       "25          Highway   True\n",
       "26  Railway Station   True"
      ]
     },
     "execution_count": 85,
     "metadata": {},
     "output_type": "execute_result"
    }
   ],
   "source": [
    "# Checking for null values\n",
    "df.isnull().any().reset_index() "
   ]
  },
  {
   "cell_type": "code",
   "execution_count": 86,
   "metadata": {},
   "outputs": [],
   "source": [
    "# Fill missing values column with 'Unknown'\n",
    "df['Firm Type'] = df['Firm Type'].fillna('Unknown')\n",
    "df['Firm Number'] = df['Firm Number'].fillna('Unknown')\n",
    "df['REN Number'] = df['REN Number'].fillna('Unknown')\n",
    "df['Bus Stop'] = df['Bus Stop'].fillna('Unknown')\n",
    "df['Mall'] = df['Mall'].fillna('Unknown')\n",
    "df['Park'] = df['Park'].fillna('Unknown')\n",
    "df['School'] = df['School'].fillna('Unknown')\n",
    "df['Hospital'] = df['Hospital'].fillna('Unknown')\n",
    "df['Highway'] = df['Highway'].fillna('Unknown')\n",
    "df['Railway Station'] = df['Railway Station'].fillna('Unknown')"
   ]
  },
  {
   "cell_type": "code",
   "execution_count": 87,
   "metadata": {},
   "outputs": [
    {
     "data": {
      "text/html": [
       "<div>\n",
       "<style scoped>\n",
       "    .dataframe tbody tr th:only-of-type {\n",
       "        vertical-align: middle;\n",
       "    }\n",
       "\n",
       "    .dataframe tbody tr th {\n",
       "        vertical-align: top;\n",
       "    }\n",
       "\n",
       "    .dataframe thead th {\n",
       "        text-align: right;\n",
       "    }\n",
       "</style>\n",
       "<table border=\"1\" class=\"dataframe\">\n",
       "  <thead>\n",
       "    <tr style=\"text-align: right;\">\n",
       "      <th></th>\n",
       "      <th>index</th>\n",
       "      <th>0</th>\n",
       "    </tr>\n",
       "  </thead>\n",
       "  <tbody>\n",
       "    <tr>\n",
       "      <th>0</th>\n",
       "      <td>Bedroom</td>\n",
       "      <td>False</td>\n",
       "    </tr>\n",
       "    <tr>\n",
       "      <th>1</th>\n",
       "      <td>Bathroom</td>\n",
       "      <td>False</td>\n",
       "    </tr>\n",
       "    <tr>\n",
       "      <th>2</th>\n",
       "      <td>Property Size</td>\n",
       "      <td>False</td>\n",
       "    </tr>\n",
       "    <tr>\n",
       "      <th>3</th>\n",
       "      <td>Category</td>\n",
       "      <td>False</td>\n",
       "    </tr>\n",
       "    <tr>\n",
       "      <th>4</th>\n",
       "      <td>Facilities</td>\n",
       "      <td>False</td>\n",
       "    </tr>\n",
       "    <tr>\n",
       "      <th>5</th>\n",
       "      <td>Building Name</td>\n",
       "      <td>False</td>\n",
       "    </tr>\n",
       "    <tr>\n",
       "      <th>6</th>\n",
       "      <td>Developer</td>\n",
       "      <td>False</td>\n",
       "    </tr>\n",
       "    <tr>\n",
       "      <th>7</th>\n",
       "      <td>Tenure Type</td>\n",
       "      <td>False</td>\n",
       "    </tr>\n",
       "    <tr>\n",
       "      <th>8</th>\n",
       "      <td>Address</td>\n",
       "      <td>False</td>\n",
       "    </tr>\n",
       "    <tr>\n",
       "      <th>9</th>\n",
       "      <td>Completion Year</td>\n",
       "      <td>False</td>\n",
       "    </tr>\n",
       "    <tr>\n",
       "      <th>10</th>\n",
       "      <td># of Floors</td>\n",
       "      <td>False</td>\n",
       "    </tr>\n",
       "    <tr>\n",
       "      <th>11</th>\n",
       "      <td>Total Units</td>\n",
       "      <td>False</td>\n",
       "    </tr>\n",
       "    <tr>\n",
       "      <th>12</th>\n",
       "      <td>Property Type</td>\n",
       "      <td>False</td>\n",
       "    </tr>\n",
       "    <tr>\n",
       "      <th>13</th>\n",
       "      <td>Parking Lot</td>\n",
       "      <td>False</td>\n",
       "    </tr>\n",
       "    <tr>\n",
       "      <th>14</th>\n",
       "      <td>Floor Range</td>\n",
       "      <td>False</td>\n",
       "    </tr>\n",
       "    <tr>\n",
       "      <th>15</th>\n",
       "      <td>Land Title</td>\n",
       "      <td>False</td>\n",
       "    </tr>\n",
       "    <tr>\n",
       "      <th>16</th>\n",
       "      <td>Firm Type</td>\n",
       "      <td>False</td>\n",
       "    </tr>\n",
       "    <tr>\n",
       "      <th>17</th>\n",
       "      <td>Firm Number</td>\n",
       "      <td>False</td>\n",
       "    </tr>\n",
       "    <tr>\n",
       "      <th>18</th>\n",
       "      <td>REN Number</td>\n",
       "      <td>False</td>\n",
       "    </tr>\n",
       "    <tr>\n",
       "      <th>19</th>\n",
       "      <td>Bus Stop</td>\n",
       "      <td>False</td>\n",
       "    </tr>\n",
       "    <tr>\n",
       "      <th>20</th>\n",
       "      <td>Mall</td>\n",
       "      <td>False</td>\n",
       "    </tr>\n",
       "    <tr>\n",
       "      <th>21</th>\n",
       "      <td>Park</td>\n",
       "      <td>False</td>\n",
       "    </tr>\n",
       "    <tr>\n",
       "      <th>22</th>\n",
       "      <td>School</td>\n",
       "      <td>False</td>\n",
       "    </tr>\n",
       "    <tr>\n",
       "      <th>23</th>\n",
       "      <td>Hospital</td>\n",
       "      <td>False</td>\n",
       "    </tr>\n",
       "    <tr>\n",
       "      <th>24</th>\n",
       "      <td>price</td>\n",
       "      <td>False</td>\n",
       "    </tr>\n",
       "    <tr>\n",
       "      <th>25</th>\n",
       "      <td>Highway</td>\n",
       "      <td>False</td>\n",
       "    </tr>\n",
       "    <tr>\n",
       "      <th>26</th>\n",
       "      <td>Railway Station</td>\n",
       "      <td>False</td>\n",
       "    </tr>\n",
       "  </tbody>\n",
       "</table>\n",
       "</div>"
      ],
      "text/plain": [
       "              index      0\n",
       "0           Bedroom  False\n",
       "1          Bathroom  False\n",
       "2     Property Size  False\n",
       "3          Category  False\n",
       "4        Facilities  False\n",
       "5     Building Name  False\n",
       "6         Developer  False\n",
       "7       Tenure Type  False\n",
       "8           Address  False\n",
       "9   Completion Year  False\n",
       "10      # of Floors  False\n",
       "11      Total Units  False\n",
       "12    Property Type  False\n",
       "13      Parking Lot  False\n",
       "14      Floor Range  False\n",
       "15       Land Title  False\n",
       "16        Firm Type  False\n",
       "17      Firm Number  False\n",
       "18       REN Number  False\n",
       "19         Bus Stop  False\n",
       "20             Mall  False\n",
       "21             Park  False\n",
       "22           School  False\n",
       "23         Hospital  False\n",
       "24            price  False\n",
       "25          Highway  False\n",
       "26  Railway Station  False"
      ]
     },
     "execution_count": 87,
     "metadata": {},
     "output_type": "execute_result"
    }
   ],
   "source": [
    "df.isnull().any().reset_index() "
   ]
  },
  {
   "cell_type": "code",
   "execution_count": 88,
   "metadata": {},
   "outputs": [
    {
     "data": {
      "text/plain": [
       "Bedroom            0\n",
       "Bathroom           0\n",
       "Property Size      0\n",
       "Category           0\n",
       "Facilities         0\n",
       "Building Name      0\n",
       "Developer          0\n",
       "Tenure Type        0\n",
       "Address            0\n",
       "Completion Year    0\n",
       "# of Floors        0\n",
       "Total Units        0\n",
       "Property Type      0\n",
       "Parking Lot        0\n",
       "Floor Range        0\n",
       "Land Title         0\n",
       "Firm Type          0\n",
       "Firm Number        0\n",
       "REN Number         0\n",
       "Bus Stop           0\n",
       "Mall               0\n",
       "Park               0\n",
       "School             0\n",
       "Hospital           0\n",
       "price              0\n",
       "Highway            0\n",
       "Railway Station    0\n",
       "dtype: int64"
      ]
     },
     "execution_count": 88,
     "metadata": {},
     "output_type": "execute_result"
    }
   ],
   "source": [
    "# At this stage, all null values have been cleaned\n",
    "df.isnull().sum()"
   ]
  },
  {
   "cell_type": "code",
   "execution_count": 89,
   "metadata": {},
   "outputs": [],
   "source": [
    "malay_states_federal = ['johor','sabah', 'sarawak','selangor','kedah', 'kelantan', \n",
    "        'perak','pahang', 'perlis', 'penang', 'terengganu',\n",
    "        'melaka', 'negeri sembilan','kuala lumpur', 'labuan', 'putrajaya']\n",
    "\n",
    "def state_federal_extractor(address):\n",
    "    splitted_address = [i.strip().lower() for i in address.split(\",\")]\n",
    "\n",
    "    # Assumption has been made where we can identify the state at the last or second last index (only for this dfset).  \n",
    "    # This is because iterating through each part in splitted_address increases the time complexity \n",
    "    if splitted_address[-1] in malay_states_federal:\n",
    "        return splitted_address[-1]\n",
    "    elif splitted_address[-2] in malay_states_federal:\n",
    "        return splitted_address[-2]\n",
    "    else:\n",
    "        return None\n"
   ]
  },
  {
   "cell_type": "code",
   "execution_count": 90,
   "metadata": {},
   "outputs": [
    {
     "data": {
      "text/plain": [
       "(3913, 27)"
      ]
     },
     "execution_count": 90,
     "metadata": {},
     "output_type": "execute_result"
    }
   ],
   "source": [
    "# Checking the structure before extracting the address \n",
    "df.shape"
   ]
  },
  {
   "cell_type": "code",
   "execution_count": 91,
   "metadata": {},
   "outputs": [],
   "source": [
    "df[\"State\"] = df[\"Address\"].apply(state_federal_extractor)\n",
    "df[\"Property Size\"] = df[\"Property Size\"] .apply(lambda x: x.split(\"sq.ft\")[0].strip()) #convert \"1000 sq.ft.\" -> \"1000\"\n",
    "df[\"price\"] = df[\"price\"].apply(lambda x: x.split('RM')[-1].strip().replace(\" \", \"\")) #convert \"RM 250 000\" -> \"250 000\" -> \"250000\"\n",
    " \n",
    "#dropping rows that doesnt have \"State\" \n",
    "df.dropna(subset=['State'], inplace=True)"
   ]
  },
  {
   "cell_type": "code",
   "execution_count": 92,
   "metadata": {},
   "outputs": [
    {
     "data": {
      "text/plain": [
       "0        340000\n",
       "1        250000\n",
       "2        230000\n",
       "3        158000\n",
       "4        305000\n",
       "         ...   \n",
       "3995    1050000\n",
       "3996     345000\n",
       "3997     360000\n",
       "3998     535000\n",
       "3999     260000\n",
       "Name: price, Length: 3913, dtype: object"
      ]
     },
     "execution_count": 92,
     "metadata": {},
     "output_type": "execute_result"
    }
   ],
   "source": [
    "df.price"
   ]
  },
  {
   "cell_type": "code",
   "execution_count": 93,
   "metadata": {},
   "outputs": [
    {
     "data": {
      "text/plain": [
       "(3913, 28)"
      ]
     },
     "execution_count": 93,
     "metadata": {},
     "output_type": "execute_result"
    }
   ],
   "source": [
    "# Checking the structure after extracting the states and merging it to the dfframe. \n",
    "# From here , I can observe that , all states has been succesfully been extracted as before and after has the same structure in terms of rows. \n",
    "df.shape"
   ]
  },
  {
   "cell_type": "code",
   "execution_count": 94,
   "metadata": {},
   "outputs": [
    {
     "data": {
      "text/plain": [
       "Bedroom            0\n",
       "Bathroom           0\n",
       "Property Size      0\n",
       "Category           0\n",
       "Facilities         0\n",
       "Building Name      0\n",
       "Developer          0\n",
       "Tenure Type        0\n",
       "Address            0\n",
       "Completion Year    0\n",
       "# of Floors        0\n",
       "Total Units        0\n",
       "Property Type      0\n",
       "Parking Lot        0\n",
       "Floor Range        0\n",
       "Land Title         0\n",
       "Firm Type          0\n",
       "Firm Number        0\n",
       "REN Number         0\n",
       "Bus Stop           0\n",
       "Mall               0\n",
       "Park               0\n",
       "School             0\n",
       "Hospital           0\n",
       "price              0\n",
       "Highway            0\n",
       "Railway Station    0\n",
       "State              0\n",
       "dtype: int64"
      ]
     },
     "execution_count": 94,
     "metadata": {},
     "output_type": "execute_result"
    }
   ],
   "source": [
    "# \"States\" has no null values \n",
    "df.isnull().sum()"
   ]
  },
  {
   "cell_type": "code",
   "execution_count": 95,
   "metadata": {},
   "outputs": [
    {
     "data": {
      "text/html": [
       "<div>\n",
       "<style scoped>\n",
       "    .dataframe tbody tr th:only-of-type {\n",
       "        vertical-align: middle;\n",
       "    }\n",
       "\n",
       "    .dataframe tbody tr th {\n",
       "        vertical-align: top;\n",
       "    }\n",
       "\n",
       "    .dataframe thead th {\n",
       "        text-align: right;\n",
       "    }\n",
       "</style>\n",
       "<table border=\"1\" class=\"dataframe\">\n",
       "  <thead>\n",
       "    <tr style=\"text-align: right;\">\n",
       "      <th></th>\n",
       "      <th>Bedroom</th>\n",
       "      <th>Bathroom</th>\n",
       "      <th>Property Size</th>\n",
       "      <th>Category</th>\n",
       "      <th>Facilities</th>\n",
       "      <th>Building Name</th>\n",
       "      <th>Developer</th>\n",
       "      <th>Tenure Type</th>\n",
       "      <th>Address</th>\n",
       "      <th>Completion Year</th>\n",
       "      <th># of Floors</th>\n",
       "      <th>Total Units</th>\n",
       "      <th>Property Type</th>\n",
       "      <th>Parking Lot</th>\n",
       "      <th>Floor Range</th>\n",
       "      <th>Land Title</th>\n",
       "      <th>Firm Type</th>\n",
       "      <th>Firm Number</th>\n",
       "      <th>REN Number</th>\n",
       "      <th>Bus Stop</th>\n",
       "      <th>Mall</th>\n",
       "      <th>Park</th>\n",
       "      <th>School</th>\n",
       "      <th>Hospital</th>\n",
       "      <th>price</th>\n",
       "      <th>Highway</th>\n",
       "      <th>Railway Station</th>\n",
       "      <th>State</th>\n",
       "    </tr>\n",
       "  </thead>\n",
       "  <tbody>\n",
       "    <tr>\n",
       "      <th>0</th>\n",
       "      <td>4</td>\n",
       "      <td>2</td>\n",
       "      <td>1000</td>\n",
       "      <td>Apartment / Condominium, For sale</td>\n",
       "      <td>4</td>\n",
       "      <td>Kenwingston Platz</td>\n",
       "      <td>Kenwingston Group</td>\n",
       "      <td>Freehold</td>\n",
       "      <td>Jalan Gombak, Setapak, Kuala Lumpur</td>\n",
       "      <td>Unknown</td>\n",
       "      <td>0</td>\n",
       "      <td>0</td>\n",
       "      <td>Service Residence</td>\n",
       "      <td>2</td>\n",
       "      <td>Unknown</td>\n",
       "      <td>Non Bumi Lot</td>\n",
       "      <td>VE</td>\n",
       "      <td>30338</td>\n",
       "      <td>Unknown</td>\n",
       "      <td>Bus Stop Starparc Point\\nBus Stop Setapak Cent...</td>\n",
       "      <td>Setapak Central</td>\n",
       "      <td>Park at Taman Tasik Danau Kota, Setapak, Kuala...</td>\n",
       "      <td>Sekolah Menengah Pendidikan Khas Cacat Penglih...</td>\n",
       "      <td>Columbia Asia Hospital</td>\n",
       "      <td>340000</td>\n",
       "      <td>Unknown</td>\n",
       "      <td>Unknown</td>\n",
       "      <td>kuala lumpur</td>\n",
       "    </tr>\n",
       "    <tr>\n",
       "      <th>1</th>\n",
       "      <td>3</td>\n",
       "      <td>2</td>\n",
       "      <td>980</td>\n",
       "      <td>Apartment / Condominium, For sale</td>\n",
       "      <td>3</td>\n",
       "      <td>Kenanga (Park View Court)</td>\n",
       "      <td>Unknown</td>\n",
       "      <td>Freehold</td>\n",
       "      <td>Jalan Kenanga 3/8, Melaka City, Melaka</td>\n",
       "      <td>Unknown</td>\n",
       "      <td>0</td>\n",
       "      <td>0</td>\n",
       "      <td>Apartment</td>\n",
       "      <td>1</td>\n",
       "      <td>Low</td>\n",
       "      <td>Non Bumi Lot</td>\n",
       "      <td>E</td>\n",
       "      <td>30812</td>\n",
       "      <td>REN 15862</td>\n",
       "      <td>Unknown</td>\n",
       "      <td>Unknown</td>\n",
       "      <td>Unknown</td>\n",
       "      <td>Unknown</td>\n",
       "      <td>Unknown</td>\n",
       "      <td>250000</td>\n",
       "      <td>Unknown</td>\n",
       "      <td>Unknown</td>\n",
       "      <td>melaka</td>\n",
       "    </tr>\n",
       "    <tr>\n",
       "      <th>2</th>\n",
       "      <td>3</td>\n",
       "      <td>2</td>\n",
       "      <td>1000</td>\n",
       "      <td>Apartment / Condominium, For sale</td>\n",
       "      <td>3</td>\n",
       "      <td>Sri Lavender Apartment</td>\n",
       "      <td>TLS Group</td>\n",
       "      <td>Freehold</td>\n",
       "      <td>Jalan Sepakat Indah 2/1, Taman Sepakat Indah 2...</td>\n",
       "      <td>2007</td>\n",
       "      <td>13</td>\n",
       "      <td>445</td>\n",
       "      <td>Apartment</td>\n",
       "      <td>1</td>\n",
       "      <td>Medium</td>\n",
       "      <td>Non Bumi Lot</td>\n",
       "      <td>Unknown</td>\n",
       "      <td>Unknown</td>\n",
       "      <td>Unknown</td>\n",
       "      <td>Unknown</td>\n",
       "      <td>Unknown</td>\n",
       "      <td>Unknown</td>\n",
       "      <td>Unknown</td>\n",
       "      <td>Unknown</td>\n",
       "      <td>230000</td>\n",
       "      <td>SILK Sg Ramal (T) Toll Plaza</td>\n",
       "      <td>Unknown</td>\n",
       "      <td>selangor</td>\n",
       "    </tr>\n",
       "    <tr>\n",
       "      <th>3</th>\n",
       "      <td>3</td>\n",
       "      <td>1</td>\n",
       "      <td>592</td>\n",
       "      <td>Apartment / Condominium, For sale</td>\n",
       "      <td>3</td>\n",
       "      <td>Flat Pandan Indah</td>\n",
       "      <td>Unknown</td>\n",
       "      <td>Leasehold</td>\n",
       "      <td>jalan pandan indah 3/3, Selangor, Ampang</td>\n",
       "      <td>Unknown</td>\n",
       "      <td>0</td>\n",
       "      <td>0</td>\n",
       "      <td>Flat</td>\n",
       "      <td>1</td>\n",
       "      <td>Unknown</td>\n",
       "      <td>Non Bumi Lot</td>\n",
       "      <td>E</td>\n",
       "      <td>11584</td>\n",
       "      <td>REN 16279</td>\n",
       "      <td>Unknown</td>\n",
       "      <td>Unknown</td>\n",
       "      <td>Unknown</td>\n",
       "      <td>Unknown</td>\n",
       "      <td>Unknown</td>\n",
       "      <td>158000</td>\n",
       "      <td>Unknown</td>\n",
       "      <td>Unknown</td>\n",
       "      <td>selangor</td>\n",
       "    </tr>\n",
       "    <tr>\n",
       "      <th>4</th>\n",
       "      <td>1</td>\n",
       "      <td>1</td>\n",
       "      <td>467</td>\n",
       "      <td>Apartment / Condominium, For sale</td>\n",
       "      <td>1</td>\n",
       "      <td>i-Soho @ i-City</td>\n",
       "      <td>i-Berhad</td>\n",
       "      <td>Freehold</td>\n",
       "      <td>Jalan Plumbum 7/102, Shah Alam, Selangor</td>\n",
       "      <td>Unknown</td>\n",
       "      <td>43</td>\n",
       "      <td>956</td>\n",
       "      <td>Studio</td>\n",
       "      <td>0</td>\n",
       "      <td>Low</td>\n",
       "      <td>Bumi Lot</td>\n",
       "      <td>E</td>\n",
       "      <td>31916</td>\n",
       "      <td>Unknown</td>\n",
       "      <td>Bus Stop at Persiaran Permai 1\\nBus Stop at Pe...</td>\n",
       "      <td>i-Soho i-City\\nGulati\\nCentral i-City Shopping...</td>\n",
       "      <td>Park 2 at Section 7, Shah Alam\\nPark 1 at Sect...</td>\n",
       "      <td>Sekolah Jenis Kebangsaan (T) Ladang Midlands\\n...</td>\n",
       "      <td>Osel Clinic (Shah Alam)\\nHospital Shah Alam</td>\n",
       "      <td>305000</td>\n",
       "      <td>Unknown</td>\n",
       "      <td>Unknown</td>\n",
       "      <td>selangor</td>\n",
       "    </tr>\n",
       "  </tbody>\n",
       "</table>\n",
       "</div>"
      ],
      "text/plain": [
       "  Bedroom Bathroom Property Size                           Category  \\\n",
       "0       4        2          1000  Apartment / Condominium, For sale   \n",
       "1       3        2           980  Apartment / Condominium, For sale   \n",
       "2       3        2          1000  Apartment / Condominium, For sale   \n",
       "3       3        1           592  Apartment / Condominium, For sale   \n",
       "4       1        1           467  Apartment / Condominium, For sale   \n",
       "\n",
       "  Facilities              Building Name          Developer Tenure Type  \\\n",
       "0          4          Kenwingston Platz  Kenwingston Group    Freehold   \n",
       "1          3  Kenanga (Park View Court)            Unknown    Freehold   \n",
       "2          3     Sri Lavender Apartment          TLS Group    Freehold   \n",
       "3          3          Flat Pandan Indah            Unknown   Leasehold   \n",
       "4          1            i-Soho @ i-City           i-Berhad    Freehold   \n",
       "\n",
       "                                             Address Completion Year  \\\n",
       "0                Jalan Gombak, Setapak, Kuala Lumpur         Unknown   \n",
       "1             Jalan Kenanga 3/8, Melaka City, Melaka         Unknown   \n",
       "2  Jalan Sepakat Indah 2/1, Taman Sepakat Indah 2...            2007   \n",
       "3           jalan pandan indah 3/3, Selangor, Ampang         Unknown   \n",
       "4           Jalan Plumbum 7/102, Shah Alam, Selangor         Unknown   \n",
       "\n",
       "  # of Floors Total Units      Property Type Parking Lot Floor Range  \\\n",
       "0           0           0  Service Residence           2     Unknown   \n",
       "1           0           0          Apartment           1         Low   \n",
       "2          13         445          Apartment           1      Medium   \n",
       "3           0           0               Flat           1     Unknown   \n",
       "4          43         956             Studio           0         Low   \n",
       "\n",
       "     Land Title Firm Type Firm Number REN Number  \\\n",
       "0  Non Bumi Lot        VE       30338    Unknown   \n",
       "1  Non Bumi Lot         E       30812  REN 15862   \n",
       "2  Non Bumi Lot   Unknown     Unknown    Unknown   \n",
       "3  Non Bumi Lot         E       11584  REN 16279   \n",
       "4      Bumi Lot         E       31916    Unknown   \n",
       "\n",
       "                                            Bus Stop  \\\n",
       "0  Bus Stop Starparc Point\\nBus Stop Setapak Cent...   \n",
       "1                                            Unknown   \n",
       "2                                            Unknown   \n",
       "3                                            Unknown   \n",
       "4  Bus Stop at Persiaran Permai 1\\nBus Stop at Pe...   \n",
       "\n",
       "                                                Mall  \\\n",
       "0                                    Setapak Central   \n",
       "1                                            Unknown   \n",
       "2                                            Unknown   \n",
       "3                                            Unknown   \n",
       "4  i-Soho i-City\\nGulati\\nCentral i-City Shopping...   \n",
       "\n",
       "                                                Park  \\\n",
       "0  Park at Taman Tasik Danau Kota, Setapak, Kuala...   \n",
       "1                                            Unknown   \n",
       "2                                            Unknown   \n",
       "3                                            Unknown   \n",
       "4  Park 2 at Section 7, Shah Alam\\nPark 1 at Sect...   \n",
       "\n",
       "                                              School  \\\n",
       "0  Sekolah Menengah Pendidikan Khas Cacat Penglih...   \n",
       "1                                            Unknown   \n",
       "2                                            Unknown   \n",
       "3                                            Unknown   \n",
       "4  Sekolah Jenis Kebangsaan (T) Ladang Midlands\\n...   \n",
       "\n",
       "                                      Hospital   price  \\\n",
       "0                       Columbia Asia Hospital  340000   \n",
       "1                                      Unknown  250000   \n",
       "2                                      Unknown  230000   \n",
       "3                                      Unknown  158000   \n",
       "4  Osel Clinic (Shah Alam)\\nHospital Shah Alam  305000   \n",
       "\n",
       "                        Highway Railway Station         State  \n",
       "0                       Unknown         Unknown  kuala lumpur  \n",
       "1                       Unknown         Unknown        melaka  \n",
       "2  SILK Sg Ramal (T) Toll Plaza         Unknown      selangor  \n",
       "3                       Unknown         Unknown      selangor  \n",
       "4                       Unknown         Unknown      selangor  "
      ]
     },
     "execution_count": 95,
     "metadata": {},
     "output_type": "execute_result"
    }
   ],
   "source": [
    "df.head()"
   ]
  },
  {
   "cell_type": "code",
   "execution_count": 96,
   "metadata": {},
   "outputs": [],
   "source": [
    "# Convert columns to integer\n",
    "df['Bedroom'] = df['Bedroom'].astype('int')  \n",
    "df['Bathroom'] = df['Bathroom'].astype('int')  \n",
    "df['Total Units'] = df['Total Units'].astype('int')  \n",
    "df['# of Floors'] = df['# of Floors'].astype('int')  \n",
    "df['Parking Lot'] = df['Parking Lot'].astype('int')  \n",
    "\n",
    "# # Convert columns to float\n",
    "df['Property Size'] = df['Property Size'].astype('float')  \n",
    "df['price'] = df['price'].astype('float')\n",
    "\n",
    "# # Convert columns to either 0 or 1 where 0=exist , 1=not exist \n",
    "df['Highway'] = df['Highway'].apply(lambda x: \"1\" if x != \"Unknown\" else \"0\").astype('int')\n",
    "df['Railway Station'] = df['Railway Station'].apply(lambda x: \"1\" if x != \"Unknown\" else \"0\").astype('int')\n",
    "df['Hospital'] = df['Hospital'].apply(lambda x: \"1\" if x != \"Unknown\" else \"0\").astype('int')\n",
    "df['School'] = df['School'].apply(lambda x: \"1\" if x != \"Unknown\" else \"0\").astype('int')\n",
    "df['Park'] = df['Park'].apply(lambda x: \"1\" if x != \"Unknown\" else \"0\").astype('int')\n",
    "df['Mall'] = df['Mall'].apply(lambda x: \"1\" if x != \"Unknown\" else \"0\").astype('int')\n",
    "df['Bus Stop'] = df['Bus Stop'].apply(lambda x: \"1\" if x != \"Unknown\" else \"0\").astype('int')"
   ]
  },
  {
   "cell_type": "code",
   "execution_count": 97,
   "metadata": {},
   "outputs": [
    {
     "name": "stdout",
     "output_type": "stream",
     "text": [
      "<class 'pandas.core.frame.DataFrame'>\n",
      "Index: 3913 entries, 0 to 3999\n",
      "Data columns (total 28 columns):\n",
      " #   Column           Non-Null Count  Dtype  \n",
      "---  ------           --------------  -----  \n",
      " 0   Bedroom          3913 non-null   int32  \n",
      " 1   Bathroom         3913 non-null   int32  \n",
      " 2   Property Size    3913 non-null   float64\n",
      " 3   Category         3913 non-null   object \n",
      " 4   Facilities       3913 non-null   object \n",
      " 5   Building Name    3913 non-null   object \n",
      " 6   Developer        3913 non-null   object \n",
      " 7   Tenure Type      3913 non-null   object \n",
      " 8   Address          3913 non-null   object \n",
      " 9   Completion Year  3913 non-null   object \n",
      " 10  # of Floors      3913 non-null   int32  \n",
      " 11  Total Units      3913 non-null   int32  \n",
      " 12  Property Type    3913 non-null   object \n",
      " 13  Parking Lot      3913 non-null   int32  \n",
      " 14  Floor Range      3913 non-null   object \n",
      " 15  Land Title       3913 non-null   object \n",
      " 16  Firm Type        3913 non-null   object \n",
      " 17  Firm Number      3913 non-null   object \n",
      " 18  REN Number       3913 non-null   object \n",
      " 19  Bus Stop         3913 non-null   int32  \n",
      " 20  Mall             3913 non-null   int32  \n",
      " 21  Park             3913 non-null   int32  \n",
      " 22  School           3913 non-null   int32  \n",
      " 23  Hospital         3913 non-null   int32  \n",
      " 24  price            3913 non-null   float64\n",
      " 25  Highway          3913 non-null   int32  \n",
      " 26  Railway Station  3913 non-null   int32  \n",
      " 27  State            3913 non-null   object \n",
      "dtypes: float64(2), int32(12), object(14)\n",
      "memory usage: 703.1+ KB\n"
     ]
    }
   ],
   "source": [
    "df.info()"
   ]
  },
  {
   "cell_type": "code",
   "execution_count": 98,
   "metadata": {},
   "outputs": [
    {
     "data": {
      "text/html": [
       "<div>\n",
       "<style scoped>\n",
       "    .dataframe tbody tr th:only-of-type {\n",
       "        vertical-align: middle;\n",
       "    }\n",
       "\n",
       "    .dataframe tbody tr th {\n",
       "        vertical-align: top;\n",
       "    }\n",
       "\n",
       "    .dataframe thead th {\n",
       "        text-align: right;\n",
       "    }\n",
       "</style>\n",
       "<table border=\"1\" class=\"dataframe\">\n",
       "  <thead>\n",
       "    <tr style=\"text-align: right;\">\n",
       "      <th></th>\n",
       "      <th>Bedroom</th>\n",
       "      <th>Bathroom</th>\n",
       "      <th>Property Size</th>\n",
       "      <th>Category</th>\n",
       "      <th>Facilities</th>\n",
       "      <th>Building Name</th>\n",
       "      <th>Developer</th>\n",
       "      <th>Tenure Type</th>\n",
       "      <th>Address</th>\n",
       "      <th>Completion Year</th>\n",
       "      <th># of Floors</th>\n",
       "      <th>Total Units</th>\n",
       "      <th>Property Type</th>\n",
       "      <th>Parking Lot</th>\n",
       "      <th>Floor Range</th>\n",
       "      <th>Land Title</th>\n",
       "      <th>Firm Type</th>\n",
       "      <th>Firm Number</th>\n",
       "      <th>REN Number</th>\n",
       "      <th>Bus Stop</th>\n",
       "      <th>Mall</th>\n",
       "      <th>Park</th>\n",
       "      <th>School</th>\n",
       "      <th>Hospital</th>\n",
       "      <th>price</th>\n",
       "      <th>Highway</th>\n",
       "      <th>Railway Station</th>\n",
       "      <th>State</th>\n",
       "    </tr>\n",
       "  </thead>\n",
       "  <tbody>\n",
       "    <tr>\n",
       "      <th>0</th>\n",
       "      <td>4</td>\n",
       "      <td>2</td>\n",
       "      <td>1000.0</td>\n",
       "      <td>Apartment / Condominium, For sale</td>\n",
       "      <td>4</td>\n",
       "      <td>Kenwingston Platz</td>\n",
       "      <td>Kenwingston Group</td>\n",
       "      <td>Freehold</td>\n",
       "      <td>Jalan Gombak, Setapak, Kuala Lumpur</td>\n",
       "      <td>Unknown</td>\n",
       "      <td>0</td>\n",
       "      <td>0</td>\n",
       "      <td>Service Residence</td>\n",
       "      <td>2</td>\n",
       "      <td>Unknown</td>\n",
       "      <td>Non Bumi Lot</td>\n",
       "      <td>VE</td>\n",
       "      <td>30338</td>\n",
       "      <td>Unknown</td>\n",
       "      <td>1</td>\n",
       "      <td>1</td>\n",
       "      <td>1</td>\n",
       "      <td>1</td>\n",
       "      <td>1</td>\n",
       "      <td>340000.0</td>\n",
       "      <td>0</td>\n",
       "      <td>0</td>\n",
       "      <td>kuala lumpur</td>\n",
       "    </tr>\n",
       "    <tr>\n",
       "      <th>1</th>\n",
       "      <td>3</td>\n",
       "      <td>2</td>\n",
       "      <td>980.0</td>\n",
       "      <td>Apartment / Condominium, For sale</td>\n",
       "      <td>3</td>\n",
       "      <td>Kenanga (Park View Court)</td>\n",
       "      <td>Unknown</td>\n",
       "      <td>Freehold</td>\n",
       "      <td>Jalan Kenanga 3/8, Melaka City, Melaka</td>\n",
       "      <td>Unknown</td>\n",
       "      <td>0</td>\n",
       "      <td>0</td>\n",
       "      <td>Apartment</td>\n",
       "      <td>1</td>\n",
       "      <td>Low</td>\n",
       "      <td>Non Bumi Lot</td>\n",
       "      <td>E</td>\n",
       "      <td>30812</td>\n",
       "      <td>REN 15862</td>\n",
       "      <td>0</td>\n",
       "      <td>0</td>\n",
       "      <td>0</td>\n",
       "      <td>0</td>\n",
       "      <td>0</td>\n",
       "      <td>250000.0</td>\n",
       "      <td>0</td>\n",
       "      <td>0</td>\n",
       "      <td>melaka</td>\n",
       "    </tr>\n",
       "    <tr>\n",
       "      <th>2</th>\n",
       "      <td>3</td>\n",
       "      <td>2</td>\n",
       "      <td>1000.0</td>\n",
       "      <td>Apartment / Condominium, For sale</td>\n",
       "      <td>3</td>\n",
       "      <td>Sri Lavender Apartment</td>\n",
       "      <td>TLS Group</td>\n",
       "      <td>Freehold</td>\n",
       "      <td>Jalan Sepakat Indah 2/1, Taman Sepakat Indah 2...</td>\n",
       "      <td>2007</td>\n",
       "      <td>13</td>\n",
       "      <td>445</td>\n",
       "      <td>Apartment</td>\n",
       "      <td>1</td>\n",
       "      <td>Medium</td>\n",
       "      <td>Non Bumi Lot</td>\n",
       "      <td>Unknown</td>\n",
       "      <td>Unknown</td>\n",
       "      <td>Unknown</td>\n",
       "      <td>0</td>\n",
       "      <td>0</td>\n",
       "      <td>0</td>\n",
       "      <td>0</td>\n",
       "      <td>0</td>\n",
       "      <td>230000.0</td>\n",
       "      <td>1</td>\n",
       "      <td>0</td>\n",
       "      <td>selangor</td>\n",
       "    </tr>\n",
       "    <tr>\n",
       "      <th>3</th>\n",
       "      <td>3</td>\n",
       "      <td>1</td>\n",
       "      <td>592.0</td>\n",
       "      <td>Apartment / Condominium, For sale</td>\n",
       "      <td>3</td>\n",
       "      <td>Flat Pandan Indah</td>\n",
       "      <td>Unknown</td>\n",
       "      <td>Leasehold</td>\n",
       "      <td>jalan pandan indah 3/3, Selangor, Ampang</td>\n",
       "      <td>Unknown</td>\n",
       "      <td>0</td>\n",
       "      <td>0</td>\n",
       "      <td>Flat</td>\n",
       "      <td>1</td>\n",
       "      <td>Unknown</td>\n",
       "      <td>Non Bumi Lot</td>\n",
       "      <td>E</td>\n",
       "      <td>11584</td>\n",
       "      <td>REN 16279</td>\n",
       "      <td>0</td>\n",
       "      <td>0</td>\n",
       "      <td>0</td>\n",
       "      <td>0</td>\n",
       "      <td>0</td>\n",
       "      <td>158000.0</td>\n",
       "      <td>0</td>\n",
       "      <td>0</td>\n",
       "      <td>selangor</td>\n",
       "    </tr>\n",
       "    <tr>\n",
       "      <th>4</th>\n",
       "      <td>1</td>\n",
       "      <td>1</td>\n",
       "      <td>467.0</td>\n",
       "      <td>Apartment / Condominium, For sale</td>\n",
       "      <td>1</td>\n",
       "      <td>i-Soho @ i-City</td>\n",
       "      <td>i-Berhad</td>\n",
       "      <td>Freehold</td>\n",
       "      <td>Jalan Plumbum 7/102, Shah Alam, Selangor</td>\n",
       "      <td>Unknown</td>\n",
       "      <td>43</td>\n",
       "      <td>956</td>\n",
       "      <td>Studio</td>\n",
       "      <td>0</td>\n",
       "      <td>Low</td>\n",
       "      <td>Bumi Lot</td>\n",
       "      <td>E</td>\n",
       "      <td>31916</td>\n",
       "      <td>Unknown</td>\n",
       "      <td>1</td>\n",
       "      <td>1</td>\n",
       "      <td>1</td>\n",
       "      <td>1</td>\n",
       "      <td>1</td>\n",
       "      <td>305000.0</td>\n",
       "      <td>0</td>\n",
       "      <td>0</td>\n",
       "      <td>selangor</td>\n",
       "    </tr>\n",
       "  </tbody>\n",
       "</table>\n",
       "</div>"
      ],
      "text/plain": [
       "   Bedroom  Bathroom  Property Size                           Category  \\\n",
       "0        4         2         1000.0  Apartment / Condominium, For sale   \n",
       "1        3         2          980.0  Apartment / Condominium, For sale   \n",
       "2        3         2         1000.0  Apartment / Condominium, For sale   \n",
       "3        3         1          592.0  Apartment / Condominium, For sale   \n",
       "4        1         1          467.0  Apartment / Condominium, For sale   \n",
       "\n",
       "  Facilities              Building Name          Developer Tenure Type  \\\n",
       "0          4          Kenwingston Platz  Kenwingston Group    Freehold   \n",
       "1          3  Kenanga (Park View Court)            Unknown    Freehold   \n",
       "2          3     Sri Lavender Apartment          TLS Group    Freehold   \n",
       "3          3          Flat Pandan Indah            Unknown   Leasehold   \n",
       "4          1            i-Soho @ i-City           i-Berhad    Freehold   \n",
       "\n",
       "                                             Address Completion Year  \\\n",
       "0                Jalan Gombak, Setapak, Kuala Lumpur         Unknown   \n",
       "1             Jalan Kenanga 3/8, Melaka City, Melaka         Unknown   \n",
       "2  Jalan Sepakat Indah 2/1, Taman Sepakat Indah 2...            2007   \n",
       "3           jalan pandan indah 3/3, Selangor, Ampang         Unknown   \n",
       "4           Jalan Plumbum 7/102, Shah Alam, Selangor         Unknown   \n",
       "\n",
       "   # of Floors  Total Units      Property Type  Parking Lot Floor Range  \\\n",
       "0            0            0  Service Residence            2     Unknown   \n",
       "1            0            0          Apartment            1         Low   \n",
       "2           13          445          Apartment            1      Medium   \n",
       "3            0            0               Flat            1     Unknown   \n",
       "4           43          956             Studio            0         Low   \n",
       "\n",
       "     Land Title Firm Type Firm Number REN Number  Bus Stop  Mall  Park  \\\n",
       "0  Non Bumi Lot        VE       30338    Unknown         1     1     1   \n",
       "1  Non Bumi Lot         E       30812  REN 15862         0     0     0   \n",
       "2  Non Bumi Lot   Unknown     Unknown    Unknown         0     0     0   \n",
       "3  Non Bumi Lot         E       11584  REN 16279         0     0     0   \n",
       "4      Bumi Lot         E       31916    Unknown         1     1     1   \n",
       "\n",
       "   School  Hospital     price  Highway  Railway Station         State  \n",
       "0       1         1  340000.0        0                0  kuala lumpur  \n",
       "1       0         0  250000.0        0                0        melaka  \n",
       "2       0         0  230000.0        1                0      selangor  \n",
       "3       0         0  158000.0        0                0      selangor  \n",
       "4       1         1  305000.0        0                0      selangor  "
      ]
     },
     "execution_count": 98,
     "metadata": {},
     "output_type": "execute_result"
    }
   ],
   "source": [
    "df.head()"
   ]
  },
  {
   "cell_type": "code",
   "execution_count": 99,
   "metadata": {},
   "outputs": [
    {
     "data": {
      "text/html": [
       "<div>\n",
       "<style scoped>\n",
       "    .dataframe tbody tr th:only-of-type {\n",
       "        vertical-align: middle;\n",
       "    }\n",
       "\n",
       "    .dataframe tbody tr th {\n",
       "        vertical-align: top;\n",
       "    }\n",
       "\n",
       "    .dataframe thead th {\n",
       "        text-align: right;\n",
       "    }\n",
       "</style>\n",
       "<table border=\"1\" class=\"dataframe\">\n",
       "  <thead>\n",
       "    <tr style=\"text-align: right;\">\n",
       "      <th></th>\n",
       "      <th>Bedroom</th>\n",
       "      <th>Bathroom</th>\n",
       "      <th>Property Size</th>\n",
       "      <th># of Floors</th>\n",
       "      <th>Total Units</th>\n",
       "      <th>Parking Lot</th>\n",
       "      <th>Bus Stop</th>\n",
       "      <th>Mall</th>\n",
       "      <th>Park</th>\n",
       "      <th>School</th>\n",
       "      <th>Hospital</th>\n",
       "      <th>price</th>\n",
       "      <th>Highway</th>\n",
       "      <th>Railway Station</th>\n",
       "    </tr>\n",
       "  </thead>\n",
       "  <tbody>\n",
       "    <tr>\n",
       "      <th>count</th>\n",
       "      <td>3913.000000</td>\n",
       "      <td>3913.000000</td>\n",
       "      <td>3913.000000</td>\n",
       "      <td>3913.000000</td>\n",
       "      <td>3913.000000</td>\n",
       "      <td>3913.000000</td>\n",
       "      <td>3913.000000</td>\n",
       "      <td>3913.000000</td>\n",
       "      <td>3913.000000</td>\n",
       "      <td>3913.000000</td>\n",
       "      <td>3913.000000</td>\n",
       "      <td>3.913000e+03</td>\n",
       "      <td>3913.000000</td>\n",
       "      <td>3913.000000</td>\n",
       "    </tr>\n",
       "    <tr>\n",
       "      <th>mean</th>\n",
       "      <td>2.917455</td>\n",
       "      <td>2.019167</td>\n",
       "      <td>1035.799642</td>\n",
       "      <td>12.454638</td>\n",
       "      <td>329.205980</td>\n",
       "      <td>1.047023</td>\n",
       "      <td>0.180935</td>\n",
       "      <td>0.121390</td>\n",
       "      <td>0.206236</td>\n",
       "      <td>0.242269</td>\n",
       "      <td>0.087657</td>\n",
       "      <td>4.205704e+05</td>\n",
       "      <td>0.036034</td>\n",
       "      <td>0.123946</td>\n",
       "    </tr>\n",
       "    <tr>\n",
       "      <th>std</th>\n",
       "      <td>0.691450</td>\n",
       "      <td>0.606619</td>\n",
       "      <td>2033.682963</td>\n",
       "      <td>22.297580</td>\n",
       "      <td>530.525195</td>\n",
       "      <td>0.909975</td>\n",
       "      <td>0.385014</td>\n",
       "      <td>0.326622</td>\n",
       "      <td>0.404653</td>\n",
       "      <td>0.428511</td>\n",
       "      <td>0.282831</td>\n",
       "      <td>3.273007e+05</td>\n",
       "      <td>0.186398</td>\n",
       "      <td>0.329562</td>\n",
       "    </tr>\n",
       "    <tr>\n",
       "      <th>min</th>\n",
       "      <td>1.000000</td>\n",
       "      <td>1.000000</td>\n",
       "      <td>1.000000</td>\n",
       "      <td>0.000000</td>\n",
       "      <td>0.000000</td>\n",
       "      <td>0.000000</td>\n",
       "      <td>0.000000</td>\n",
       "      <td>0.000000</td>\n",
       "      <td>0.000000</td>\n",
       "      <td>0.000000</td>\n",
       "      <td>0.000000</td>\n",
       "      <td>3.800000e+04</td>\n",
       "      <td>0.000000</td>\n",
       "      <td>0.000000</td>\n",
       "    </tr>\n",
       "    <tr>\n",
       "      <th>25%</th>\n",
       "      <td>3.000000</td>\n",
       "      <td>2.000000</td>\n",
       "      <td>750.000000</td>\n",
       "      <td>0.000000</td>\n",
       "      <td>0.000000</td>\n",
       "      <td>0.000000</td>\n",
       "      <td>0.000000</td>\n",
       "      <td>0.000000</td>\n",
       "      <td>0.000000</td>\n",
       "      <td>0.000000</td>\n",
       "      <td>0.000000</td>\n",
       "      <td>2.500000e+05</td>\n",
       "      <td>0.000000</td>\n",
       "      <td>0.000000</td>\n",
       "    </tr>\n",
       "    <tr>\n",
       "      <th>50%</th>\n",
       "      <td>3.000000</td>\n",
       "      <td>2.000000</td>\n",
       "      <td>900.000000</td>\n",
       "      <td>5.000000</td>\n",
       "      <td>114.000000</td>\n",
       "      <td>1.000000</td>\n",
       "      <td>0.000000</td>\n",
       "      <td>0.000000</td>\n",
       "      <td>0.000000</td>\n",
       "      <td>0.000000</td>\n",
       "      <td>0.000000</td>\n",
       "      <td>3.500000e+05</td>\n",
       "      <td>0.000000</td>\n",
       "      <td>0.000000</td>\n",
       "    </tr>\n",
       "    <tr>\n",
       "      <th>75%</th>\n",
       "      <td>3.000000</td>\n",
       "      <td>2.000000</td>\n",
       "      <td>1117.000000</td>\n",
       "      <td>21.000000</td>\n",
       "      <td>482.000000</td>\n",
       "      <td>2.000000</td>\n",
       "      <td>0.000000</td>\n",
       "      <td>0.000000</td>\n",
       "      <td>0.000000</td>\n",
       "      <td>0.000000</td>\n",
       "      <td>0.000000</td>\n",
       "      <td>4.900000e+05</td>\n",
       "      <td>0.000000</td>\n",
       "      <td>0.000000</td>\n",
       "    </tr>\n",
       "    <tr>\n",
       "      <th>max</th>\n",
       "      <td>10.000000</td>\n",
       "      <td>8.000000</td>\n",
       "      <td>122774.000000</td>\n",
       "      <td>504.000000</td>\n",
       "      <td>7810.000000</td>\n",
       "      <td>10.000000</td>\n",
       "      <td>1.000000</td>\n",
       "      <td>1.000000</td>\n",
       "      <td>1.000000</td>\n",
       "      <td>1.000000</td>\n",
       "      <td>1.000000</td>\n",
       "      <td>6.016000e+06</td>\n",
       "      <td>1.000000</td>\n",
       "      <td>1.000000</td>\n",
       "    </tr>\n",
       "  </tbody>\n",
       "</table>\n",
       "</div>"
      ],
      "text/plain": [
       "           Bedroom     Bathroom  Property Size  # of Floors  Total Units  \\\n",
       "count  3913.000000  3913.000000    3913.000000  3913.000000  3913.000000   \n",
       "mean      2.917455     2.019167    1035.799642    12.454638   329.205980   \n",
       "std       0.691450     0.606619    2033.682963    22.297580   530.525195   \n",
       "min       1.000000     1.000000       1.000000     0.000000     0.000000   \n",
       "25%       3.000000     2.000000     750.000000     0.000000     0.000000   \n",
       "50%       3.000000     2.000000     900.000000     5.000000   114.000000   \n",
       "75%       3.000000     2.000000    1117.000000    21.000000   482.000000   \n",
       "max      10.000000     8.000000  122774.000000   504.000000  7810.000000   \n",
       "\n",
       "       Parking Lot     Bus Stop         Mall         Park       School  \\\n",
       "count  3913.000000  3913.000000  3913.000000  3913.000000  3913.000000   \n",
       "mean      1.047023     0.180935     0.121390     0.206236     0.242269   \n",
       "std       0.909975     0.385014     0.326622     0.404653     0.428511   \n",
       "min       0.000000     0.000000     0.000000     0.000000     0.000000   \n",
       "25%       0.000000     0.000000     0.000000     0.000000     0.000000   \n",
       "50%       1.000000     0.000000     0.000000     0.000000     0.000000   \n",
       "75%       2.000000     0.000000     0.000000     0.000000     0.000000   \n",
       "max      10.000000     1.000000     1.000000     1.000000     1.000000   \n",
       "\n",
       "          Hospital         price      Highway  Railway Station  \n",
       "count  3913.000000  3.913000e+03  3913.000000      3913.000000  \n",
       "mean      0.087657  4.205704e+05     0.036034         0.123946  \n",
       "std       0.282831  3.273007e+05     0.186398         0.329562  \n",
       "min       0.000000  3.800000e+04     0.000000         0.000000  \n",
       "25%       0.000000  2.500000e+05     0.000000         0.000000  \n",
       "50%       0.000000  3.500000e+05     0.000000         0.000000  \n",
       "75%       0.000000  4.900000e+05     0.000000         0.000000  \n",
       "max       1.000000  6.016000e+06     1.000000         1.000000  "
      ]
     },
     "execution_count": 99,
     "metadata": {},
     "output_type": "execute_result"
    }
   ],
   "source": [
    "df.describe() "
   ]
  },
  {
   "cell_type": "code",
   "execution_count": 100,
   "metadata": {},
   "outputs": [
    {
     "name": "stdout",
     "output_type": "stream",
     "text": [
      "0.0\n",
      "46.0\n"
     ]
    }
   ],
   "source": [
    "#Identifying outliers by using percentile method  \n",
    "\n",
    "min_threshold_bedroom,max_threshold_bedroom = df[\"Bedroom\"].quantile([0.1,0.99]) # 2 to 5\n",
    "min_threshold_bathroom,max_threshold_bathroom = df[\"Bathroom\"].quantile([0.1,0.99]) # 1 to 4\n",
    "min_threshold_ps,max_threshold_ps = df[\"Property Size\"].quantile([0.1,0.99]) # 650 to 2750\n",
    "# min_threshold_floors,max_threshold_floors = df[\"# of Floors\"].quantile([0.6,0.99]) # 14 to 46 \n",
    "min_threshold_floors,max_threshold_floors = df[\"# of Floors\"].quantile([0.001,0.99]) # 14 to 46 \n",
    "min_threshold_Total_Units,max_threshold_Total_Units = df[\"Total Units\"].quantile([0.5,0.9]) # 114 to 844   \n",
    "min_threshold_Parking_Lot,max_threshold_Parking_Lot = df[\"Parking Lot\"].quantile([0.4,0.99]) # 1 to 3 \n",
    "min_threshold_Price,max_threshold_Price = df[\"price\"].quantile([0.1,0.9999]) # 175000 to 5618540.799999511\n",
    "\n",
    "print(min_threshold_floors) \n",
    "print(max_threshold_floors)    "
   ]
  },
  {
   "cell_type": "code",
   "execution_count": 101,
   "metadata": {},
   "outputs": [
    {
     "data": {
      "text/plain": [
       "(3913, 28)"
      ]
     },
     "execution_count": 101,
     "metadata": {},
     "output_type": "execute_result"
    }
   ],
   "source": [
    "df.shape "
   ]
  },
  {
   "cell_type": "code",
   "execution_count": 102,
   "metadata": {},
   "outputs": [
    {
     "data": {
      "text/plain": [
       "(1131, 28)"
      ]
     },
     "execution_count": 102,
     "metadata": {},
     "output_type": "execute_result"
    }
   ],
   "source": [
    "#Removing outliers   \n",
    "df = df[(df[\"Bedroom\"] >= min_threshold_bedroom) & (df[\"Bedroom\"] <= max_threshold_bedroom) &\n",
    "        (df[\"Bathroom\"] >= min_threshold_bathroom) & (df[\"Bathroom\"] <= max_threshold_bathroom) &\n",
    "        (df[\"Property Size\"] >= min_threshold_ps) & (df[\"Property Size\"] <= max_threshold_ps) & \n",
    "        (df[\"# of Floors\"] >= min_threshold_floors) & (df[\"# of Floors\"] <= max_threshold_floors) & \n",
    "        (df[\"Total Units\"] >= min_threshold_Total_Units) & (df[\"Total Units\"] <= max_threshold_Total_Units) &\n",
    "        (df[\"Parking Lot\"] >= min_threshold_Parking_Lot) & (df[\"Parking Lot\"] <= max_threshold_Parking_Lot) &\n",
    "        (df[\"price\"] >= min_threshold_Price) & (df[\"price\"] <= max_threshold_Price)]   \n",
    "\n",
    "df.shape   "
   ]
  },
  {
   "cell_type": "code",
   "execution_count": 103,
   "metadata": {},
   "outputs": [
    {
     "data": {
      "text/html": [
       "<div>\n",
       "<style scoped>\n",
       "    .dataframe tbody tr th:only-of-type {\n",
       "        vertical-align: middle;\n",
       "    }\n",
       "\n",
       "    .dataframe tbody tr th {\n",
       "        vertical-align: top;\n",
       "    }\n",
       "\n",
       "    .dataframe thead th {\n",
       "        text-align: right;\n",
       "    }\n",
       "</style>\n",
       "<table border=\"1\" class=\"dataframe\">\n",
       "  <thead>\n",
       "    <tr style=\"text-align: right;\">\n",
       "      <th></th>\n",
       "      <th>Bedroom</th>\n",
       "      <th>Bathroom</th>\n",
       "      <th>Property Size</th>\n",
       "      <th>Category</th>\n",
       "      <th>Facilities</th>\n",
       "      <th>Building Name</th>\n",
       "      <th>Developer</th>\n",
       "      <th>Tenure Type</th>\n",
       "      <th>Address</th>\n",
       "      <th>Completion Year</th>\n",
       "      <th># of Floors</th>\n",
       "      <th>Total Units</th>\n",
       "      <th>Property Type</th>\n",
       "      <th>Parking Lot</th>\n",
       "      <th>Floor Range</th>\n",
       "      <th>Land Title</th>\n",
       "      <th>Firm Type</th>\n",
       "      <th>Firm Number</th>\n",
       "      <th>REN Number</th>\n",
       "      <th>Bus Stop</th>\n",
       "      <th>Mall</th>\n",
       "      <th>Park</th>\n",
       "      <th>School</th>\n",
       "      <th>Hospital</th>\n",
       "      <th>price</th>\n",
       "      <th>Highway</th>\n",
       "      <th>Railway Station</th>\n",
       "      <th>State</th>\n",
       "    </tr>\n",
       "  </thead>\n",
       "  <tbody>\n",
       "    <tr>\n",
       "      <th>2</th>\n",
       "      <td>3</td>\n",
       "      <td>2</td>\n",
       "      <td>1000.0</td>\n",
       "      <td>Apartment / Condominium, For sale</td>\n",
       "      <td>3</td>\n",
       "      <td>Sri Lavender Apartment</td>\n",
       "      <td>TLS Group</td>\n",
       "      <td>Freehold</td>\n",
       "      <td>Jalan Sepakat Indah 2/1, Taman Sepakat Indah 2...</td>\n",
       "      <td>2007</td>\n",
       "      <td>13</td>\n",
       "      <td>445</td>\n",
       "      <td>Apartment</td>\n",
       "      <td>1</td>\n",
       "      <td>Medium</td>\n",
       "      <td>Non Bumi Lot</td>\n",
       "      <td>Unknown</td>\n",
       "      <td>Unknown</td>\n",
       "      <td>Unknown</td>\n",
       "      <td>0</td>\n",
       "      <td>0</td>\n",
       "      <td>0</td>\n",
       "      <td>0</td>\n",
       "      <td>0</td>\n",
       "      <td>230000.0</td>\n",
       "      <td>1</td>\n",
       "      <td>0</td>\n",
       "      <td>selangor</td>\n",
       "    </tr>\n",
       "    <tr>\n",
       "      <th>5</th>\n",
       "      <td>3</td>\n",
       "      <td>2</td>\n",
       "      <td>1100.0</td>\n",
       "      <td>Apartment / Condominium, For sale</td>\n",
       "      <td>3</td>\n",
       "      <td>D'Piazza Condominium</td>\n",
       "      <td>X-Scan Penang Sdn Bhd</td>\n",
       "      <td>Freehold</td>\n",
       "      <td>Jalan Mayang Pasir 2, Bayan Baru, Penang</td>\n",
       "      <td>2010</td>\n",
       "      <td>19</td>\n",
       "      <td>706</td>\n",
       "      <td>Condominium</td>\n",
       "      <td>1</td>\n",
       "      <td>Low</td>\n",
       "      <td>Non Bumi Lot</td>\n",
       "      <td>E</td>\n",
       "      <td>11307</td>\n",
       "      <td>REN 61472</td>\n",
       "      <td>0</td>\n",
       "      <td>0</td>\n",
       "      <td>0</td>\n",
       "      <td>0</td>\n",
       "      <td>0</td>\n",
       "      <td>425000.0</td>\n",
       "      <td>0</td>\n",
       "      <td>0</td>\n",
       "      <td>penang</td>\n",
       "    </tr>\n",
       "    <tr>\n",
       "      <th>6</th>\n",
       "      <td>3</td>\n",
       "      <td>2</td>\n",
       "      <td>780.0</td>\n",
       "      <td>Apartment / Condominium, For sale</td>\n",
       "      <td>3</td>\n",
       "      <td>Pangsapuri Sri Alpinia</td>\n",
       "      <td>IOI Properties Group Berhad</td>\n",
       "      <td>Freehold</td>\n",
       "      <td>Persiaran Indera, Pusat Bandar Puchong, Puchon...</td>\n",
       "      <td>Unknown</td>\n",
       "      <td>5</td>\n",
       "      <td>281</td>\n",
       "      <td>Condominium</td>\n",
       "      <td>1</td>\n",
       "      <td>Unknown</td>\n",
       "      <td>Non Bumi Lot</td>\n",
       "      <td>E</td>\n",
       "      <td>31484</td>\n",
       "      <td>Unknown</td>\n",
       "      <td>0</td>\n",
       "      <td>0</td>\n",
       "      <td>0</td>\n",
       "      <td>0</td>\n",
       "      <td>0</td>\n",
       "      <td>230000.0</td>\n",
       "      <td>0</td>\n",
       "      <td>0</td>\n",
       "      <td>selangor</td>\n",
       "    </tr>\n",
       "    <tr>\n",
       "      <th>10</th>\n",
       "      <td>3</td>\n",
       "      <td>2</td>\n",
       "      <td>660.0</td>\n",
       "      <td>Apartment / Condominium, For sale</td>\n",
       "      <td>3</td>\n",
       "      <td>Sri Aman Block C (Sri Aman Block 1 &amp; 3)</td>\n",
       "      <td>Unknown</td>\n",
       "      <td>Freehold</td>\n",
       "      <td>Persiaran Paya Terubong 3, Bukit Jambul, Penang</td>\n",
       "      <td>2008</td>\n",
       "      <td>18</td>\n",
       "      <td>701</td>\n",
       "      <td>Apartment</td>\n",
       "      <td>1</td>\n",
       "      <td>Medium</td>\n",
       "      <td>Non Bumi Lot</td>\n",
       "      <td>E</td>\n",
       "      <td>31970</td>\n",
       "      <td>REN 03281</td>\n",
       "      <td>0</td>\n",
       "      <td>0</td>\n",
       "      <td>0</td>\n",
       "      <td>0</td>\n",
       "      <td>0</td>\n",
       "      <td>265000.0</td>\n",
       "      <td>0</td>\n",
       "      <td>0</td>\n",
       "      <td>penang</td>\n",
       "    </tr>\n",
       "    <tr>\n",
       "      <th>13</th>\n",
       "      <td>3</td>\n",
       "      <td>2</td>\n",
       "      <td>1250.0</td>\n",
       "      <td>Apartment / Condominium, For sale</td>\n",
       "      <td>3</td>\n",
       "      <td>Ameera Residence</td>\n",
       "      <td>TLS Group</td>\n",
       "      <td>Freehold</td>\n",
       "      <td>Jalan Mutiara 3, Mutiara Heights,, Kajang, Sel...</td>\n",
       "      <td>2016</td>\n",
       "      <td>0</td>\n",
       "      <td>428</td>\n",
       "      <td>Condominium</td>\n",
       "      <td>2</td>\n",
       "      <td>Unknown</td>\n",
       "      <td>Non Bumi Lot</td>\n",
       "      <td>E</td>\n",
       "      <td>31484</td>\n",
       "      <td>Unknown</td>\n",
       "      <td>0</td>\n",
       "      <td>0</td>\n",
       "      <td>0</td>\n",
       "      <td>0</td>\n",
       "      <td>0</td>\n",
       "      <td>340000.0</td>\n",
       "      <td>0</td>\n",
       "      <td>0</td>\n",
       "      <td>selangor</td>\n",
       "    </tr>\n",
       "  </tbody>\n",
       "</table>\n",
       "</div>"
      ],
      "text/plain": [
       "    Bedroom  Bathroom  Property Size                           Category  \\\n",
       "2         3         2         1000.0  Apartment / Condominium, For sale   \n",
       "5         3         2         1100.0  Apartment / Condominium, For sale   \n",
       "6         3         2          780.0  Apartment / Condominium, For sale   \n",
       "10        3         2          660.0  Apartment / Condominium, For sale   \n",
       "13        3         2         1250.0  Apartment / Condominium, For sale   \n",
       "\n",
       "   Facilities                            Building Name  \\\n",
       "2           3                   Sri Lavender Apartment   \n",
       "5           3                     D'Piazza Condominium   \n",
       "6           3                   Pangsapuri Sri Alpinia   \n",
       "10          3  Sri Aman Block C (Sri Aman Block 1 & 3)   \n",
       "13          3                         Ameera Residence   \n",
       "\n",
       "                      Developer Tenure Type  \\\n",
       "2                     TLS Group    Freehold   \n",
       "5         X-Scan Penang Sdn Bhd    Freehold   \n",
       "6   IOI Properties Group Berhad    Freehold   \n",
       "10                      Unknown    Freehold   \n",
       "13                    TLS Group    Freehold   \n",
       "\n",
       "                                              Address Completion Year  \\\n",
       "2   Jalan Sepakat Indah 2/1, Taman Sepakat Indah 2...            2007   \n",
       "5            Jalan Mayang Pasir 2, Bayan Baru, Penang            2010   \n",
       "6   Persiaran Indera, Pusat Bandar Puchong, Puchon...         Unknown   \n",
       "10    Persiaran Paya Terubong 3, Bukit Jambul, Penang            2008   \n",
       "13  Jalan Mutiara 3, Mutiara Heights,, Kajang, Sel...            2016   \n",
       "\n",
       "    # of Floors  Total Units Property Type  Parking Lot Floor Range  \\\n",
       "2            13          445     Apartment            1      Medium   \n",
       "5            19          706   Condominium            1         Low   \n",
       "6             5          281   Condominium            1     Unknown   \n",
       "10           18          701     Apartment            1      Medium   \n",
       "13            0          428   Condominium            2     Unknown   \n",
       "\n",
       "      Land Title Firm Type Firm Number REN Number  Bus Stop  Mall  Park  \\\n",
       "2   Non Bumi Lot   Unknown     Unknown    Unknown         0     0     0   \n",
       "5   Non Bumi Lot         E       11307  REN 61472         0     0     0   \n",
       "6   Non Bumi Lot         E       31484    Unknown         0     0     0   \n",
       "10  Non Bumi Lot         E       31970  REN 03281         0     0     0   \n",
       "13  Non Bumi Lot         E       31484    Unknown         0     0     0   \n",
       "\n",
       "    School  Hospital     price  Highway  Railway Station     State  \n",
       "2        0         0  230000.0        1                0  selangor  \n",
       "5        0         0  425000.0        0                0    penang  \n",
       "6        0         0  230000.0        0                0  selangor  \n",
       "10       0         0  265000.0        0                0    penang  \n",
       "13       0         0  340000.0        0                0  selangor  "
      ]
     },
     "execution_count": 103,
     "metadata": {},
     "output_type": "execute_result"
    }
   ],
   "source": [
    "df.head() "
   ]
  },
  {
   "cell_type": "code",
   "execution_count": 104,
   "metadata": {},
   "outputs": [
    {
     "data": {
      "text/html": [
       "<div>\n",
       "<style scoped>\n",
       "    .dataframe tbody tr th:only-of-type {\n",
       "        vertical-align: middle;\n",
       "    }\n",
       "\n",
       "    .dataframe tbody tr th {\n",
       "        vertical-align: top;\n",
       "    }\n",
       "\n",
       "    .dataframe thead th {\n",
       "        text-align: right;\n",
       "    }\n",
       "</style>\n",
       "<table border=\"1\" class=\"dataframe\">\n",
       "  <thead>\n",
       "    <tr style=\"text-align: right;\">\n",
       "      <th></th>\n",
       "      <th>Bedroom</th>\n",
       "      <th>Bathroom</th>\n",
       "      <th>Property Size</th>\n",
       "      <th>Category</th>\n",
       "      <th>Facilities</th>\n",
       "      <th>Building Name</th>\n",
       "      <th>Developer</th>\n",
       "      <th>Tenure Type</th>\n",
       "      <th>Address</th>\n",
       "      <th>Completion Year</th>\n",
       "      <th># of Floors</th>\n",
       "      <th>Total Units</th>\n",
       "      <th>Property Type</th>\n",
       "      <th>Parking Lot</th>\n",
       "      <th>Floor Range</th>\n",
       "      <th>Land Title</th>\n",
       "      <th>Firm Type</th>\n",
       "      <th>Firm Number</th>\n",
       "      <th>REN Number</th>\n",
       "      <th>Bus Stop</th>\n",
       "      <th>Mall</th>\n",
       "      <th>Park</th>\n",
       "      <th>School</th>\n",
       "      <th>Hospital</th>\n",
       "      <th>price</th>\n",
       "      <th>Highway</th>\n",
       "      <th>Railway Station</th>\n",
       "      <th>State</th>\n",
       "    </tr>\n",
       "  </thead>\n",
       "  <tbody>\n",
       "    <tr>\n",
       "      <th>202</th>\n",
       "      <td>3</td>\n",
       "      <td>2</td>\n",
       "      <td>1352.0</td>\n",
       "      <td>Apartment / Condominium, For sale</td>\n",
       "      <td>3</td>\n",
       "      <td>Mira Residence</td>\n",
       "      <td>BSG Property</td>\n",
       "      <td>Freehold</td>\n",
       "      <td>Jalan Lembah Permai, Tanjung Bungah, Penang</td>\n",
       "      <td>2016</td>\n",
       "      <td>32</td>\n",
       "      <td>322</td>\n",
       "      <td>Condominium</td>\n",
       "      <td>2</td>\n",
       "      <td>Unknown</td>\n",
       "      <td>Non Bumi Lot</td>\n",
       "      <td>E</td>\n",
       "      <td>31622</td>\n",
       "      <td>REN 19587</td>\n",
       "      <td>0</td>\n",
       "      <td>0</td>\n",
       "      <td>0</td>\n",
       "      <td>0</td>\n",
       "      <td>0</td>\n",
       "      <td>950000.0</td>\n",
       "      <td>0</td>\n",
       "      <td>0</td>\n",
       "      <td>penang</td>\n",
       "    </tr>\n",
       "    <tr>\n",
       "      <th>203</th>\n",
       "      <td>3</td>\n",
       "      <td>2</td>\n",
       "      <td>1171.0</td>\n",
       "      <td>Apartment / Condominium, For sale</td>\n",
       "      <td>3</td>\n",
       "      <td>The Resident</td>\n",
       "      <td>Unknown</td>\n",
       "      <td>Leasehold</td>\n",
       "      <td>Jalan Cempaka 2, Ampang, Kuala Lumpur</td>\n",
       "      <td>2016</td>\n",
       "      <td>0</td>\n",
       "      <td>180</td>\n",
       "      <td>Condominium</td>\n",
       "      <td>1</td>\n",
       "      <td>Low</td>\n",
       "      <td>Non Bumi Lot</td>\n",
       "      <td>E</td>\n",
       "      <td>11307</td>\n",
       "      <td>REN 22635</td>\n",
       "      <td>0</td>\n",
       "      <td>0</td>\n",
       "      <td>1</td>\n",
       "      <td>0</td>\n",
       "      <td>1</td>\n",
       "      <td>532000.0</td>\n",
       "      <td>0</td>\n",
       "      <td>0</td>\n",
       "      <td>kuala lumpur</td>\n",
       "    </tr>\n",
       "    <tr>\n",
       "      <th>206</th>\n",
       "      <td>3</td>\n",
       "      <td>2</td>\n",
       "      <td>1012.0</td>\n",
       "      <td>Apartment / Condominium, For sale</td>\n",
       "      <td>3</td>\n",
       "      <td>Amara Service Residences</td>\n",
       "      <td>Jaya Megah Development Sdn Bhd</td>\n",
       "      <td>Freehold</td>\n",
       "      <td>Jalan Raintree Utama, Batu Caves, Selangor</td>\n",
       "      <td>2014</td>\n",
       "      <td>23</td>\n",
       "      <td>744</td>\n",
       "      <td>Service Residence</td>\n",
       "      <td>2</td>\n",
       "      <td>Medium</td>\n",
       "      <td>Non Bumi Lot</td>\n",
       "      <td>E</td>\n",
       "      <td>11584</td>\n",
       "      <td>REN 36845</td>\n",
       "      <td>0</td>\n",
       "      <td>0</td>\n",
       "      <td>0</td>\n",
       "      <td>1</td>\n",
       "      <td>0</td>\n",
       "      <td>320000.0</td>\n",
       "      <td>0</td>\n",
       "      <td>1</td>\n",
       "      <td>selangor</td>\n",
       "    </tr>\n",
       "    <tr>\n",
       "      <th>207</th>\n",
       "      <td>3</td>\n",
       "      <td>2</td>\n",
       "      <td>1432.0</td>\n",
       "      <td>Apartment / Condominium, For sale</td>\n",
       "      <td>3</td>\n",
       "      <td>Tribeca</td>\n",
       "      <td>Unknown</td>\n",
       "      <td>Leasehold</td>\n",
       "      <td>Lorong Urat Mata 4, Jalan Urat Mata, Kuching, ...</td>\n",
       "      <td>Unknown</td>\n",
       "      <td>0</td>\n",
       "      <td>684</td>\n",
       "      <td>Condominium</td>\n",
       "      <td>2</td>\n",
       "      <td>High</td>\n",
       "      <td>Non Bumi Lot</td>\n",
       "      <td>Unknown</td>\n",
       "      <td>Unknown</td>\n",
       "      <td>REN 30496</td>\n",
       "      <td>0</td>\n",
       "      <td>0</td>\n",
       "      <td>0</td>\n",
       "      <td>0</td>\n",
       "      <td>0</td>\n",
       "      <td>750000.0</td>\n",
       "      <td>0</td>\n",
       "      <td>0</td>\n",
       "      <td>sarawak</td>\n",
       "    </tr>\n",
       "    <tr>\n",
       "      <th>217</th>\n",
       "      <td>4</td>\n",
       "      <td>3</td>\n",
       "      <td>1464.0</td>\n",
       "      <td>Apartment / Condominium, For sale</td>\n",
       "      <td>4</td>\n",
       "      <td>Summer Place</td>\n",
       "      <td>Jelutong Development Sdn. Bhd. (IJM Land)</td>\n",
       "      <td>Leasehold</td>\n",
       "      <td>Lebuh Sungai Pinang 8, Jelutong, Georgetown, P...</td>\n",
       "      <td>2011</td>\n",
       "      <td>22</td>\n",
       "      <td>531</td>\n",
       "      <td>Condominium</td>\n",
       "      <td>2</td>\n",
       "      <td>Unknown</td>\n",
       "      <td>Non Bumi Lot</td>\n",
       "      <td>E</td>\n",
       "      <td>31622</td>\n",
       "      <td>REN 19587</td>\n",
       "      <td>0</td>\n",
       "      <td>0</td>\n",
       "      <td>0</td>\n",
       "      <td>0</td>\n",
       "      <td>0</td>\n",
       "      <td>930000.0</td>\n",
       "      <td>0</td>\n",
       "      <td>0</td>\n",
       "      <td>penang</td>\n",
       "    </tr>\n",
       "  </tbody>\n",
       "</table>\n",
       "</div>"
      ],
      "text/plain": [
       "     Bedroom  Bathroom  Property Size                           Category  \\\n",
       "202        3         2         1352.0  Apartment / Condominium, For sale   \n",
       "203        3         2         1171.0  Apartment / Condominium, For sale   \n",
       "206        3         2         1012.0  Apartment / Condominium, For sale   \n",
       "207        3         2         1432.0  Apartment / Condominium, For sale   \n",
       "217        4         3         1464.0  Apartment / Condominium, For sale   \n",
       "\n",
       "    Facilities             Building Name  \\\n",
       "202          3            Mira Residence   \n",
       "203          3              The Resident   \n",
       "206          3  Amara Service Residences   \n",
       "207          3                   Tribeca   \n",
       "217          4              Summer Place   \n",
       "\n",
       "                                     Developer Tenure Type  \\\n",
       "202                               BSG Property    Freehold   \n",
       "203                                    Unknown   Leasehold   \n",
       "206             Jaya Megah Development Sdn Bhd    Freehold   \n",
       "207                                    Unknown   Leasehold   \n",
       "217  Jelutong Development Sdn. Bhd. (IJM Land)   Leasehold   \n",
       "\n",
       "                                               Address Completion Year  \\\n",
       "202        Jalan Lembah Permai, Tanjung Bungah, Penang            2016   \n",
       "203              Jalan Cempaka 2, Ampang, Kuala Lumpur            2016   \n",
       "206         Jalan Raintree Utama, Batu Caves, Selangor            2014   \n",
       "207  Lorong Urat Mata 4, Jalan Urat Mata, Kuching, ...         Unknown   \n",
       "217  Lebuh Sungai Pinang 8, Jelutong, Georgetown, P...            2011   \n",
       "\n",
       "     # of Floors  Total Units      Property Type  Parking Lot Floor Range  \\\n",
       "202           32          322        Condominium            2     Unknown   \n",
       "203            0          180        Condominium            1         Low   \n",
       "206           23          744  Service Residence            2      Medium   \n",
       "207            0          684        Condominium            2        High   \n",
       "217           22          531        Condominium            2     Unknown   \n",
       "\n",
       "       Land Title Firm Type Firm Number REN Number  Bus Stop  Mall  Park  \\\n",
       "202  Non Bumi Lot         E       31622  REN 19587         0     0     0   \n",
       "203  Non Bumi Lot         E       11307  REN 22635         0     0     1   \n",
       "206  Non Bumi Lot         E       11584  REN 36845         0     0     0   \n",
       "207  Non Bumi Lot   Unknown     Unknown  REN 30496         0     0     0   \n",
       "217  Non Bumi Lot         E       31622  REN 19587         0     0     0   \n",
       "\n",
       "     School  Hospital     price  Highway  Railway Station         State  \n",
       "202       0         0  950000.0        0                0        penang  \n",
       "203       0         1  532000.0        0                0  kuala lumpur  \n",
       "206       1         0  320000.0        0                1      selangor  \n",
       "207       0         0  750000.0        0                0       sarawak  \n",
       "217       0         0  930000.0        0                0        penang  "
      ]
     },
     "execution_count": 104,
     "metadata": {},
     "output_type": "execute_result"
    }
   ],
   "source": [
    "# Identifying duplicated rows \n",
    "duplicated_rows =  df.loc[df.duplicated()]\n",
    "duplicated_rows.head() "
   ]
  },
  {
   "cell_type": "code",
   "execution_count": 105,
   "metadata": {},
   "outputs": [
    {
     "data": {
      "text/html": [
       "<div>\n",
       "<style scoped>\n",
       "    .dataframe tbody tr th:only-of-type {\n",
       "        vertical-align: middle;\n",
       "    }\n",
       "\n",
       "    .dataframe tbody tr th {\n",
       "        vertical-align: top;\n",
       "    }\n",
       "\n",
       "    .dataframe thead th {\n",
       "        text-align: right;\n",
       "    }\n",
       "</style>\n",
       "<table border=\"1\" class=\"dataframe\">\n",
       "  <thead>\n",
       "    <tr style=\"text-align: right;\">\n",
       "      <th></th>\n",
       "      <th>Bedroom</th>\n",
       "      <th>Bathroom</th>\n",
       "      <th>Property Size</th>\n",
       "      <th>Category</th>\n",
       "      <th>Facilities</th>\n",
       "      <th>Building Name</th>\n",
       "      <th>Developer</th>\n",
       "      <th>Tenure Type</th>\n",
       "      <th>Address</th>\n",
       "      <th>Completion Year</th>\n",
       "      <th># of Floors</th>\n",
       "      <th>Total Units</th>\n",
       "      <th>Property Type</th>\n",
       "      <th>Parking Lot</th>\n",
       "      <th>Floor Range</th>\n",
       "      <th>Land Title</th>\n",
       "      <th>Firm Type</th>\n",
       "      <th>Firm Number</th>\n",
       "      <th>REN Number</th>\n",
       "      <th>Bus Stop</th>\n",
       "      <th>Mall</th>\n",
       "      <th>Park</th>\n",
       "      <th>School</th>\n",
       "      <th>Hospital</th>\n",
       "      <th>price</th>\n",
       "      <th>Highway</th>\n",
       "      <th>Railway Station</th>\n",
       "      <th>State</th>\n",
       "    </tr>\n",
       "  </thead>\n",
       "  <tbody>\n",
       "    <tr>\n",
       "      <th>199</th>\n",
       "      <td>4</td>\n",
       "      <td>3</td>\n",
       "      <td>1464.0</td>\n",
       "      <td>Apartment / Condominium, For sale</td>\n",
       "      <td>4</td>\n",
       "      <td>Summer Place</td>\n",
       "      <td>Jelutong Development Sdn. Bhd. (IJM Land)</td>\n",
       "      <td>Leasehold</td>\n",
       "      <td>Lebuh Sungai Pinang 8, Jelutong, Georgetown, P...</td>\n",
       "      <td>2011</td>\n",
       "      <td>22</td>\n",
       "      <td>531</td>\n",
       "      <td>Condominium</td>\n",
       "      <td>2</td>\n",
       "      <td>Unknown</td>\n",
       "      <td>Non Bumi Lot</td>\n",
       "      <td>E</td>\n",
       "      <td>31622</td>\n",
       "      <td>REN 19587</td>\n",
       "      <td>0</td>\n",
       "      <td>0</td>\n",
       "      <td>0</td>\n",
       "      <td>0</td>\n",
       "      <td>0</td>\n",
       "      <td>930000.0</td>\n",
       "      <td>0</td>\n",
       "      <td>0</td>\n",
       "      <td>penang</td>\n",
       "    </tr>\n",
       "    <tr>\n",
       "      <th>217</th>\n",
       "      <td>4</td>\n",
       "      <td>3</td>\n",
       "      <td>1464.0</td>\n",
       "      <td>Apartment / Condominium, For sale</td>\n",
       "      <td>4</td>\n",
       "      <td>Summer Place</td>\n",
       "      <td>Jelutong Development Sdn. Bhd. (IJM Land)</td>\n",
       "      <td>Leasehold</td>\n",
       "      <td>Lebuh Sungai Pinang 8, Jelutong, Georgetown, P...</td>\n",
       "      <td>2011</td>\n",
       "      <td>22</td>\n",
       "      <td>531</td>\n",
       "      <td>Condominium</td>\n",
       "      <td>2</td>\n",
       "      <td>Unknown</td>\n",
       "      <td>Non Bumi Lot</td>\n",
       "      <td>E</td>\n",
       "      <td>31622</td>\n",
       "      <td>REN 19587</td>\n",
       "      <td>0</td>\n",
       "      <td>0</td>\n",
       "      <td>0</td>\n",
       "      <td>0</td>\n",
       "      <td>0</td>\n",
       "      <td>930000.0</td>\n",
       "      <td>0</td>\n",
       "      <td>0</td>\n",
       "      <td>penang</td>\n",
       "    </tr>\n",
       "    <tr>\n",
       "      <th>2156</th>\n",
       "      <td>3</td>\n",
       "      <td>2</td>\n",
       "      <td>1010.0</td>\n",
       "      <td>Apartment / Condominium, For sale</td>\n",
       "      <td>3</td>\n",
       "      <td>Summer Place</td>\n",
       "      <td>Jelutong Development Sdn. Bhd. (IJM Land)</td>\n",
       "      <td>Leasehold</td>\n",
       "      <td>Lebuh Sungai Pinang 8, Jelutong, Georgetown, P...</td>\n",
       "      <td>2011</td>\n",
       "      <td>22</td>\n",
       "      <td>531</td>\n",
       "      <td>Condominium</td>\n",
       "      <td>2</td>\n",
       "      <td>Unknown</td>\n",
       "      <td>Non Bumi Lot</td>\n",
       "      <td>Unknown</td>\n",
       "      <td>Unknown</td>\n",
       "      <td>Unknown</td>\n",
       "      <td>0</td>\n",
       "      <td>0</td>\n",
       "      <td>0</td>\n",
       "      <td>0</td>\n",
       "      <td>0</td>\n",
       "      <td>680000.0</td>\n",
       "      <td>0</td>\n",
       "      <td>0</td>\n",
       "      <td>penang</td>\n",
       "    </tr>\n",
       "    <tr>\n",
       "      <th>2160</th>\n",
       "      <td>3</td>\n",
       "      <td>2</td>\n",
       "      <td>1010.0</td>\n",
       "      <td>Apartment / Condominium, For sale</td>\n",
       "      <td>3</td>\n",
       "      <td>Summer Place</td>\n",
       "      <td>Jelutong Development Sdn. Bhd. (IJM Land)</td>\n",
       "      <td>Leasehold</td>\n",
       "      <td>Lebuh Sungai Pinang 8, Jelutong, Georgetown, P...</td>\n",
       "      <td>2011</td>\n",
       "      <td>22</td>\n",
       "      <td>531</td>\n",
       "      <td>Condominium</td>\n",
       "      <td>2</td>\n",
       "      <td>Unknown</td>\n",
       "      <td>Non Bumi Lot</td>\n",
       "      <td>Unknown</td>\n",
       "      <td>Unknown</td>\n",
       "      <td>Unknown</td>\n",
       "      <td>0</td>\n",
       "      <td>0</td>\n",
       "      <td>0</td>\n",
       "      <td>0</td>\n",
       "      <td>0</td>\n",
       "      <td>680000.0</td>\n",
       "      <td>0</td>\n",
       "      <td>0</td>\n",
       "      <td>penang</td>\n",
       "    </tr>\n",
       "    <tr>\n",
       "      <th>2673</th>\n",
       "      <td>3</td>\n",
       "      <td>2</td>\n",
       "      <td>1012.0</td>\n",
       "      <td>Apartment / Condominium, For sale</td>\n",
       "      <td>3</td>\n",
       "      <td>Summer Place</td>\n",
       "      <td>Jelutong Development Sdn. Bhd. (IJM Land)</td>\n",
       "      <td>Leasehold</td>\n",
       "      <td>Lebuh Sungai Pinang 8, Jelutong, Georgetown, P...</td>\n",
       "      <td>2011</td>\n",
       "      <td>22</td>\n",
       "      <td>531</td>\n",
       "      <td>Condominium</td>\n",
       "      <td>2</td>\n",
       "      <td>Unknown</td>\n",
       "      <td>Non Bumi Lot</td>\n",
       "      <td>E</td>\n",
       "      <td>30510</td>\n",
       "      <td>REN 22937</td>\n",
       "      <td>0</td>\n",
       "      <td>0</td>\n",
       "      <td>0</td>\n",
       "      <td>0</td>\n",
       "      <td>0</td>\n",
       "      <td>660000.0</td>\n",
       "      <td>0</td>\n",
       "      <td>0</td>\n",
       "      <td>penang</td>\n",
       "    </tr>\n",
       "    <tr>\n",
       "      <th>3061</th>\n",
       "      <td>3</td>\n",
       "      <td>2</td>\n",
       "      <td>1100.0</td>\n",
       "      <td>Apartment / Condominium, For sale</td>\n",
       "      <td>3</td>\n",
       "      <td>Summer Place</td>\n",
       "      <td>Jelutong Development Sdn. Bhd. (IJM Land)</td>\n",
       "      <td>Leasehold</td>\n",
       "      <td>Lebuh Sungai Pinang 8, Jelutong, Georgetown, P...</td>\n",
       "      <td>2011</td>\n",
       "      <td>22</td>\n",
       "      <td>531</td>\n",
       "      <td>Condominium</td>\n",
       "      <td>2</td>\n",
       "      <td>High</td>\n",
       "      <td>Non Bumi Lot</td>\n",
       "      <td>E</td>\n",
       "      <td>31706</td>\n",
       "      <td>REN 23275</td>\n",
       "      <td>0</td>\n",
       "      <td>0</td>\n",
       "      <td>0</td>\n",
       "      <td>0</td>\n",
       "      <td>0</td>\n",
       "      <td>700000.0</td>\n",
       "      <td>0</td>\n",
       "      <td>0</td>\n",
       "      <td>penang</td>\n",
       "    </tr>\n",
       "    <tr>\n",
       "      <th>3627</th>\n",
       "      <td>3</td>\n",
       "      <td>2</td>\n",
       "      <td>1012.0</td>\n",
       "      <td>Apartment / Condominium, For sale</td>\n",
       "      <td>3</td>\n",
       "      <td>Summer Place</td>\n",
       "      <td>Jelutong Development Sdn. Bhd. (IJM Land)</td>\n",
       "      <td>Leasehold</td>\n",
       "      <td>Lebuh Sungai Pinang 8, Jelutong, Georgetown, P...</td>\n",
       "      <td>2011</td>\n",
       "      <td>22</td>\n",
       "      <td>531</td>\n",
       "      <td>Condominium</td>\n",
       "      <td>2</td>\n",
       "      <td>High</td>\n",
       "      <td>Non Bumi Lot</td>\n",
       "      <td>E</td>\n",
       "      <td>11924</td>\n",
       "      <td>Unknown</td>\n",
       "      <td>0</td>\n",
       "      <td>0</td>\n",
       "      <td>0</td>\n",
       "      <td>0</td>\n",
       "      <td>0</td>\n",
       "      <td>675000.0</td>\n",
       "      <td>0</td>\n",
       "      <td>0</td>\n",
       "      <td>penang</td>\n",
       "    </tr>\n",
       "    <tr>\n",
       "      <th>3628</th>\n",
       "      <td>4</td>\n",
       "      <td>3</td>\n",
       "      <td>1464.0</td>\n",
       "      <td>Apartment / Condominium, For sale</td>\n",
       "      <td>4</td>\n",
       "      <td>Summer Place</td>\n",
       "      <td>Jelutong Development Sdn. Bhd. (IJM Land)</td>\n",
       "      <td>Leasehold</td>\n",
       "      <td>Lebuh Sungai Pinang 8, Jelutong, Georgetown, P...</td>\n",
       "      <td>2011</td>\n",
       "      <td>22</td>\n",
       "      <td>531</td>\n",
       "      <td>Condominium</td>\n",
       "      <td>2</td>\n",
       "      <td>Low</td>\n",
       "      <td>Non Bumi Lot</td>\n",
       "      <td>E</td>\n",
       "      <td>11924</td>\n",
       "      <td>Unknown</td>\n",
       "      <td>0</td>\n",
       "      <td>0</td>\n",
       "      <td>0</td>\n",
       "      <td>0</td>\n",
       "      <td>0</td>\n",
       "      <td>930000.0</td>\n",
       "      <td>0</td>\n",
       "      <td>0</td>\n",
       "      <td>penang</td>\n",
       "    </tr>\n",
       "  </tbody>\n",
       "</table>\n",
       "</div>"
      ],
      "text/plain": [
       "      Bedroom  Bathroom  Property Size                           Category  \\\n",
       "199         4         3         1464.0  Apartment / Condominium, For sale   \n",
       "217         4         3         1464.0  Apartment / Condominium, For sale   \n",
       "2156        3         2         1010.0  Apartment / Condominium, For sale   \n",
       "2160        3         2         1010.0  Apartment / Condominium, For sale   \n",
       "2673        3         2         1012.0  Apartment / Condominium, For sale   \n",
       "3061        3         2         1100.0  Apartment / Condominium, For sale   \n",
       "3627        3         2         1012.0  Apartment / Condominium, For sale   \n",
       "3628        4         3         1464.0  Apartment / Condominium, For sale   \n",
       "\n",
       "     Facilities Building Name                                  Developer  \\\n",
       "199           4  Summer Place  Jelutong Development Sdn. Bhd. (IJM Land)   \n",
       "217           4  Summer Place  Jelutong Development Sdn. Bhd. (IJM Land)   \n",
       "2156          3  Summer Place  Jelutong Development Sdn. Bhd. (IJM Land)   \n",
       "2160          3  Summer Place  Jelutong Development Sdn. Bhd. (IJM Land)   \n",
       "2673          3  Summer Place  Jelutong Development Sdn. Bhd. (IJM Land)   \n",
       "3061          3  Summer Place  Jelutong Development Sdn. Bhd. (IJM Land)   \n",
       "3627          3  Summer Place  Jelutong Development Sdn. Bhd. (IJM Land)   \n",
       "3628          4  Summer Place  Jelutong Development Sdn. Bhd. (IJM Land)   \n",
       "\n",
       "     Tenure Type                                            Address  \\\n",
       "199    Leasehold  Lebuh Sungai Pinang 8, Jelutong, Georgetown, P...   \n",
       "217    Leasehold  Lebuh Sungai Pinang 8, Jelutong, Georgetown, P...   \n",
       "2156   Leasehold  Lebuh Sungai Pinang 8, Jelutong, Georgetown, P...   \n",
       "2160   Leasehold  Lebuh Sungai Pinang 8, Jelutong, Georgetown, P...   \n",
       "2673   Leasehold  Lebuh Sungai Pinang 8, Jelutong, Georgetown, P...   \n",
       "3061   Leasehold  Lebuh Sungai Pinang 8, Jelutong, Georgetown, P...   \n",
       "3627   Leasehold  Lebuh Sungai Pinang 8, Jelutong, Georgetown, P...   \n",
       "3628   Leasehold  Lebuh Sungai Pinang 8, Jelutong, Georgetown, P...   \n",
       "\n",
       "     Completion Year  # of Floors  Total Units Property Type  Parking Lot  \\\n",
       "199             2011           22          531   Condominium            2   \n",
       "217             2011           22          531   Condominium            2   \n",
       "2156            2011           22          531   Condominium            2   \n",
       "2160            2011           22          531   Condominium            2   \n",
       "2673            2011           22          531   Condominium            2   \n",
       "3061            2011           22          531   Condominium            2   \n",
       "3627            2011           22          531   Condominium            2   \n",
       "3628            2011           22          531   Condominium            2   \n",
       "\n",
       "     Floor Range    Land Title Firm Type Firm Number REN Number  Bus Stop  \\\n",
       "199      Unknown  Non Bumi Lot         E       31622  REN 19587         0   \n",
       "217      Unknown  Non Bumi Lot         E       31622  REN 19587         0   \n",
       "2156     Unknown  Non Bumi Lot   Unknown     Unknown    Unknown         0   \n",
       "2160     Unknown  Non Bumi Lot   Unknown     Unknown    Unknown         0   \n",
       "2673     Unknown  Non Bumi Lot         E       30510  REN 22937         0   \n",
       "3061        High  Non Bumi Lot         E       31706  REN 23275         0   \n",
       "3627        High  Non Bumi Lot         E       11924    Unknown         0   \n",
       "3628         Low  Non Bumi Lot         E       11924    Unknown         0   \n",
       "\n",
       "      Mall  Park  School  Hospital     price  Highway  Railway Station   State  \n",
       "199      0     0       0         0  930000.0        0                0  penang  \n",
       "217      0     0       0         0  930000.0        0                0  penang  \n",
       "2156     0     0       0         0  680000.0        0                0  penang  \n",
       "2160     0     0       0         0  680000.0        0                0  penang  \n",
       "2673     0     0       0         0  660000.0        0                0  penang  \n",
       "3061     0     0       0         0  700000.0        0                0  penang  \n",
       "3627     0     0       0         0  675000.0        0                0  penang  \n",
       "3628     0     0       0         0  930000.0        0                0  penang  "
      ]
     },
     "execution_count": 105,
     "metadata": {},
     "output_type": "execute_result"
    }
   ],
   "source": [
    "df.query('`Building Name` == \"Summer Place\"')"
   ]
  },
  {
   "cell_type": "code",
   "execution_count": 106,
   "metadata": {},
   "outputs": [
    {
     "data": {
      "text/plain": [
       "(1131, 28)"
      ]
     },
     "execution_count": 106,
     "metadata": {},
     "output_type": "execute_result"
    }
   ],
   "source": [
    "df.shape"
   ]
  },
  {
   "cell_type": "code",
   "execution_count": 107,
   "metadata": {},
   "outputs": [
    {
     "data": {
      "text/plain": [
       "(1055, 28)"
      ]
     },
     "execution_count": 107,
     "metadata": {},
     "output_type": "execute_result"
    }
   ],
   "source": [
    "# Removing duplicated rows\n",
    "df = df.loc[~df.duplicated(subset=df.columns)] \\\n",
    "    .reset_index(drop=True).copy() \n",
    "\n",
    "df.shape"
   ]
  },
  {
   "cell_type": "markdown",
   "metadata": {},
   "source": [
    "****Exploratory Data Analysis****"
   ]
  },
  {
   "cell_type": "code",
   "execution_count": 108,
   "metadata": {},
   "outputs": [
    {
     "data": {
      "text/html": [
       "<div>\n",
       "<style scoped>\n",
       "    .dataframe tbody tr th:only-of-type {\n",
       "        vertical-align: middle;\n",
       "    }\n",
       "\n",
       "    .dataframe tbody tr th {\n",
       "        vertical-align: top;\n",
       "    }\n",
       "\n",
       "    .dataframe thead th {\n",
       "        text-align: right;\n",
       "    }\n",
       "</style>\n",
       "<table border=\"1\" class=\"dataframe\">\n",
       "  <thead>\n",
       "    <tr style=\"text-align: right;\">\n",
       "      <th></th>\n",
       "      <th>Completion Year</th>\n",
       "      <th>Count</th>\n",
       "    </tr>\n",
       "  </thead>\n",
       "  <tbody>\n",
       "    <tr>\n",
       "      <th>36</th>\n",
       "      <td>Unknown</td>\n",
       "      <td>159</td>\n",
       "    </tr>\n",
       "    <tr>\n",
       "      <th>26</th>\n",
       "      <td>2017</td>\n",
       "      <td>86</td>\n",
       "    </tr>\n",
       "    <tr>\n",
       "      <th>25</th>\n",
       "      <td>2016</td>\n",
       "      <td>74</td>\n",
       "    </tr>\n",
       "    <tr>\n",
       "      <th>23</th>\n",
       "      <td>2014</td>\n",
       "      <td>57</td>\n",
       "    </tr>\n",
       "    <tr>\n",
       "      <th>22</th>\n",
       "      <td>2013</td>\n",
       "      <td>52</td>\n",
       "    </tr>\n",
       "    <tr>\n",
       "      <th>16</th>\n",
       "      <td>2007</td>\n",
       "      <td>46</td>\n",
       "    </tr>\n",
       "    <tr>\n",
       "      <th>30</th>\n",
       "      <td>2021</td>\n",
       "      <td>44</td>\n",
       "    </tr>\n",
       "    <tr>\n",
       "      <th>29</th>\n",
       "      <td>2020</td>\n",
       "      <td>43</td>\n",
       "    </tr>\n",
       "    <tr>\n",
       "      <th>24</th>\n",
       "      <td>2015</td>\n",
       "      <td>42</td>\n",
       "    </tr>\n",
       "    <tr>\n",
       "      <th>27</th>\n",
       "      <td>2018</td>\n",
       "      <td>41</td>\n",
       "    </tr>\n",
       "    <tr>\n",
       "      <th>7</th>\n",
       "      <td>1998</td>\n",
       "      <td>37</td>\n",
       "    </tr>\n",
       "    <tr>\n",
       "      <th>8</th>\n",
       "      <td>1999</td>\n",
       "      <td>35</td>\n",
       "    </tr>\n",
       "    <tr>\n",
       "      <th>17</th>\n",
       "      <td>2008</td>\n",
       "      <td>35</td>\n",
       "    </tr>\n",
       "    <tr>\n",
       "      <th>21</th>\n",
       "      <td>2012</td>\n",
       "      <td>34</td>\n",
       "    </tr>\n",
       "    <tr>\n",
       "      <th>15</th>\n",
       "      <td>2006</td>\n",
       "      <td>34</td>\n",
       "    </tr>\n",
       "    <tr>\n",
       "      <th>20</th>\n",
       "      <td>2011</td>\n",
       "      <td>32</td>\n",
       "    </tr>\n",
       "    <tr>\n",
       "      <th>19</th>\n",
       "      <td>2010</td>\n",
       "      <td>28</td>\n",
       "    </tr>\n",
       "    <tr>\n",
       "      <th>28</th>\n",
       "      <td>2019</td>\n",
       "      <td>25</td>\n",
       "    </tr>\n",
       "    <tr>\n",
       "      <th>31</th>\n",
       "      <td>2022</td>\n",
       "      <td>24</td>\n",
       "    </tr>\n",
       "    <tr>\n",
       "      <th>3</th>\n",
       "      <td>1994</td>\n",
       "      <td>23</td>\n",
       "    </tr>\n",
       "    <tr>\n",
       "      <th>14</th>\n",
       "      <td>2005</td>\n",
       "      <td>15</td>\n",
       "    </tr>\n",
       "    <tr>\n",
       "      <th>6</th>\n",
       "      <td>1997</td>\n",
       "      <td>12</td>\n",
       "    </tr>\n",
       "    <tr>\n",
       "      <th>13</th>\n",
       "      <td>2004</td>\n",
       "      <td>10</td>\n",
       "    </tr>\n",
       "    <tr>\n",
       "      <th>18</th>\n",
       "      <td>2009</td>\n",
       "      <td>9</td>\n",
       "    </tr>\n",
       "    <tr>\n",
       "      <th>10</th>\n",
       "      <td>2001</td>\n",
       "      <td>8</td>\n",
       "    </tr>\n",
       "    <tr>\n",
       "      <th>5</th>\n",
       "      <td>1996</td>\n",
       "      <td>8</td>\n",
       "    </tr>\n",
       "    <tr>\n",
       "      <th>12</th>\n",
       "      <td>2003</td>\n",
       "      <td>6</td>\n",
       "    </tr>\n",
       "    <tr>\n",
       "      <th>9</th>\n",
       "      <td>2000</td>\n",
       "      <td>6</td>\n",
       "    </tr>\n",
       "    <tr>\n",
       "      <th>32</th>\n",
       "      <td>2023</td>\n",
       "      <td>6</td>\n",
       "    </tr>\n",
       "    <tr>\n",
       "      <th>1</th>\n",
       "      <td>1989</td>\n",
       "      <td>5</td>\n",
       "    </tr>\n",
       "    <tr>\n",
       "      <th>4</th>\n",
       "      <td>1995</td>\n",
       "      <td>4</td>\n",
       "    </tr>\n",
       "    <tr>\n",
       "      <th>33</th>\n",
       "      <td>2024</td>\n",
       "      <td>4</td>\n",
       "    </tr>\n",
       "    <tr>\n",
       "      <th>11</th>\n",
       "      <td>2002</td>\n",
       "      <td>3</td>\n",
       "    </tr>\n",
       "    <tr>\n",
       "      <th>0</th>\n",
       "      <td>1987</td>\n",
       "      <td>3</td>\n",
       "    </tr>\n",
       "    <tr>\n",
       "      <th>2</th>\n",
       "      <td>1992</td>\n",
       "      <td>2</td>\n",
       "    </tr>\n",
       "    <tr>\n",
       "      <th>35</th>\n",
       "      <td>2026</td>\n",
       "      <td>2</td>\n",
       "    </tr>\n",
       "    <tr>\n",
       "      <th>34</th>\n",
       "      <td>2025</td>\n",
       "      <td>1</td>\n",
       "    </tr>\n",
       "  </tbody>\n",
       "</table>\n",
       "</div>"
      ],
      "text/plain": [
       "   Completion Year  Count\n",
       "36         Unknown    159\n",
       "26            2017     86\n",
       "25            2016     74\n",
       "23            2014     57\n",
       "22            2013     52\n",
       "16            2007     46\n",
       "30            2021     44\n",
       "29            2020     43\n",
       "24            2015     42\n",
       "27            2018     41\n",
       "7             1998     37\n",
       "8             1999     35\n",
       "17            2008     35\n",
       "21            2012     34\n",
       "15            2006     34\n",
       "20            2011     32\n",
       "19            2010     28\n",
       "28            2019     25\n",
       "31            2022     24\n",
       "3             1994     23\n",
       "14            2005     15\n",
       "6             1997     12\n",
       "13            2004     10\n",
       "18            2009      9\n",
       "10            2001      8\n",
       "5             1996      8\n",
       "12            2003      6\n",
       "9             2000      6\n",
       "32            2023      6\n",
       "1             1989      5\n",
       "4             1995      4\n",
       "33            2024      4\n",
       "11            2002      3\n",
       "0             1987      3\n",
       "2             1992      2\n",
       "35            2026      2\n",
       "34            2025      1"
      ]
     },
     "execution_count": 108,
     "metadata": {},
     "output_type": "execute_result"
    }
   ],
   "source": [
    "#completion_year_count returns a dataframe\n",
    "#reset_index is like renaming the size() column \n",
    "completion_year_count = df.groupby('Completion Year').size().reset_index(name='Count').sort_values(by='Count', ascending=False)    \n",
    "completion_year_count "
   ]
  },
  {
   "cell_type": "code",
   "execution_count": 109,
   "metadata": {},
   "outputs": [
    {
     "name": "stderr",
     "output_type": "stream",
     "text": [
      "C:\\Users\\User\\AppData\\Local\\Temp\\ipykernel_16216\\3216588255.py:10: UserWarning: FigureCanvasAgg is non-interactive, and thus cannot be shown\n",
      "  fig.show()\n"
     ]
    },
    {
     "data": {
      "image/png": "[encoded data removed]",
      "text/plain": [
       "<Figure size 1000x600 with 1 Axes>"
      ]
     },
     "metadata": {},
     "output_type": "display_data"
    }
   ],
   "source": [
    "fig, ax = plt.subplots(figsize=(10, 6))\n",
    "ax = df['Completion Year'].value_counts() \\\n",
    "    .plot(kind='bar', title='Completion Year against Count') \n",
    "ax.set_xlabel('Completion Year')  \n",
    "ax.set_ylabel('Count') \n",
    "\n",
    "\n",
    "# To ensure no overlapping between bars \n",
    "fig.tight_layout()\n",
    "fig.show()  "
   ]
  },
  {
   "cell_type": "code",
   "execution_count": 110,
   "metadata": {},
   "outputs": [
    {
     "data": {
      "image/png": "[encoded data removed]",
      "text/plain": [
       "<Figure size 1000x600 with 1 Axes>"
      ]
     },
     "metadata": {},
     "output_type": "display_data"
    }
   ],
   "source": [
    "#Same version as above \n",
    "# Set the figure size\n",
    "plt.figure(figsize=(10, 6))\n",
    "\n",
    "# Create a bar chart\n",
    "plt.bar(completion_year_count['Completion Year'], completion_year_count['Count'])\n",
    "\n",
    "# Set the x-axis, y-axis label\n",
    "plt.xlabel('Completion Year')\n",
    "plt.ylabel('Count')\n",
    "\n",
    "# Set the title of the plot\n",
    "plt.title('Completion Year Counts')\n",
    "\n",
    "# Add gridlines to the y-axis for reference\n",
    "plt.grid(axis='y', linestyle='--', alpha=0.7)\n",
    "\n",
    "# Rotate x-axis labels for better readability\n",
    "plt.xticks(rotation=45)  \n",
    "\n",
    "# Ensure that plot elements do not overlap\n",
    "plt.tight_layout()\n",
    "plt.show() "
   ]
  },
  {
   "cell_type": "code",
   "execution_count": 111,
   "metadata": {},
   "outputs": [
    {
     "data": {
      "application/vnd.plotly.v1+json": {
       "config": {
        "plotlyServerURL": "https://plot.ly"
       },
       "data": [
        {
         "alignmentgroup": "True",
         "hovertemplate": "Completion Year=%{x}<br>Count=%{y}<extra></extra>",
         "legendgroup": "",
         "marker": {
          "color": "#636efa",
          "pattern": {
           "shape": ""
          }
         },
         "name": "",
         "offsetgroup": "",
         "orientation": "v",
         "showlegend": false,
         "textposition": "auto",
         "type": "bar",
         "x": [
          "Unknown",
          "2017",
          "2016",
          "2014",
          "2013",
          "2007",
          "2021",
          "2020",
          "2015",
          "2018",
          "1998",
          "1999",
          "2008",
          "2012",
          "2006",
          "2011",
          "2010",
          "2019",
          "2022",
          "1994",
          "2005",
          "1997",
          "2004",
          "2009",
          "2001",
          "1996",
          "2003",
          "2000",
          "2023",
          "1989",
          "1995",
          "2024",
          "2002",
          "1987",
          "1992",
          "2026",
          "2025"
         ],
         "xaxis": "x",
         "y": [
          159,
          86,
          74,
          57,
          52,
          46,
          44,
          43,
          42,
          41,
          37,
          35,
          35,
          34,
          34,
          32,
          28,
          25,
          24,
          23,
          15,
          12,
          10,
          9,
          8,
          8,
          6,
          6,
          6,
          5,
          4,
          4,
          3,
          3,
          2,
          2,
          1
         ],
         "yaxis": "y"
        }
       ],
       "layout": {
        "barmode": "relative",
        "legend": {
         "tracegroupgap": 0
        },
        "template": {
         "data": {
          "bar": [
           {
            "error_x": {
             "color": "#2a3f5f"
            },
            "error_y": {
             "color": "#2a3f5f"
            },
            "marker": {
             "line": {
              "color": "#E5ECF6",
              "width": 0.5
             },
             "pattern": {
              "fillmode": "overlay",
              "size": 10,
              "solidity": 0.2
             }
            },
            "type": "bar"
           }
          ],
          "barpolar": [
           {
            "marker": {
             "line": {
              "color": "#E5ECF6",
              "width": 0.5
             },
             "pattern": {
              "fillmode": "overlay",
              "size": 10,
              "solidity": 0.2
             }
            },
            "type": "barpolar"
           }
          ],
          "carpet": [
           {
            "aaxis": {
             "endlinecolor": "#2a3f5f",
             "gridcolor": "white",
             "linecolor": "white",
             "minorgridcolor": "white",
             "startlinecolor": "#2a3f5f"
            },
            "baxis": {
             "endlinecolor": "#2a3f5f",
             "gridcolor": "white",
             "linecolor": "white",
             "minorgridcolor": "white",
             "startlinecolor": "#2a3f5f"
            },
            "type": "carpet"
           }
          ],
          "choropleth": [
           {
            "colorbar": {
             "outlinewidth": 0,
             "ticks": ""
            },
            "type": "choropleth"
           }
          ],
          "contour": [
           {
            "colorbar": {
             "outlinewidth": 0,
             "ticks": ""
            },
            "colorscale": [
             [
              0,
              "#0d0887"
             ],
             [
              0.1111111111111111,
              "#46039f"
             ],
             [
              0.2222222222222222,
              "#7201a8"
             ],
             [
              0.3333333333333333,
              "#9c179e"
             ],
             [
              0.4444444444444444,
              "#bd3786"
             ],
             [
              0.5555555555555556,
              "#d8576b"
             ],
             [
              0.6666666666666666,
              "#ed7953"
             ],
             [
              0.7777777777777778,
              "#fb9f3a"
             ],
             [
              0.8888888888888888,
              "#fdca26"
             ],
             [
              1,
              "#f0f921"
             ]
            ],
            "type": "contour"
           }
          ],
          "contourcarpet": [
           {
            "colorbar": {
             "outlinewidth": 0,
             "ticks": ""
            },
            "type": "contourcarpet"
           }
          ],
          "heatmap": [
           {
            "colorbar": {
             "outlinewidth": 0,
             "ticks": ""
            },
            "colorscale": [
             [
              0,
              "#0d0887"
             ],
             [
              0.1111111111111111,
              "#46039f"
             ],
             [
              0.2222222222222222,
              "#7201a8"
             ],
             [
              0.3333333333333333,
              "#9c179e"
             ],
             [
              0.4444444444444444,
              "#bd3786"
             ],
             [
              0.5555555555555556,
              "#d8576b"
             ],
             [
              0.6666666666666666,
              "#ed7953"
             ],
             [
              0.7777777777777778,
              "#fb9f3a"
             ],
             [
              0.8888888888888888,
              "#fdca26"
             ],
             [
              1,
              "#f0f921"
             ]
            ],
            "type": "heatmap"
           }
          ],
          "heatmapgl": [
           {
            "colorbar": {
             "outlinewidth": 0,
             "ticks": ""
            },
            "colorscale": [
             [
              0,
              "#0d0887"
             ],
             [
              0.1111111111111111,
              "#46039f"
             ],
             [
              0.2222222222222222,
              "#7201a8"
             ],
             [
              0.3333333333333333,
              "#9c179e"
             ],
             [
              0.4444444444444444,
              "#bd3786"
             ],
             [
              0.5555555555555556,
              "#d8576b"
             ],
             [
              0.6666666666666666,
              "#ed7953"
             ],
             [
              0.7777777777777778,
              "#fb9f3a"
             ],
             [
              0.8888888888888888,
              "#fdca26"
             ],
             [
              1,
              "#f0f921"
             ]
            ],
            "type": "heatmapgl"
           }
          ],
          "histogram": [
           {
            "marker": {
             "pattern": {
              "fillmode": "overlay",
              "size": 10,
              "solidity": 0.2
             }
            },
            "type": "histogram"
           }
          ],
          "histogram2d": [
           {
            "colorbar": {
             "outlinewidth": 0,
             "ticks": ""
            },
            "colorscale": [
             [
              0,
              "#0d0887"
             ],
             [
              0.1111111111111111,
              "#46039f"
             ],
             [
              0.2222222222222222,
              "#7201a8"
             ],
             [
              0.3333333333333333,
              "#9c179e"
             ],
             [
              0.4444444444444444,
              "#bd3786"
             ],
             [
              0.5555555555555556,
              "#d8576b"
             ],
             [
              0.6666666666666666,
              "#ed7953"
             ],
             [
              0.7777777777777778,
              "#fb9f3a"
             ],
             [
              0.8888888888888888,
              "#fdca26"
             ],
             [
              1,
              "#f0f921"
             ]
            ],
            "type": "histogram2d"
           }
          ],
          "histogram2dcontour": [
           {
            "colorbar": {
             "outlinewidth": 0,
             "ticks": ""
            },
            "colorscale": [
             [
              0,
              "#0d0887"
             ],
             [
              0.1111111111111111,
              "#46039f"
             ],
             [
              0.2222222222222222,
              "#7201a8"
             ],
             [
              0.3333333333333333,
              "#9c179e"
             ],
             [
              0.4444444444444444,
              "#bd3786"
             ],
             [
              0.5555555555555556,
              "#d8576b"
             ],
             [
              0.6666666666666666,
              "#ed7953"
             ],
             [
              0.7777777777777778,
              "#fb9f3a"
             ],
             [
              0.8888888888888888,
              "#fdca26"
             ],
             [
              1,
              "#f0f921"
             ]
            ],
            "type": "histogram2dcontour"
           }
          ],
          "mesh3d": [
           {
            "colorbar": {
             "outlinewidth": 0,
             "ticks": ""
            },
            "type": "mesh3d"
           }
          ],
          "parcoords": [
           {
            "line": {
             "colorbar": {
              "outlinewidth": 0,
              "ticks": ""
             }
            },
            "type": "parcoords"
           }
          ],
          "pie": [
           {
            "automargin": true,
            "type": "pie"
           }
          ],
          "scatter": [
           {
            "fillpattern": {
             "fillmode": "overlay",
             "size": 10,
             "solidity": 0.2
            },
            "type": "scatter"
           }
          ],
          "scatter3d": [
           {
            "line": {
             "colorbar": {
              "outlinewidth": 0,
              "ticks": ""
             }
            },
            "marker": {
             "colorbar": {
              "outlinewidth": 0,
              "ticks": ""
             }
            },
            "type": "scatter3d"
           }
          ],
          "scattercarpet": [
           {
            "marker": {
             "colorbar": {
              "outlinewidth": 0,
              "ticks": ""
             }
            },
            "type": "scattercarpet"
           }
          ],
          "scattergeo": [
           {
            "marker": {
             "colorbar": {
              "outlinewidth": 0,
              "ticks": ""
             }
            },
            "type": "scattergeo"
           }
          ],
          "scattergl": [
           {
            "marker": {
             "colorbar": {
              "outlinewidth": 0,
              "ticks": ""
             }
            },
            "type": "scattergl"
           }
          ],
          "scattermapbox": [
           {
            "marker": {
             "colorbar": {
              "outlinewidth": 0,
              "ticks": ""
             }
            },
            "type": "scattermapbox"
           }
          ],
          "scatterpolar": [
           {
            "marker": {
             "colorbar": {
              "outlinewidth": 0,
              "ticks": ""
             }
            },
            "type": "scatterpolar"
           }
          ],
          "scatterpolargl": [
           {
            "marker": {
             "colorbar": {
              "outlinewidth": 0,
              "ticks": ""
             }
            },
            "type": "scatterpolargl"
           }
          ],
          "scatterternary": [
           {
            "marker": {
             "colorbar": {
              "outlinewidth": 0,
              "ticks": ""
             }
            },
            "type": "scatterternary"
           }
          ],
          "surface": [
           {
            "colorbar": {
             "outlinewidth": 0,
             "ticks": ""
            },
            "colorscale": [
             [
              0,
              "#0d0887"
             ],
             [
              0.1111111111111111,
              "#46039f"
             ],
             [
              0.2222222222222222,
              "#7201a8"
             ],
             [
              0.3333333333333333,
              "#9c179e"
             ],
             [
              0.4444444444444444,
              "#bd3786"
             ],
             [
              0.5555555555555556,
              "#d8576b"
             ],
             [
              0.6666666666666666,
              "#ed7953"
             ],
             [
              0.7777777777777778,
              "#fb9f3a"
             ],
             [
              0.8888888888888888,
              "#fdca26"
             ],
             [
              1,
              "#f0f921"
             ]
            ],
            "type": "surface"
           }
          ],
          "table": [
           {
            "cells": {
             "fill": {
              "color": "#EBF0F8"
             },
             "line": {
              "color": "white"
             }
            },
            "header": {
             "fill": {
              "color": "#C8D4E3"
             },
             "line": {
              "color": "white"
             }
            },
            "type": "table"
           }
          ]
         },
         "layout": {
          "annotationdefaults": {
           "arrowcolor": "#2a3f5f",
           "arrowhead": 0,
           "arrowwidth": 1
          },
          "autotypenumbers": "strict",
          "coloraxis": {
           "colorbar": {
            "outlinewidth": 0,
            "ticks": ""
           }
          },
          "colorscale": {
           "diverging": [
            [
             0,
             "#8e0152"
            ],
            [
             0.1,
             "#c51b7d"
            ],
            [
             0.2,
             "#de77ae"
            ],
            [
             0.3,
             "#f1b6da"
            ],
            [
             0.4,
             "#fde0ef"
            ],
            [
             0.5,
             "#f7f7f7"
            ],
            [
             0.6,
             "#e6f5d0"
            ],
            [
             0.7,
             "#b8e186"
            ],
            [
             0.8,
             "#7fbc41"
            ],
            [
             0.9,
             "#4d9221"
            ],
            [
             1,
             "#276419"
            ]
           ],
           "sequential": [
            [
             0,
             "#0d0887"
            ],
            [
             0.1111111111111111,
             "#46039f"
            ],
            [
             0.2222222222222222,
             "#7201a8"
            ],
            [
             0.3333333333333333,
             "#9c179e"
            ],
            [
             0.4444444444444444,
             "#bd3786"
            ],
            [
             0.5555555555555556,
             "#d8576b"
            ],
            [
             0.6666666666666666,
             "#ed7953"
            ],
            [
             0.7777777777777778,
             "#fb9f3a"
            ],
            [
             0.8888888888888888,
             "#fdca26"
            ],
            [
             1,
             "#f0f921"
            ]
           ],
           "sequentialminus": [
            [
             0,
             "#0d0887"
            ],
            [
             0.1111111111111111,
             "#46039f"
            ],
            [
             0.2222222222222222,
             "#7201a8"
            ],
            [
             0.3333333333333333,
             "#9c179e"
            ],
            [
             0.4444444444444444,
             "#bd3786"
            ],
            [
             0.5555555555555556,
             "#d8576b"
            ],
            [
             0.6666666666666666,
             "#ed7953"
            ],
            [
             0.7777777777777778,
             "#fb9f3a"
            ],
            [
             0.8888888888888888,
             "#fdca26"
            ],
            [
             1,
             "#f0f921"
            ]
           ]
          },
          "colorway": [
           "#636efa",
           "#EF553B",
           "#00cc96",
           "#ab63fa",
           "#FFA15A",
           "#19d3f3",
           "#FF6692",
           "#B6E880",
           "#FF97FF",
           "#FECB52"
          ],
          "font": {
           "color": "#2a3f5f"
          },
          "geo": {
           "bgcolor": "white",
           "lakecolor": "white",
           "landcolor": "#E5ECF6",
           "showlakes": true,
           "showland": true,
           "subunitcolor": "white"
          },
          "hoverlabel": {
           "align": "left"
          },
          "hovermode": "closest",
          "mapbox": {
           "style": "light"
          },
          "paper_bgcolor": "white",
          "plot_bgcolor": "#E5ECF6",
          "polar": {
           "angularaxis": {
            "gridcolor": "white",
            "linecolor": "white",
            "ticks": ""
           },
           "bgcolor": "#E5ECF6",
           "radialaxis": {
            "gridcolor": "white",
            "linecolor": "white",
            "ticks": ""
           }
          },
          "scene": {
           "xaxis": {
            "backgroundcolor": "#E5ECF6",
            "gridcolor": "white",
            "gridwidth": 2,
            "linecolor": "white",
            "showbackground": true,
            "ticks": "",
            "zerolinecolor": "white"
           },
           "yaxis": {
            "backgroundcolor": "#E5ECF6",
            "gridcolor": "white",
            "gridwidth": 2,
            "linecolor": "white",
            "showbackground": true,
            "ticks": "",
            "zerolinecolor": "white"
           },
           "zaxis": {
            "backgroundcolor": "#E5ECF6",
            "gridcolor": "white",
            "gridwidth": 2,
            "linecolor": "white",
            "showbackground": true,
            "ticks": "",
            "zerolinecolor": "white"
           }
          },
          "shapedefaults": {
           "line": {
            "color": "#2a3f5f"
           }
          },
          "ternary": {
           "aaxis": {
            "gridcolor": "white",
            "linecolor": "white",
            "ticks": ""
           },
           "baxis": {
            "gridcolor": "white",
            "linecolor": "white",
            "ticks": ""
           },
           "bgcolor": "#E5ECF6",
           "caxis": {
            "gridcolor": "white",
            "linecolor": "white",
            "ticks": ""
           }
          },
          "title": {
           "x": 0.05
          },
          "xaxis": {
           "automargin": true,
           "gridcolor": "white",
           "linecolor": "white",
           "ticks": "",
           "title": {
            "standoff": 15
           },
           "zerolinecolor": "white",
           "zerolinewidth": 2
          },
          "yaxis": {
           "automargin": true,
           "gridcolor": "white",
           "linecolor": "white",
           "ticks": "",
           "title": {
            "standoff": 15
           },
           "zerolinecolor": "white",
           "zerolinewidth": 2
          }
         }
        },
        "title": {
         "text": "Completion Year over Units"
        },
        "xaxis": {
         "anchor": "y",
         "domain": [
          0,
          1
         ],
         "title": {
          "text": "Completion Year"
         }
        },
        "yaxis": {
         "anchor": "x",
         "domain": [
          0,
          1
         ],
         "title": {
          "text": "Count"
         }
        }
       }
      }
     },
     "metadata": {},
     "output_type": "display_data"
    }
   ],
   "source": [
    "#Using plotly\n",
    "fig = px.bar(completion_year_count, x='Completion Year', y='Count', title='Completion Year over Units') \n",
    "fig.show()  "
   ]
  },
  {
   "cell_type": "code",
   "execution_count": 112,
   "metadata": {},
   "outputs": [
    {
     "data": {
      "text/html": [
       "<div>\n",
       "<style scoped>\n",
       "    .dataframe tbody tr th:only-of-type {\n",
       "        vertical-align: middle;\n",
       "    }\n",
       "\n",
       "    .dataframe tbody tr th {\n",
       "        vertical-align: top;\n",
       "    }\n",
       "\n",
       "    .dataframe thead th {\n",
       "        text-align: right;\n",
       "    }\n",
       "</style>\n",
       "<table border=\"1\" class=\"dataframe\">\n",
       "  <thead>\n",
       "    <tr style=\"text-align: right;\">\n",
       "      <th></th>\n",
       "      <th>State</th>\n",
       "      <th>Units</th>\n",
       "    </tr>\n",
       "  </thead>\n",
       "  <tbody>\n",
       "    <tr>\n",
       "      <th>6</th>\n",
       "      <td>penang</td>\n",
       "      <td>488</td>\n",
       "    </tr>\n",
       "    <tr>\n",
       "      <th>11</th>\n",
       "      <td>selangor</td>\n",
       "      <td>275</td>\n",
       "    </tr>\n",
       "    <tr>\n",
       "      <th>2</th>\n",
       "      <td>kuala lumpur</td>\n",
       "      <td>181</td>\n",
       "    </tr>\n",
       "    <tr>\n",
       "      <th>0</th>\n",
       "      <td>johor</td>\n",
       "      <td>52</td>\n",
       "    </tr>\n",
       "    <tr>\n",
       "      <th>9</th>\n",
       "      <td>sabah</td>\n",
       "      <td>22</td>\n",
       "    </tr>\n",
       "    <tr>\n",
       "      <th>8</th>\n",
       "      <td>putrajaya</td>\n",
       "      <td>19</td>\n",
       "    </tr>\n",
       "    <tr>\n",
       "      <th>10</th>\n",
       "      <td>sarawak</td>\n",
       "      <td>6</td>\n",
       "    </tr>\n",
       "    <tr>\n",
       "      <th>3</th>\n",
       "      <td>melaka</td>\n",
       "      <td>5</td>\n",
       "    </tr>\n",
       "    <tr>\n",
       "      <th>5</th>\n",
       "      <td>pahang</td>\n",
       "      <td>3</td>\n",
       "    </tr>\n",
       "    <tr>\n",
       "      <th>7</th>\n",
       "      <td>perak</td>\n",
       "      <td>2</td>\n",
       "    </tr>\n",
       "    <tr>\n",
       "      <th>1</th>\n",
       "      <td>kedah</td>\n",
       "      <td>1</td>\n",
       "    </tr>\n",
       "    <tr>\n",
       "      <th>4</th>\n",
       "      <td>negeri sembilan</td>\n",
       "      <td>1</td>\n",
       "    </tr>\n",
       "  </tbody>\n",
       "</table>\n",
       "</div>"
      ],
      "text/plain": [
       "              State  Units\n",
       "6            penang    488\n",
       "11         selangor    275\n",
       "2      kuala lumpur    181\n",
       "0             johor     52\n",
       "9             sabah     22\n",
       "8         putrajaya     19\n",
       "10          sarawak      6\n",
       "3            melaka      5\n",
       "5            pahang      3\n",
       "7             perak      2\n",
       "1             kedah      1\n",
       "4   negeri sembilan      1"
      ]
     },
     "execution_count": 112,
     "metadata": {},
     "output_type": "execute_result"
    }
   ],
   "source": [
    "# Checking the number of apartments or condo in each states or federals\n",
    "state_units = df.groupby(\"State\")\\\n",
    "            .size() \\\n",
    "            .reset_index(name=\"Units\") \\\n",
    "            .sort_values(by=\"Units\",ascending=False)\n",
    "\n",
    "state_units\n"
   ]
  },
  {
   "cell_type": "code",
   "execution_count": 113,
   "metadata": {},
   "outputs": [
    {
     "name": "stderr",
     "output_type": "stream",
     "text": [
      "C:\\Users\\User\\AppData\\Local\\Temp\\ipykernel_16216\\3304588595.py:12: UserWarning:\n",
      "\n",
      "FigureCanvasAgg is non-interactive, and thus cannot be shown\n",
      "\n"
     ]
    },
    {
     "data": {
      "image/png": "[encoded data removed]",
      "text/plain": [
       "<Figure size 1000x600 with 1 Axes>"
      ]
     },
     "metadata": {},
     "output_type": "display_data"
    }
   ],
   "source": [
    "#Using pyplot\n",
    "# From here, we can say that we have imbalance dataset \n",
    "fig, ax = plt.subplots(figsize=(10, 6))\n",
    "ax = df['State'].value_counts() \\\n",
    "    .plot(kind='bar', title='State against Unit Count') \n",
    "ax.set_xlabel('State')  \n",
    "ax.set_ylabel('Count') \n",
    "\n",
    "\n",
    "# To ensure no overlapping between bars \n",
    "fig.tight_layout()\n",
    "fig.show()  "
   ]
  },
  {
   "cell_type": "code",
   "execution_count": 114,
   "metadata": {},
   "outputs": [
    {
     "data": {
      "application/vnd.plotly.v1+json": {
       "config": {
        "plotlyServerURL": "https://plot.ly"
       },
       "data": [
        {
         "alignmentgroup": "True",
         "hovertemplate": "State=%{x}<br>Units=%{y}<extra></extra>",
         "legendgroup": "",
         "marker": {
          "color": "#636efa",
          "pattern": {
           "shape": ""
          }
         },
         "name": "",
         "offsetgroup": "",
         "orientation": "v",
         "showlegend": false,
         "textposition": "auto",
         "type": "bar",
         "x": [
          "penang",
          "selangor",
          "kuala lumpur",
          "johor",
          "sabah",
          "putrajaya",
          "sarawak",
          "melaka",
          "pahang",
          "perak",
          "kedah",
          "negeri sembilan"
         ],
         "xaxis": "x",
         "y": [
          488,
          275,
          181,
          52,
          22,
          19,
          6,
          5,
          3,
          2,
          1,
          1
         ],
         "yaxis": "y"
        }
       ],
       "layout": {
        "barmode": "relative",
        "legend": {
         "tracegroupgap": 0
        },
        "template": {
         "data": {
          "bar": [
           {
            "error_x": {
             "color": "#2a3f5f"
            },
            "error_y": {
             "color": "#2a3f5f"
            },
            "marker": {
             "line": {
              "color": "#E5ECF6",
              "width": 0.5
             },
             "pattern": {
              "fillmode": "overlay",
              "size": 10,
              "solidity": 0.2
             }
            },
            "type": "bar"
           }
          ],
          "barpolar": [
           {
            "marker": {
             "line": {
              "color": "#E5ECF6",
              "width": 0.5
             },
             "pattern": {
              "fillmode": "overlay",
              "size": 10,
              "solidity": 0.2
             }
            },
            "type": "barpolar"
           }
          ],
          "carpet": [
           {
            "aaxis": {
             "endlinecolor": "#2a3f5f",
             "gridcolor": "white",
             "linecolor": "white",
             "minorgridcolor": "white",
             "startlinecolor": "#2a3f5f"
            },
            "baxis": {
             "endlinecolor": "#2a3f5f",
             "gridcolor": "white",
             "linecolor": "white",
             "minorgridcolor": "white",
             "startlinecolor": "#2a3f5f"
            },
            "type": "carpet"
           }
          ],
          "choropleth": [
           {
            "colorbar": {
             "outlinewidth": 0,
             "ticks": ""
            },
            "type": "choropleth"
           }
          ],
          "contour": [
           {
            "colorbar": {
             "outlinewidth": 0,
             "ticks": ""
            },
            "colorscale": [
             [
              0,
              "#0d0887"
             ],
             [
              0.1111111111111111,
              "#46039f"
             ],
             [
              0.2222222222222222,
              "#7201a8"
             ],
             [
              0.3333333333333333,
              "#9c179e"
             ],
             [
              0.4444444444444444,
              "#bd3786"
             ],
             [
              0.5555555555555556,
              "#d8576b"
             ],
             [
              0.6666666666666666,
              "#ed7953"
             ],
             [
              0.7777777777777778,
              "#fb9f3a"
             ],
             [
              0.8888888888888888,
              "#fdca26"
             ],
             [
              1,
              "#f0f921"
             ]
            ],
            "type": "contour"
           }
          ],
          "contourcarpet": [
           {
            "colorbar": {
             "outlinewidth": 0,
             "ticks": ""
            },
            "type": "contourcarpet"
           }
          ],
          "heatmap": [
           {
            "colorbar": {
             "outlinewidth": 0,
             "ticks": ""
            },
            "colorscale": [
             [
              0,
              "#0d0887"
             ],
             [
              0.1111111111111111,
              "#46039f"
             ],
             [
              0.2222222222222222,
              "#7201a8"
             ],
             [
              0.3333333333333333,
              "#9c179e"
             ],
             [
              0.4444444444444444,
              "#bd3786"
             ],
             [
              0.5555555555555556,
              "#d8576b"
             ],
             [
              0.6666666666666666,
              "#ed7953"
             ],
             [
              0.7777777777777778,
              "#fb9f3a"
             ],
             [
              0.8888888888888888,
              "#fdca26"
             ],
             [
              1,
              "#f0f921"
             ]
            ],
            "type": "heatmap"
           }
          ],
          "heatmapgl": [
           {
            "colorbar": {
             "outlinewidth": 0,
             "ticks": ""
            },
            "colorscale": [
             [
              0,
              "#0d0887"
             ],
             [
              0.1111111111111111,
              "#46039f"
             ],
             [
              0.2222222222222222,
              "#7201a8"
             ],
             [
              0.3333333333333333,
              "#9c179e"
             ],
             [
              0.4444444444444444,
              "#bd3786"
             ],
             [
              0.5555555555555556,
              "#d8576b"
             ],
             [
              0.6666666666666666,
              "#ed7953"
             ],
             [
              0.7777777777777778,
              "#fb9f3a"
             ],
             [
              0.8888888888888888,
              "#fdca26"
             ],
             [
              1,
              "#f0f921"
             ]
            ],
            "type": "heatmapgl"
           }
          ],
          "histogram": [
           {
            "marker": {
             "pattern": {
              "fillmode": "overlay",
              "size": 10,
              "solidity": 0.2
             }
            },
            "type": "histogram"
           }
          ],
          "histogram2d": [
           {
            "colorbar": {
             "outlinewidth": 0,
             "ticks": ""
            },
            "colorscale": [
             [
              0,
              "#0d0887"
             ],
             [
              0.1111111111111111,
              "#46039f"
             ],
             [
              0.2222222222222222,
              "#7201a8"
             ],
             [
              0.3333333333333333,
              "#9c179e"
             ],
             [
              0.4444444444444444,
              "#bd3786"
             ],
             [
              0.5555555555555556,
              "#d8576b"
             ],
             [
              0.6666666666666666,
              "#ed7953"
             ],
             [
              0.7777777777777778,
              "#fb9f3a"
             ],
             [
              0.8888888888888888,
              "#fdca26"
             ],
             [
              1,
              "#f0f921"
             ]
            ],
            "type": "histogram2d"
           }
          ],
          "histogram2dcontour": [
           {
            "colorbar": {
             "outlinewidth": 0,
             "ticks": ""
            },
            "colorscale": [
             [
              0,
              "#0d0887"
             ],
             [
              0.1111111111111111,
              "#46039f"
             ],
             [
              0.2222222222222222,
              "#7201a8"
             ],
             [
              0.3333333333333333,
              "#9c179e"
             ],
             [
              0.4444444444444444,
              "#bd3786"
             ],
             [
              0.5555555555555556,
              "#d8576b"
             ],
             [
              0.6666666666666666,
              "#ed7953"
             ],
             [
              0.7777777777777778,
              "#fb9f3a"
             ],
             [
              0.8888888888888888,
              "#fdca26"
             ],
             [
              1,
              "#f0f921"
             ]
            ],
            "type": "histogram2dcontour"
           }
          ],
          "mesh3d": [
           {
            "colorbar": {
             "outlinewidth": 0,
             "ticks": ""
            },
            "type": "mesh3d"
           }
          ],
          "parcoords": [
           {
            "line": {
             "colorbar": {
              "outlinewidth": 0,
              "ticks": ""
             }
            },
            "type": "parcoords"
           }
          ],
          "pie": [
           {
            "automargin": true,
            "type": "pie"
           }
          ],
          "scatter": [
           {
            "fillpattern": {
             "fillmode": "overlay",
             "size": 10,
             "solidity": 0.2
            },
            "type": "scatter"
           }
          ],
          "scatter3d": [
           {
            "line": {
             "colorbar": {
              "outlinewidth": 0,
              "ticks": ""
             }
            },
            "marker": {
             "colorbar": {
              "outlinewidth": 0,
              "ticks": ""
             }
            },
            "type": "scatter3d"
           }
          ],
          "scattercarpet": [
           {
            "marker": {
             "colorbar": {
              "outlinewidth": 0,
              "ticks": ""
             }
            },
            "type": "scattercarpet"
           }
          ],
          "scattergeo": [
           {
            "marker": {
             "colorbar": {
              "outlinewidth": 0,
              "ticks": ""
             }
            },
            "type": "scattergeo"
           }
          ],
          "scattergl": [
           {
            "marker": {
             "colorbar": {
              "outlinewidth": 0,
              "ticks": ""
             }
            },
            "type": "scattergl"
           }
          ],
          "scattermapbox": [
           {
            "marker": {
             "colorbar": {
              "outlinewidth": 0,
              "ticks": ""
             }
            },
            "type": "scattermapbox"
           }
          ],
          "scatterpolar": [
           {
            "marker": {
             "colorbar": {
              "outlinewidth": 0,
              "ticks": ""
             }
            },
            "type": "scatterpolar"
           }
          ],
          "scatterpolargl": [
           {
            "marker": {
             "colorbar": {
              "outlinewidth": 0,
              "ticks": ""
             }
            },
            "type": "scatterpolargl"
           }
          ],
          "scatterternary": [
           {
            "marker": {
             "colorbar": {
              "outlinewidth": 0,
              "ticks": ""
             }
            },
            "type": "scatterternary"
           }
          ],
          "surface": [
           {
            "colorbar": {
             "outlinewidth": 0,
             "ticks": ""
            },
            "colorscale": [
             [
              0,
              "#0d0887"
             ],
             [
              0.1111111111111111,
              "#46039f"
             ],
             [
              0.2222222222222222,
              "#7201a8"
             ],
             [
              0.3333333333333333,
              "#9c179e"
             ],
             [
              0.4444444444444444,
              "#bd3786"
             ],
             [
              0.5555555555555556,
              "#d8576b"
             ],
             [
              0.6666666666666666,
              "#ed7953"
             ],
             [
              0.7777777777777778,
              "#fb9f3a"
             ],
             [
              0.8888888888888888,
              "#fdca26"
             ],
             [
              1,
              "#f0f921"
             ]
            ],
            "type": "surface"
           }
          ],
          "table": [
           {
            "cells": {
             "fill": {
              "color": "#EBF0F8"
             },
             "line": {
              "color": "white"
             }
            },
            "header": {
             "fill": {
              "color": "#C8D4E3"
             },
             "line": {
              "color": "white"
             }
            },
            "type": "table"
           }
          ]
         },
         "layout": {
          "annotationdefaults": {
           "arrowcolor": "#2a3f5f",
           "arrowhead": 0,
           "arrowwidth": 1
          },
          "autotypenumbers": "strict",
          "coloraxis": {
           "colorbar": {
            "outlinewidth": 0,
            "ticks": ""
           }
          },
          "colorscale": {
           "diverging": [
            [
             0,
             "#8e0152"
            ],
            [
             0.1,
             "#c51b7d"
            ],
            [
             0.2,
             "#de77ae"
            ],
            [
             0.3,
             "#f1b6da"
            ],
            [
             0.4,
             "#fde0ef"
            ],
            [
             0.5,
             "#f7f7f7"
            ],
            [
             0.6,
             "#e6f5d0"
            ],
            [
             0.7,
             "#b8e186"
            ],
            [
             0.8,
             "#7fbc41"
            ],
            [
             0.9,
             "#4d9221"
            ],
            [
             1,
             "#276419"
            ]
           ],
           "sequential": [
            [
             0,
             "#0d0887"
            ],
            [
             0.1111111111111111,
             "#46039f"
            ],
            [
             0.2222222222222222,
             "#7201a8"
            ],
            [
             0.3333333333333333,
             "#9c179e"
            ],
            [
             0.4444444444444444,
             "#bd3786"
            ],
            [
             0.5555555555555556,
             "#d8576b"
            ],
            [
             0.6666666666666666,
             "#ed7953"
            ],
            [
             0.7777777777777778,
             "#fb9f3a"
            ],
            [
             0.8888888888888888,
             "#fdca26"
            ],
            [
             1,
             "#f0f921"
            ]
           ],
           "sequentialminus": [
            [
             0,
             "#0d0887"
            ],
            [
             0.1111111111111111,
             "#46039f"
            ],
            [
             0.2222222222222222,
             "#7201a8"
            ],
            [
             0.3333333333333333,
             "#9c179e"
            ],
            [
             0.4444444444444444,
             "#bd3786"
            ],
            [
             0.5555555555555556,
             "#d8576b"
            ],
            [
             0.6666666666666666,
             "#ed7953"
            ],
            [
             0.7777777777777778,
             "#fb9f3a"
            ],
            [
             0.8888888888888888,
             "#fdca26"
            ],
            [
             1,
             "#f0f921"
            ]
           ]
          },
          "colorway": [
           "#636efa",
           "#EF553B",
           "#00cc96",
           "#ab63fa",
           "#FFA15A",
           "#19d3f3",
           "#FF6692",
           "#B6E880",
           "#FF97FF",
           "#FECB52"
          ],
          "font": {
           "color": "#2a3f5f"
          },
          "geo": {
           "bgcolor": "white",
           "lakecolor": "white",
           "landcolor": "#E5ECF6",
           "showlakes": true,
           "showland": true,
           "subunitcolor": "white"
          },
          "hoverlabel": {
           "align": "left"
          },
          "hovermode": "closest",
          "mapbox": {
           "style": "light"
          },
          "paper_bgcolor": "white",
          "plot_bgcolor": "#E5ECF6",
          "polar": {
           "angularaxis": {
            "gridcolor": "white",
            "linecolor": "white",
            "ticks": ""
           },
           "bgcolor": "#E5ECF6",
           "radialaxis": {
            "gridcolor": "white",
            "linecolor": "white",
            "ticks": ""
           }
          },
          "scene": {
           "xaxis": {
            "backgroundcolor": "#E5ECF6",
            "gridcolor": "white",
            "gridwidth": 2,
            "linecolor": "white",
            "showbackground": true,
            "ticks": "",
            "zerolinecolor": "white"
           },
           "yaxis": {
            "backgroundcolor": "#E5ECF6",
            "gridcolor": "white",
            "gridwidth": 2,
            "linecolor": "white",
            "showbackground": true,
            "ticks": "",
            "zerolinecolor": "white"
           },
           "zaxis": {
            "backgroundcolor": "#E5ECF6",
            "gridcolor": "white",
            "gridwidth": 2,
            "linecolor": "white",
            "showbackground": true,
            "ticks": "",
            "zerolinecolor": "white"
           }
          },
          "shapedefaults": {
           "line": {
            "color": "#2a3f5f"
           }
          },
          "ternary": {
           "aaxis": {
            "gridcolor": "white",
            "linecolor": "white",
            "ticks": ""
           },
           "baxis": {
            "gridcolor": "white",
            "linecolor": "white",
            "ticks": ""
           },
           "bgcolor": "#E5ECF6",
           "caxis": {
            "gridcolor": "white",
            "linecolor": "white",
            "ticks": ""
           }
          },
          "title": {
           "x": 0.05
          },
          "xaxis": {
           "automargin": true,
           "gridcolor": "white",
           "linecolor": "white",
           "ticks": "",
           "title": {
            "standoff": 15
           },
           "zerolinecolor": "white",
           "zerolinewidth": 2
          },
          "yaxis": {
           "automargin": true,
           "gridcolor": "white",
           "linecolor": "white",
           "ticks": "",
           "title": {
            "standoff": 15
           },
           "zerolinecolor": "white",
           "zerolinewidth": 2
          }
         }
        },
        "title": {
         "text": "States against Unit"
        },
        "xaxis": {
         "anchor": "y",
         "domain": [
          0,
          1
         ],
         "title": {
          "text": "State"
         }
        },
        "yaxis": {
         "anchor": "x",
         "domain": [
          0,
          1
         ],
         "title": {
          "text": "Units"
         }
        }
       }
      }
     },
     "metadata": {},
     "output_type": "display_data"
    }
   ],
   "source": [
    "fig = px.bar(state_units, x='State', y='Units', title='States against Unit')\n",
    "fig.show() "
   ]
  },
  {
   "cell_type": "code",
   "execution_count": 115,
   "metadata": {},
   "outputs": [
    {
     "data": {
      "text/html": [
       "<div>\n",
       "<style scoped>\n",
       "    .dataframe tbody tr th:only-of-type {\n",
       "        vertical-align: middle;\n",
       "    }\n",
       "\n",
       "    .dataframe tbody tr th {\n",
       "        vertical-align: top;\n",
       "    }\n",
       "\n",
       "    .dataframe thead th {\n",
       "        text-align: right;\n",
       "    }\n",
       "</style>\n",
       "<table border=\"1\" class=\"dataframe\">\n",
       "  <thead>\n",
       "    <tr style=\"text-align: right;\">\n",
       "      <th></th>\n",
       "      <th>Bedroom</th>\n",
       "      <th>Bathroom</th>\n",
       "      <th>Property Size</th>\n",
       "      <th>Category</th>\n",
       "      <th>Facilities</th>\n",
       "      <th>Building Name</th>\n",
       "      <th>Developer</th>\n",
       "      <th>Tenure Type</th>\n",
       "      <th>Address</th>\n",
       "      <th>Completion Year</th>\n",
       "      <th># of Floors</th>\n",
       "      <th>Total Units</th>\n",
       "      <th>Property Type</th>\n",
       "      <th>Parking Lot</th>\n",
       "      <th>Floor Range</th>\n",
       "      <th>Land Title</th>\n",
       "      <th>Firm Type</th>\n",
       "      <th>Firm Number</th>\n",
       "      <th>REN Number</th>\n",
       "      <th>Bus Stop</th>\n",
       "      <th>Mall</th>\n",
       "      <th>Park</th>\n",
       "      <th>School</th>\n",
       "      <th>Hospital</th>\n",
       "      <th>price</th>\n",
       "      <th>Highway</th>\n",
       "      <th>Railway Station</th>\n",
       "      <th>State</th>\n",
       "    </tr>\n",
       "  </thead>\n",
       "  <tbody>\n",
       "    <tr>\n",
       "      <th>0</th>\n",
       "      <td>3</td>\n",
       "      <td>2</td>\n",
       "      <td>1000.0</td>\n",
       "      <td>Apartment / Condominium, For sale</td>\n",
       "      <td>3</td>\n",
       "      <td>Sri Lavender Apartment</td>\n",
       "      <td>TLS Group</td>\n",
       "      <td>Freehold</td>\n",
       "      <td>Jalan Sepakat Indah 2/1, Taman Sepakat Indah 2...</td>\n",
       "      <td>2007</td>\n",
       "      <td>13</td>\n",
       "      <td>445</td>\n",
       "      <td>Apartment</td>\n",
       "      <td>1</td>\n",
       "      <td>Medium</td>\n",
       "      <td>Non Bumi Lot</td>\n",
       "      <td>Unknown</td>\n",
       "      <td>Unknown</td>\n",
       "      <td>Unknown</td>\n",
       "      <td>0</td>\n",
       "      <td>0</td>\n",
       "      <td>0</td>\n",
       "      <td>0</td>\n",
       "      <td>0</td>\n",
       "      <td>230000.0</td>\n",
       "      <td>1</td>\n",
       "      <td>0</td>\n",
       "      <td>selangor</td>\n",
       "    </tr>\n",
       "    <tr>\n",
       "      <th>1</th>\n",
       "      <td>3</td>\n",
       "      <td>2</td>\n",
       "      <td>1100.0</td>\n",
       "      <td>Apartment / Condominium, For sale</td>\n",
       "      <td>3</td>\n",
       "      <td>D'Piazza Condominium</td>\n",
       "      <td>X-Scan Penang Sdn Bhd</td>\n",
       "      <td>Freehold</td>\n",
       "      <td>Jalan Mayang Pasir 2, Bayan Baru, Penang</td>\n",
       "      <td>2010</td>\n",
       "      <td>19</td>\n",
       "      <td>706</td>\n",
       "      <td>Condominium</td>\n",
       "      <td>1</td>\n",
       "      <td>Low</td>\n",
       "      <td>Non Bumi Lot</td>\n",
       "      <td>E</td>\n",
       "      <td>11307</td>\n",
       "      <td>REN 61472</td>\n",
       "      <td>0</td>\n",
       "      <td>0</td>\n",
       "      <td>0</td>\n",
       "      <td>0</td>\n",
       "      <td>0</td>\n",
       "      <td>425000.0</td>\n",
       "      <td>0</td>\n",
       "      <td>0</td>\n",
       "      <td>penang</td>\n",
       "    </tr>\n",
       "    <tr>\n",
       "      <th>2</th>\n",
       "      <td>3</td>\n",
       "      <td>2</td>\n",
       "      <td>780.0</td>\n",
       "      <td>Apartment / Condominium, For sale</td>\n",
       "      <td>3</td>\n",
       "      <td>Pangsapuri Sri Alpinia</td>\n",
       "      <td>IOI Properties Group Berhad</td>\n",
       "      <td>Freehold</td>\n",
       "      <td>Persiaran Indera, Pusat Bandar Puchong, Puchon...</td>\n",
       "      <td>Unknown</td>\n",
       "      <td>5</td>\n",
       "      <td>281</td>\n",
       "      <td>Condominium</td>\n",
       "      <td>1</td>\n",
       "      <td>Unknown</td>\n",
       "      <td>Non Bumi Lot</td>\n",
       "      <td>E</td>\n",
       "      <td>31484</td>\n",
       "      <td>Unknown</td>\n",
       "      <td>0</td>\n",
       "      <td>0</td>\n",
       "      <td>0</td>\n",
       "      <td>0</td>\n",
       "      <td>0</td>\n",
       "      <td>230000.0</td>\n",
       "      <td>0</td>\n",
       "      <td>0</td>\n",
       "      <td>selangor</td>\n",
       "    </tr>\n",
       "    <tr>\n",
       "      <th>3</th>\n",
       "      <td>3</td>\n",
       "      <td>2</td>\n",
       "      <td>660.0</td>\n",
       "      <td>Apartment / Condominium, For sale</td>\n",
       "      <td>3</td>\n",
       "      <td>Sri Aman Block C (Sri Aman Block 1 &amp; 3)</td>\n",
       "      <td>Unknown</td>\n",
       "      <td>Freehold</td>\n",
       "      <td>Persiaran Paya Terubong 3, Bukit Jambul, Penang</td>\n",
       "      <td>2008</td>\n",
       "      <td>18</td>\n",
       "      <td>701</td>\n",
       "      <td>Apartment</td>\n",
       "      <td>1</td>\n",
       "      <td>Medium</td>\n",
       "      <td>Non Bumi Lot</td>\n",
       "      <td>E</td>\n",
       "      <td>31970</td>\n",
       "      <td>REN 03281</td>\n",
       "      <td>0</td>\n",
       "      <td>0</td>\n",
       "      <td>0</td>\n",
       "      <td>0</td>\n",
       "      <td>0</td>\n",
       "      <td>265000.0</td>\n",
       "      <td>0</td>\n",
       "      <td>0</td>\n",
       "      <td>penang</td>\n",
       "    </tr>\n",
       "    <tr>\n",
       "      <th>4</th>\n",
       "      <td>3</td>\n",
       "      <td>2</td>\n",
       "      <td>1250.0</td>\n",
       "      <td>Apartment / Condominium, For sale</td>\n",
       "      <td>3</td>\n",
       "      <td>Ameera Residence</td>\n",
       "      <td>TLS Group</td>\n",
       "      <td>Freehold</td>\n",
       "      <td>Jalan Mutiara 3, Mutiara Heights,, Kajang, Sel...</td>\n",
       "      <td>2016</td>\n",
       "      <td>0</td>\n",
       "      <td>428</td>\n",
       "      <td>Condominium</td>\n",
       "      <td>2</td>\n",
       "      <td>Unknown</td>\n",
       "      <td>Non Bumi Lot</td>\n",
       "      <td>E</td>\n",
       "      <td>31484</td>\n",
       "      <td>Unknown</td>\n",
       "      <td>0</td>\n",
       "      <td>0</td>\n",
       "      <td>0</td>\n",
       "      <td>0</td>\n",
       "      <td>0</td>\n",
       "      <td>340000.0</td>\n",
       "      <td>0</td>\n",
       "      <td>0</td>\n",
       "      <td>selangor</td>\n",
       "    </tr>\n",
       "  </tbody>\n",
       "</table>\n",
       "</div>"
      ],
      "text/plain": [
       "   Bedroom  Bathroom  Property Size                           Category  \\\n",
       "0        3         2         1000.0  Apartment / Condominium, For sale   \n",
       "1        3         2         1100.0  Apartment / Condominium, For sale   \n",
       "2        3         2          780.0  Apartment / Condominium, For sale   \n",
       "3        3         2          660.0  Apartment / Condominium, For sale   \n",
       "4        3         2         1250.0  Apartment / Condominium, For sale   \n",
       "\n",
       "  Facilities                            Building Name  \\\n",
       "0          3                   Sri Lavender Apartment   \n",
       "1          3                     D'Piazza Condominium   \n",
       "2          3                   Pangsapuri Sri Alpinia   \n",
       "3          3  Sri Aman Block C (Sri Aman Block 1 & 3)   \n",
       "4          3                         Ameera Residence   \n",
       "\n",
       "                     Developer Tenure Type  \\\n",
       "0                    TLS Group    Freehold   \n",
       "1        X-Scan Penang Sdn Bhd    Freehold   \n",
       "2  IOI Properties Group Berhad    Freehold   \n",
       "3                      Unknown    Freehold   \n",
       "4                    TLS Group    Freehold   \n",
       "\n",
       "                                             Address Completion Year  \\\n",
       "0  Jalan Sepakat Indah 2/1, Taman Sepakat Indah 2...            2007   \n",
       "1           Jalan Mayang Pasir 2, Bayan Baru, Penang            2010   \n",
       "2  Persiaran Indera, Pusat Bandar Puchong, Puchon...         Unknown   \n",
       "3    Persiaran Paya Terubong 3, Bukit Jambul, Penang            2008   \n",
       "4  Jalan Mutiara 3, Mutiara Heights,, Kajang, Sel...            2016   \n",
       "\n",
       "   # of Floors  Total Units Property Type  Parking Lot Floor Range  \\\n",
       "0           13          445     Apartment            1      Medium   \n",
       "1           19          706   Condominium            1         Low   \n",
       "2            5          281   Condominium            1     Unknown   \n",
       "3           18          701     Apartment            1      Medium   \n",
       "4            0          428   Condominium            2     Unknown   \n",
       "\n",
       "     Land Title Firm Type Firm Number REN Number  Bus Stop  Mall  Park  \\\n",
       "0  Non Bumi Lot   Unknown     Unknown    Unknown         0     0     0   \n",
       "1  Non Bumi Lot         E       11307  REN 61472         0     0     0   \n",
       "2  Non Bumi Lot         E       31484    Unknown         0     0     0   \n",
       "3  Non Bumi Lot         E       31970  REN 03281         0     0     0   \n",
       "4  Non Bumi Lot         E       31484    Unknown         0     0     0   \n",
       "\n",
       "   School  Hospital     price  Highway  Railway Station     State  \n",
       "0       0         0  230000.0        1                0  selangor  \n",
       "1       0         0  425000.0        0                0    penang  \n",
       "2       0         0  230000.0        0                0  selangor  \n",
       "3       0         0  265000.0        0                0    penang  \n",
       "4       0         0  340000.0        0                0  selangor  "
      ]
     },
     "execution_count": 115,
     "metadata": {},
     "output_type": "execute_result"
    }
   ],
   "source": [
    "df.head()"
   ]
  },
  {
   "cell_type": "code",
   "execution_count": 116,
   "metadata": {},
   "outputs": [
    {
     "data": {
      "text/html": [
       "<div>\n",
       "<style scoped>\n",
       "    .dataframe tbody tr th:only-of-type {\n",
       "        vertical-align: middle;\n",
       "    }\n",
       "\n",
       "    .dataframe tbody tr th {\n",
       "        vertical-align: top;\n",
       "    }\n",
       "\n",
       "    .dataframe thead th {\n",
       "        text-align: right;\n",
       "    }\n",
       "</style>\n",
       "<table border=\"1\" class=\"dataframe\">\n",
       "  <thead>\n",
       "    <tr style=\"text-align: right;\">\n",
       "      <th></th>\n",
       "      <th>Property Type</th>\n",
       "      <th>Count</th>\n",
       "    </tr>\n",
       "  </thead>\n",
       "  <tbody>\n",
       "    <tr>\n",
       "      <th>1</th>\n",
       "      <td>Condominium</td>\n",
       "      <td>686</td>\n",
       "    </tr>\n",
       "    <tr>\n",
       "      <th>0</th>\n",
       "      <td>Apartment</td>\n",
       "      <td>244</td>\n",
       "    </tr>\n",
       "    <tr>\n",
       "      <th>5</th>\n",
       "      <td>Service Residence</td>\n",
       "      <td>117</td>\n",
       "    </tr>\n",
       "    <tr>\n",
       "      <th>3</th>\n",
       "      <td>Flat</td>\n",
       "      <td>5</td>\n",
       "    </tr>\n",
       "    <tr>\n",
       "      <th>4</th>\n",
       "      <td>Others</td>\n",
       "      <td>2</td>\n",
       "    </tr>\n",
       "    <tr>\n",
       "      <th>2</th>\n",
       "      <td>Duplex</td>\n",
       "      <td>1</td>\n",
       "    </tr>\n",
       "  </tbody>\n",
       "</table>\n",
       "</div>"
      ],
      "text/plain": [
       "       Property Type  Count\n",
       "1        Condominium    686\n",
       "0          Apartment    244\n",
       "5  Service Residence    117\n",
       "3               Flat      5\n",
       "4             Others      2\n",
       "2             Duplex      1"
      ]
     },
     "execution_count": 116,
     "metadata": {},
     "output_type": "execute_result"
    }
   ],
   "source": [
    "property_type_count = df.groupby('Property Type') \\\n",
    "    .size() \\\n",
    "    .reset_index(name='Count') \\\n",
    "    .sort_values(by='Count', ascending=False)   \n",
    "property_type_count"
   ]
  },
  {
   "cell_type": "code",
   "execution_count": 117,
   "metadata": {},
   "outputs": [
    {
     "data": {
      "application/vnd.plotly.v1+json": {
       "config": {
        "plotlyServerURL": "https://plot.ly"
       },
       "data": [
        {
         "alignmentgroup": "True",
         "hovertemplate": "Property Type=%{x}<br>Count=%{y}<extra></extra>",
         "legendgroup": "",
         "marker": {
          "color": "#636efa",
          "pattern": {
           "shape": ""
          }
         },
         "name": "",
         "offsetgroup": "",
         "orientation": "v",
         "showlegend": false,
         "textposition": "auto",
         "type": "bar",
         "x": [
          "Condominium",
          "Apartment",
          "Service Residence",
          "Flat",
          "Others",
          "Duplex"
         ],
         "xaxis": "x",
         "y": [
          686,
          244,
          117,
          5,
          2,
          1
         ],
         "yaxis": "y"
        }
       ],
       "layout": {
        "barmode": "relative",
        "legend": {
         "tracegroupgap": 0
        },
        "template": {
         "data": {
          "bar": [
           {
            "error_x": {
             "color": "#2a3f5f"
            },
            "error_y": {
             "color": "#2a3f5f"
            },
            "marker": {
             "line": {
              "color": "#E5ECF6",
              "width": 0.5
             },
             "pattern": {
              "fillmode": "overlay",
              "size": 10,
              "solidity": 0.2
             }
            },
            "type": "bar"
           }
          ],
          "barpolar": [
           {
            "marker": {
             "line": {
              "color": "#E5ECF6",
              "width": 0.5
             },
             "pattern": {
              "fillmode": "overlay",
              "size": 10,
              "solidity": 0.2
             }
            },
            "type": "barpolar"
           }
          ],
          "carpet": [
           {
            "aaxis": {
             "endlinecolor": "#2a3f5f",
             "gridcolor": "white",
             "linecolor": "white",
             "minorgridcolor": "white",
             "startlinecolor": "#2a3f5f"
            },
            "baxis": {
             "endlinecolor": "#2a3f5f",
             "gridcolor": "white",
             "linecolor": "white",
             "minorgridcolor": "white",
             "startlinecolor": "#2a3f5f"
            },
            "type": "carpet"
           }
          ],
          "choropleth": [
           {
            "colorbar": {
             "outlinewidth": 0,
             "ticks": ""
            },
            "type": "choropleth"
           }
          ],
          "contour": [
           {
            "colorbar": {
             "outlinewidth": 0,
             "ticks": ""
            },
            "colorscale": [
             [
              0,
              "#0d0887"
             ],
             [
              0.1111111111111111,
              "#46039f"
             ],
             [
              0.2222222222222222,
              "#7201a8"
             ],
             [
              0.3333333333333333,
              "#9c179e"
             ],
             [
              0.4444444444444444,
              "#bd3786"
             ],
             [
              0.5555555555555556,
              "#d8576b"
             ],
             [
              0.6666666666666666,
              "#ed7953"
             ],
             [
              0.7777777777777778,
              "#fb9f3a"
             ],
             [
              0.8888888888888888,
              "#fdca26"
             ],
             [
              1,
              "#f0f921"
             ]
            ],
            "type": "contour"
           }
          ],
          "contourcarpet": [
           {
            "colorbar": {
             "outlinewidth": 0,
             "ticks": ""
            },
            "type": "contourcarpet"
           }
          ],
          "heatmap": [
           {
            "colorbar": {
             "outlinewidth": 0,
             "ticks": ""
            },
            "colorscale": [
             [
              0,
              "#0d0887"
             ],
             [
              0.1111111111111111,
              "#46039f"
             ],
             [
              0.2222222222222222,
              "#7201a8"
             ],
             [
              0.3333333333333333,
              "#9c179e"
             ],
             [
              0.4444444444444444,
              "#bd3786"
             ],
             [
              0.5555555555555556,
              "#d8576b"
             ],
             [
              0.6666666666666666,
              "#ed7953"
             ],
             [
              0.7777777777777778,
              "#fb9f3a"
             ],
             [
              0.8888888888888888,
              "#fdca26"
             ],
             [
              1,
              "#f0f921"
             ]
            ],
            "type": "heatmap"
           }
          ],
          "heatmapgl": [
           {
            "colorbar": {
             "outlinewidth": 0,
             "ticks": ""
            },
            "colorscale": [
             [
              0,
              "#0d0887"
             ],
             [
              0.1111111111111111,
              "#46039f"
             ],
             [
              0.2222222222222222,
              "#7201a8"
             ],
             [
              0.3333333333333333,
              "#9c179e"
             ],
             [
              0.4444444444444444,
              "#bd3786"
             ],
             [
              0.5555555555555556,
              "#d8576b"
             ],
             [
              0.6666666666666666,
              "#ed7953"
             ],
             [
              0.7777777777777778,
              "#fb9f3a"
             ],
             [
              0.8888888888888888,
              "#fdca26"
             ],
             [
              1,
              "#f0f921"
             ]
            ],
            "type": "heatmapgl"
           }
          ],
          "histogram": [
           {
            "marker": {
             "pattern": {
              "fillmode": "overlay",
              "size": 10,
              "solidity": 0.2
             }
            },
            "type": "histogram"
           }
          ],
          "histogram2d": [
           {
            "colorbar": {
             "outlinewidth": 0,
             "ticks": ""
            },
            "colorscale": [
             [
              0,
              "#0d0887"
             ],
             [
              0.1111111111111111,
              "#46039f"
             ],
             [
              0.2222222222222222,
              "#7201a8"
             ],
             [
              0.3333333333333333,
              "#9c179e"
             ],
             [
              0.4444444444444444,
              "#bd3786"
             ],
             [
              0.5555555555555556,
              "#d8576b"
             ],
             [
              0.6666666666666666,
              "#ed7953"
             ],
             [
              0.7777777777777778,
              "#fb9f3a"
             ],
             [
              0.8888888888888888,
              "#fdca26"
             ],
             [
              1,
              "#f0f921"
             ]
            ],
            "type": "histogram2d"
           }
          ],
          "histogram2dcontour": [
           {
            "colorbar": {
             "outlinewidth": 0,
             "ticks": ""
            },
            "colorscale": [
             [
              0,
              "#0d0887"
             ],
             [
              0.1111111111111111,
              "#46039f"
             ],
             [
              0.2222222222222222,
              "#7201a8"
             ],
             [
              0.3333333333333333,
              "#9c179e"
             ],
             [
              0.4444444444444444,
              "#bd3786"
             ],
             [
              0.5555555555555556,
              "#d8576b"
             ],
             [
              0.6666666666666666,
              "#ed7953"
             ],
             [
              0.7777777777777778,
              "#fb9f3a"
             ],
             [
              0.8888888888888888,
              "#fdca26"
             ],
             [
              1,
              "#f0f921"
             ]
            ],
            "type": "histogram2dcontour"
           }
          ],
          "mesh3d": [
           {
            "colorbar": {
             "outlinewidth": 0,
             "ticks": ""
            },
            "type": "mesh3d"
           }
          ],
          "parcoords": [
           {
            "line": {
             "colorbar": {
              "outlinewidth": 0,
              "ticks": ""
             }
            },
            "type": "parcoords"
           }
          ],
          "pie": [
           {
            "automargin": true,
            "type": "pie"
           }
          ],
          "scatter": [
           {
            "fillpattern": {
             "fillmode": "overlay",
             "size": 10,
             "solidity": 0.2
            },
            "type": "scatter"
           }
          ],
          "scatter3d": [
           {
            "line": {
             "colorbar": {
              "outlinewidth": 0,
              "ticks": ""
             }
            },
            "marker": {
             "colorbar": {
              "outlinewidth": 0,
              "ticks": ""
             }
            },
            "type": "scatter3d"
           }
          ],
          "scattercarpet": [
           {
            "marker": {
             "colorbar": {
              "outlinewidth": 0,
              "ticks": ""
             }
            },
            "type": "scattercarpet"
           }
          ],
          "scattergeo": [
           {
            "marker": {
             "colorbar": {
              "outlinewidth": 0,
              "ticks": ""
             }
            },
            "type": "scattergeo"
           }
          ],
          "scattergl": [
           {
            "marker": {
             "colorbar": {
              "outlinewidth": 0,
              "ticks": ""
             }
            },
            "type": "scattergl"
           }
          ],
          "scattermapbox": [
           {
            "marker": {
             "colorbar": {
              "outlinewidth": 0,
              "ticks": ""
             }
            },
            "type": "scattermapbox"
           }
          ],
          "scatterpolar": [
           {
            "marker": {
             "colorbar": {
              "outlinewidth": 0,
              "ticks": ""
             }
            },
            "type": "scatterpolar"
           }
          ],
          "scatterpolargl": [
           {
            "marker": {
             "colorbar": {
              "outlinewidth": 0,
              "ticks": ""
             }
            },
            "type": "scatterpolargl"
           }
          ],
          "scatterternary": [
           {
            "marker": {
             "colorbar": {
              "outlinewidth": 0,
              "ticks": ""
             }
            },
            "type": "scatterternary"
           }
          ],
          "surface": [
           {
            "colorbar": {
             "outlinewidth": 0,
             "ticks": ""
            },
            "colorscale": [
             [
              0,
              "#0d0887"
             ],
             [
              0.1111111111111111,
              "#46039f"
             ],
             [
              0.2222222222222222,
              "#7201a8"
             ],
             [
              0.3333333333333333,
              "#9c179e"
             ],
             [
              0.4444444444444444,
              "#bd3786"
             ],
             [
              0.5555555555555556,
              "#d8576b"
             ],
             [
              0.6666666666666666,
              "#ed7953"
             ],
             [
              0.7777777777777778,
              "#fb9f3a"
             ],
             [
              0.8888888888888888,
              "#fdca26"
             ],
             [
              1,
              "#f0f921"
             ]
            ],
            "type": "surface"
           }
          ],
          "table": [
           {
            "cells": {
             "fill": {
              "color": "#EBF0F8"
             },
             "line": {
              "color": "white"
             }
            },
            "header": {
             "fill": {
              "color": "#C8D4E3"
             },
             "line": {
              "color": "white"
             }
            },
            "type": "table"
           }
          ]
         },
         "layout": {
          "annotationdefaults": {
           "arrowcolor": "#2a3f5f",
           "arrowhead": 0,
           "arrowwidth": 1
          },
          "autotypenumbers": "strict",
          "coloraxis": {
           "colorbar": {
            "outlinewidth": 0,
            "ticks": ""
           }
          },
          "colorscale": {
           "diverging": [
            [
             0,
             "#8e0152"
            ],
            [
             0.1,
             "#c51b7d"
            ],
            [
             0.2,
             "#de77ae"
            ],
            [
             0.3,
             "#f1b6da"
            ],
            [
             0.4,
             "#fde0ef"
            ],
            [
             0.5,
             "#f7f7f7"
            ],
            [
             0.6,
             "#e6f5d0"
            ],
            [
             0.7,
             "#b8e186"
            ],
            [
             0.8,
             "#7fbc41"
            ],
            [
             0.9,
             "#4d9221"
            ],
            [
             1,
             "#276419"
            ]
           ],
           "sequential": [
            [
             0,
             "#0d0887"
            ],
            [
             0.1111111111111111,
             "#46039f"
            ],
            [
             0.2222222222222222,
             "#7201a8"
            ],
            [
             0.3333333333333333,
             "#9c179e"
            ],
            [
             0.4444444444444444,
             "#bd3786"
            ],
            [
             0.5555555555555556,
             "#d8576b"
            ],
            [
             0.6666666666666666,
             "#ed7953"
            ],
            [
             0.7777777777777778,
             "#fb9f3a"
            ],
            [
             0.8888888888888888,
             "#fdca26"
            ],
            [
             1,
             "#f0f921"
            ]
           ],
           "sequentialminus": [
            [
             0,
             "#0d0887"
            ],
            [
             0.1111111111111111,
             "#46039f"
            ],
            [
             0.2222222222222222,
             "#7201a8"
            ],
            [
             0.3333333333333333,
             "#9c179e"
            ],
            [
             0.4444444444444444,
             "#bd3786"
            ],
            [
             0.5555555555555556,
             "#d8576b"
            ],
            [
             0.6666666666666666,
             "#ed7953"
            ],
            [
             0.7777777777777778,
             "#fb9f3a"
            ],
            [
             0.8888888888888888,
             "#fdca26"
            ],
            [
             1,
             "#f0f921"
            ]
           ]
          },
          "colorway": [
           "#636efa",
           "#EF553B",
           "#00cc96",
           "#ab63fa",
           "#FFA15A",
           "#19d3f3",
           "#FF6692",
           "#B6E880",
           "#FF97FF",
           "#FECB52"
          ],
          "font": {
           "color": "#2a3f5f"
          },
          "geo": {
           "bgcolor": "white",
           "lakecolor": "white",
           "landcolor": "#E5ECF6",
           "showlakes": true,
           "showland": true,
           "subunitcolor": "white"
          },
          "hoverlabel": {
           "align": "left"
          },
          "hovermode": "closest",
          "mapbox": {
           "style": "light"
          },
          "paper_bgcolor": "white",
          "plot_bgcolor": "#E5ECF6",
          "polar": {
           "angularaxis": {
            "gridcolor": "white",
            "linecolor": "white",
            "ticks": ""
           },
           "bgcolor": "#E5ECF6",
           "radialaxis": {
            "gridcolor": "white",
            "linecolor": "white",
            "ticks": ""
           }
          },
          "scene": {
           "xaxis": {
            "backgroundcolor": "#E5ECF6",
            "gridcolor": "white",
            "gridwidth": 2,
            "linecolor": "white",
            "showbackground": true,
            "ticks": "",
            "zerolinecolor": "white"
           },
           "yaxis": {
            "backgroundcolor": "#E5ECF6",
            "gridcolor": "white",
            "gridwidth": 2,
            "linecolor": "white",
            "showbackground": true,
            "ticks": "",
            "zerolinecolor": "white"
           },
           "zaxis": {
            "backgroundcolor": "#E5ECF6",
            "gridcolor": "white",
            "gridwidth": 2,
            "linecolor": "white",
            "showbackground": true,
            "ticks": "",
            "zerolinecolor": "white"
           }
          },
          "shapedefaults": {
           "line": {
            "color": "#2a3f5f"
           }
          },
          "ternary": {
           "aaxis": {
            "gridcolor": "white",
            "linecolor": "white",
            "ticks": ""
           },
           "baxis": {
            "gridcolor": "white",
            "linecolor": "white",
            "ticks": ""
           },
           "bgcolor": "#E5ECF6",
           "caxis": {
            "gridcolor": "white",
            "linecolor": "white",
            "ticks": ""
           }
          },
          "title": {
           "x": 0.05
          },
          "xaxis": {
           "automargin": true,
           "gridcolor": "white",
           "linecolor": "white",
           "ticks": "",
           "title": {
            "standoff": 15
           },
           "zerolinecolor": "white",
           "zerolinewidth": 2
          },
          "yaxis": {
           "automargin": true,
           "gridcolor": "white",
           "linecolor": "white",
           "ticks": "",
           "title": {
            "standoff": 15
           },
           "zerolinecolor": "white",
           "zerolinewidth": 2
          }
         }
        },
        "title": {
         "text": "States against Unit"
        },
        "xaxis": {
         "anchor": "y",
         "domain": [
          0,
          1
         ],
         "title": {
          "text": "Property Type"
         }
        },
        "yaxis": {
         "anchor": "x",
         "domain": [
          0,
          1
         ],
         "title": {
          "text": "Count"
         }
        }
       }
      }
     },
     "metadata": {},
     "output_type": "display_data"
    }
   ],
   "source": [
    "fig = px.bar(property_type_count, x='Property Type', y='Count', title='States against Unit') \n",
    "fig.show() "
   ]
  },
  {
   "cell_type": "code",
   "execution_count": 118,
   "metadata": {},
   "outputs": [
    {
     "data": {
      "text/plain": [
       "(1055, 28)"
      ]
     },
     "execution_count": 118,
     "metadata": {},
     "output_type": "execute_result"
    }
   ],
   "source": [
    "df.shape "
   ]
  },
  {
   "cell_type": "code",
   "execution_count": 119,
   "metadata": {},
   "outputs": [
    {
     "data": {
      "text/plain": [
       "(1000, 28)"
      ]
     },
     "execution_count": 119,
     "metadata": {},
     "output_type": "execute_result"
    }
   ],
   "source": [
    "df = df[(df['Property Type'] != 'Flat') & (df['Property Type'] != 'Others') & (df['State'] != 'Sabah') & (df['State'] != 'sabah') & (df['State'] != 'putrajaya') & (df['State'] != 'perak') & (df['State'] != 'melaka')]\n",
    "df.shape "
   ]
  },
  {
   "cell_type": "code",
   "execution_count": 120,
   "metadata": {},
   "outputs": [
    {
     "data": {
      "text/html": [
       "<div>\n",
       "<style scoped>\n",
       "    .dataframe tbody tr th:only-of-type {\n",
       "        vertical-align: middle;\n",
       "    }\n",
       "\n",
       "    .dataframe tbody tr th {\n",
       "        vertical-align: top;\n",
       "    }\n",
       "\n",
       "    .dataframe thead th {\n",
       "        text-align: right;\n",
       "    }\n",
       "</style>\n",
       "<table border=\"1\" class=\"dataframe\">\n",
       "  <thead>\n",
       "    <tr style=\"text-align: right;\">\n",
       "      <th></th>\n",
       "      <th>Bedroom</th>\n",
       "      <th>Bathroom</th>\n",
       "      <th>Property Size</th>\n",
       "      <th>Category</th>\n",
       "      <th>Facilities</th>\n",
       "      <th>Building Name</th>\n",
       "      <th>Developer</th>\n",
       "      <th>Address</th>\n",
       "      <th># of Floors</th>\n",
       "      <th>Total Units</th>\n",
       "      <th>Parking Lot</th>\n",
       "      <th>Firm Number</th>\n",
       "      <th>REN Number</th>\n",
       "      <th>Bus Stop</th>\n",
       "      <th>Mall</th>\n",
       "      <th>Park</th>\n",
       "      <th>School</th>\n",
       "      <th>Hospital</th>\n",
       "      <th>price</th>\n",
       "      <th>Highway</th>\n",
       "      <th>Railway Station</th>\n",
       "      <th>Tenure Type_encoded</th>\n",
       "      <th>Completion Year_encoded</th>\n",
       "      <th>Property Type_encoded</th>\n",
       "      <th>Floor Range_encoded</th>\n",
       "      <th>Land Title_encoded</th>\n",
       "      <th>Firm Type_encoded</th>\n",
       "      <th>State_encoded</th>\n",
       "    </tr>\n",
       "  </thead>\n",
       "  <tbody>\n",
       "    <tr>\n",
       "      <th>0</th>\n",
       "      <td>3</td>\n",
       "      <td>2</td>\n",
       "      <td>1000.0</td>\n",
       "      <td>Apartment / Condominium, For sale</td>\n",
       "      <td>3</td>\n",
       "      <td>Sri Lavender Apartment</td>\n",
       "      <td>TLS Group</td>\n",
       "      <td>Jalan Sepakat Indah 2/1, Taman Sepakat Indah 2...</td>\n",
       "      <td>13</td>\n",
       "      <td>445</td>\n",
       "      <td>1</td>\n",
       "      <td>Unknown</td>\n",
       "      <td>Unknown</td>\n",
       "      <td>0</td>\n",
       "      <td>0</td>\n",
       "      <td>0</td>\n",
       "      <td>0</td>\n",
       "      <td>0</td>\n",
       "      <td>230000.0</td>\n",
       "      <td>1</td>\n",
       "      <td>0</td>\n",
       "      <td>0</td>\n",
       "      <td>16</td>\n",
       "      <td>0</td>\n",
       "      <td>2</td>\n",
       "      <td>2</td>\n",
       "      <td>2</td>\n",
       "      <td>7</td>\n",
       "    </tr>\n",
       "    <tr>\n",
       "      <th>1</th>\n",
       "      <td>3</td>\n",
       "      <td>2</td>\n",
       "      <td>1100.0</td>\n",
       "      <td>Apartment / Condominium, For sale</td>\n",
       "      <td>3</td>\n",
       "      <td>D'Piazza Condominium</td>\n",
       "      <td>X-Scan Penang Sdn Bhd</td>\n",
       "      <td>Jalan Mayang Pasir 2, Bayan Baru, Penang</td>\n",
       "      <td>19</td>\n",
       "      <td>706</td>\n",
       "      <td>1</td>\n",
       "      <td>11307</td>\n",
       "      <td>REN 61472</td>\n",
       "      <td>0</td>\n",
       "      <td>0</td>\n",
       "      <td>0</td>\n",
       "      <td>0</td>\n",
       "      <td>0</td>\n",
       "      <td>425000.0</td>\n",
       "      <td>0</td>\n",
       "      <td>0</td>\n",
       "      <td>0</td>\n",
       "      <td>19</td>\n",
       "      <td>1</td>\n",
       "      <td>1</td>\n",
       "      <td>2</td>\n",
       "      <td>1</td>\n",
       "      <td>5</td>\n",
       "    </tr>\n",
       "    <tr>\n",
       "      <th>2</th>\n",
       "      <td>3</td>\n",
       "      <td>2</td>\n",
       "      <td>780.0</td>\n",
       "      <td>Apartment / Condominium, For sale</td>\n",
       "      <td>3</td>\n",
       "      <td>Pangsapuri Sri Alpinia</td>\n",
       "      <td>IOI Properties Group Berhad</td>\n",
       "      <td>Persiaran Indera, Pusat Bandar Puchong, Puchon...</td>\n",
       "      <td>5</td>\n",
       "      <td>281</td>\n",
       "      <td>1</td>\n",
       "      <td>31484</td>\n",
       "      <td>Unknown</td>\n",
       "      <td>0</td>\n",
       "      <td>0</td>\n",
       "      <td>0</td>\n",
       "      <td>0</td>\n",
       "      <td>0</td>\n",
       "      <td>230000.0</td>\n",
       "      <td>0</td>\n",
       "      <td>0</td>\n",
       "      <td>0</td>\n",
       "      <td>36</td>\n",
       "      <td>1</td>\n",
       "      <td>3</td>\n",
       "      <td>2</td>\n",
       "      <td>1</td>\n",
       "      <td>7</td>\n",
       "    </tr>\n",
       "    <tr>\n",
       "      <th>3</th>\n",
       "      <td>3</td>\n",
       "      <td>2</td>\n",
       "      <td>660.0</td>\n",
       "      <td>Apartment / Condominium, For sale</td>\n",
       "      <td>3</td>\n",
       "      <td>Sri Aman Block C (Sri Aman Block 1 &amp; 3)</td>\n",
       "      <td>Unknown</td>\n",
       "      <td>Persiaran Paya Terubong 3, Bukit Jambul, Penang</td>\n",
       "      <td>18</td>\n",
       "      <td>701</td>\n",
       "      <td>1</td>\n",
       "      <td>31970</td>\n",
       "      <td>REN 03281</td>\n",
       "      <td>0</td>\n",
       "      <td>0</td>\n",
       "      <td>0</td>\n",
       "      <td>0</td>\n",
       "      <td>0</td>\n",
       "      <td>265000.0</td>\n",
       "      <td>0</td>\n",
       "      <td>0</td>\n",
       "      <td>0</td>\n",
       "      <td>17</td>\n",
       "      <td>0</td>\n",
       "      <td>2</td>\n",
       "      <td>2</td>\n",
       "      <td>1</td>\n",
       "      <td>5</td>\n",
       "    </tr>\n",
       "    <tr>\n",
       "      <th>4</th>\n",
       "      <td>3</td>\n",
       "      <td>2</td>\n",
       "      <td>1250.0</td>\n",
       "      <td>Apartment / Condominium, For sale</td>\n",
       "      <td>3</td>\n",
       "      <td>Ameera Residence</td>\n",
       "      <td>TLS Group</td>\n",
       "      <td>Jalan Mutiara 3, Mutiara Heights,, Kajang, Sel...</td>\n",
       "      <td>0</td>\n",
       "      <td>428</td>\n",
       "      <td>2</td>\n",
       "      <td>31484</td>\n",
       "      <td>Unknown</td>\n",
       "      <td>0</td>\n",
       "      <td>0</td>\n",
       "      <td>0</td>\n",
       "      <td>0</td>\n",
       "      <td>0</td>\n",
       "      <td>340000.0</td>\n",
       "      <td>0</td>\n",
       "      <td>0</td>\n",
       "      <td>0</td>\n",
       "      <td>25</td>\n",
       "      <td>1</td>\n",
       "      <td>3</td>\n",
       "      <td>2</td>\n",
       "      <td>1</td>\n",
       "      <td>7</td>\n",
       "    </tr>\n",
       "  </tbody>\n",
       "</table>\n",
       "</div>"
      ],
      "text/plain": [
       "   Bedroom  Bathroom  Property Size                           Category  \\\n",
       "0        3         2         1000.0  Apartment / Condominium, For sale   \n",
       "1        3         2         1100.0  Apartment / Condominium, For sale   \n",
       "2        3         2          780.0  Apartment / Condominium, For sale   \n",
       "3        3         2          660.0  Apartment / Condominium, For sale   \n",
       "4        3         2         1250.0  Apartment / Condominium, For sale   \n",
       "\n",
       "  Facilities                            Building Name  \\\n",
       "0          3                   Sri Lavender Apartment   \n",
       "1          3                     D'Piazza Condominium   \n",
       "2          3                   Pangsapuri Sri Alpinia   \n",
       "3          3  Sri Aman Block C (Sri Aman Block 1 & 3)   \n",
       "4          3                         Ameera Residence   \n",
       "\n",
       "                     Developer  \\\n",
       "0                    TLS Group   \n",
       "1        X-Scan Penang Sdn Bhd   \n",
       "2  IOI Properties Group Berhad   \n",
       "3                      Unknown   \n",
       "4                    TLS Group   \n",
       "\n",
       "                                             Address  # of Floors  \\\n",
       "0  Jalan Sepakat Indah 2/1, Taman Sepakat Indah 2...           13   \n",
       "1           Jalan Mayang Pasir 2, Bayan Baru, Penang           19   \n",
       "2  Persiaran Indera, Pusat Bandar Puchong, Puchon...            5   \n",
       "3    Persiaran Paya Terubong 3, Bukit Jambul, Penang           18   \n",
       "4  Jalan Mutiara 3, Mutiara Heights,, Kajang, Sel...            0   \n",
       "\n",
       "   Total Units  Parking Lot Firm Number REN Number  Bus Stop  Mall  Park  \\\n",
       "0          445            1     Unknown    Unknown         0     0     0   \n",
       "1          706            1       11307  REN 61472         0     0     0   \n",
       "2          281            1       31484    Unknown         0     0     0   \n",
       "3          701            1       31970  REN 03281         0     0     0   \n",
       "4          428            2       31484    Unknown         0     0     0   \n",
       "\n",
       "   School  Hospital     price  Highway  Railway Station  Tenure Type_encoded  \\\n",
       "0       0         0  230000.0        1                0                    0   \n",
       "1       0         0  425000.0        0                0                    0   \n",
       "2       0         0  230000.0        0                0                    0   \n",
       "3       0         0  265000.0        0                0                    0   \n",
       "4       0         0  340000.0        0                0                    0   \n",
       "\n",
       "   Completion Year_encoded  Property Type_encoded  Floor Range_encoded  \\\n",
       "0                       16                      0                    2   \n",
       "1                       19                      1                    1   \n",
       "2                       36                      1                    3   \n",
       "3                       17                      0                    2   \n",
       "4                       25                      1                    3   \n",
       "\n",
       "   Land Title_encoded  Firm Type_encoded  State_encoded  \n",
       "0                   2                  2              7  \n",
       "1                   2                  1              5  \n",
       "2                   2                  1              7  \n",
       "3                   2                  1              5  \n",
       "4                   2                  1              7  "
      ]
     },
     "execution_count": 120,
     "metadata": {},
     "output_type": "execute_result"
    }
   ],
   "source": [
    "from sklearn.preprocessing import LabelEncoder\n",
    "\n",
    "# Assuming df is your original DataFrame\n",
    "df2 = df.copy()\n",
    "\n",
    "columns_to_transform = ['Tenure Type', 'Completion Year', 'Property Type', 'Floor Range', 'Land Title', 'Firm Type', 'State']\n",
    "\n",
    "#stores all the mappings\n",
    "all_mappings = {}\n",
    "\n",
    "for col in columns_to_transform:\n",
    "    new_column_name = col + \"_encoded\"\n",
    "    label_encoder = LabelEncoder()\n",
    "    df2[new_column_name] = label_encoder.fit_transform(df2[col])  # Use fit_transform to fit and transform\n",
    "    df2.drop(col, axis=1, inplace=True)  # Drop the original column\n",
    "\n",
    "    # Create a mapping dictionary\n",
    "    category_mapping = dict(zip(label_encoder.classes_, range(len(label_encoder.classes_))))\n",
    "\n",
    "    # Store the mapping in the dictionary\n",
    "    all_mappings[col] = category_mapping \n",
    "\n",
    "# Now df2 contains the encoded columns, and the original columns are dropped \n",
    "df2.head()\n"
   ]
  },
  {
   "cell_type": "code",
   "execution_count": 121,
   "metadata": {},
   "outputs": [
    {
     "data": {
      "text/plain": [
       "{'Tenure Type': {'Freehold': 0, 'Leasehold': 1},\n",
       " 'Completion Year': {'1987': 0,\n",
       "  '1989': 1,\n",
       "  '1992': 2,\n",
       "  '1994': 3,\n",
       "  '1995': 4,\n",
       "  '1996': 5,\n",
       "  '1997': 6,\n",
       "  '1998': 7,\n",
       "  '1999': 8,\n",
       "  '2000': 9,\n",
       "  '2001': 10,\n",
       "  '2002': 11,\n",
       "  '2003': 12,\n",
       "  '2004': 13,\n",
       "  '2005': 14,\n",
       "  '2006': 15,\n",
       "  '2007': 16,\n",
       "  '2008': 17,\n",
       "  '2009': 18,\n",
       "  '2010': 19,\n",
       "  '2011': 20,\n",
       "  '2012': 21,\n",
       "  '2013': 22,\n",
       "  '2014': 23,\n",
       "  '2015': 24,\n",
       "  '2016': 25,\n",
       "  '2017': 26,\n",
       "  '2018': 27,\n",
       "  '2019': 28,\n",
       "  '2020': 29,\n",
       "  '2021': 30,\n",
       "  '2022': 31,\n",
       "  '2023': 32,\n",
       "  '2024': 33,\n",
       "  '2025': 34,\n",
       "  '2026': 35,\n",
       "  'Unknown': 36},\n",
       " 'Property Type': {'Apartment': 0,\n",
       "  'Condominium': 1,\n",
       "  'Duplex': 2,\n",
       "  'Service Residence': 3},\n",
       " 'Floor Range': {'High': 0, 'Low': 1, 'Medium': 2, 'Unknown': 3},\n",
       " 'Land Title': {'Bumi Lot': 0, 'Malay Reserved': 1, 'Non Bumi Lot': 2},\n",
       " 'Firm Type': {'AE': 0, 'E': 1, 'Unknown': 2, 'VE': 3, 'VEPM': 4},\n",
       " 'State': {'johor': 0,\n",
       "  'kedah': 1,\n",
       "  'kuala lumpur': 2,\n",
       "  'negeri sembilan': 3,\n",
       "  'pahang': 4,\n",
       "  'penang': 5,\n",
       "  'sarawak': 6,\n",
       "  'selangor': 7}}"
      ]
     },
     "execution_count": 121,
     "metadata": {},
     "output_type": "execute_result"
    }
   ],
   "source": [
    "all_mappings"
   ]
  },
  {
   "cell_type": "code",
   "execution_count": 122,
   "metadata": {},
   "outputs": [
    {
     "name": "stdout",
     "output_type": "stream",
     "text": [
      "<class 'pandas.core.frame.DataFrame'>\n",
      "Index: 1000 entries, 0 to 1054\n",
      "Data columns (total 28 columns):\n",
      " #   Column                   Non-Null Count  Dtype  \n",
      "---  ------                   --------------  -----  \n",
      " 0   Bedroom                  1000 non-null   int32  \n",
      " 1   Bathroom                 1000 non-null   int32  \n",
      " 2   Property Size            1000 non-null   float64\n",
      " 3   Category                 1000 non-null   object \n",
      " 4   Facilities               1000 non-null   object \n",
      " 5   Building Name            1000 non-null   object \n",
      " 6   Developer                1000 non-null   object \n",
      " 7   Address                  1000 non-null   object \n",
      " 8   # of Floors              1000 non-null   int32  \n",
      " 9   Total Units              1000 non-null   int32  \n",
      " 10  Parking Lot              1000 non-null   int32  \n",
      " 11  Firm Number              1000 non-null   object \n",
      " 12  REN Number               1000 non-null   object \n",
      " 13  Bus Stop                 1000 non-null   int32  \n",
      " 14  Mall                     1000 non-null   int32  \n",
      " 15  Park                     1000 non-null   int32  \n",
      " 16  School                   1000 non-null   int32  \n",
      " 17  Hospital                 1000 non-null   int32  \n",
      " 18  price                    1000 non-null   float64\n",
      " 19  Highway                  1000 non-null   int32  \n",
      " 20  Railway Station          1000 non-null   int32  \n",
      " 21  Tenure Type_encoded      1000 non-null   int32  \n",
      " 22  Completion Year_encoded  1000 non-null   int32  \n",
      " 23  Property Type_encoded    1000 non-null   int32  \n",
      " 24  Floor Range_encoded      1000 non-null   int32  \n",
      " 25  Land Title_encoded       1000 non-null   int32  \n",
      " 26  Firm Type_encoded        1000 non-null   int32  \n",
      " 27  State_encoded            1000 non-null   int32  \n",
      "dtypes: float64(2), int32(19), object(7)\n",
      "memory usage: 152.3+ KB\n"
     ]
    }
   ],
   "source": [
    "df2.info()"
   ]
  },
  {
   "cell_type": "code",
   "execution_count": 123,
   "metadata": {},
   "outputs": [
    {
     "name": "stdout",
     "output_type": "stream",
     "text": [
      "price\n",
      "Skewness: 2.6104991376560327\n"
     ]
    },
    {
     "data": {
      "text/plain": [
       "<Figure size 640x480 with 0 Axes>"
      ]
     },
     "metadata": {},
     "output_type": "display_data"
    },
    {
     "data": {
      "image/png": "[encoded data removed]",
      "text/plain": [
       "<Figure size 500x500 with 1 Axes>"
      ]
     },
     "metadata": {},
     "output_type": "display_data"
    }
   ],
   "source": [
    "#Checking the skewness\n",
    "from scipy.stats import skew \n",
    "\n",
    "# Check if 'price' is in the columns\n",
    "if 'price' in df2.columns:\n",
    "    col = 'price'\n",
    "\n",
    "    print(col)\n",
    "    print(\"Skewness:\", skew(df2[col]))\n",
    "\n",
    "    plt.figure()\n",
    "    sns.displot(df2[col], kde=True)\n",
    "    plt.show()\n",
    "else:\n",
    "    print(\"'price' column not found in the DataFrame.\")\n"
   ]
  },
  {
   "cell_type": "code",
   "execution_count": 124,
   "metadata": {},
   "outputs": [
    {
     "name": "stdout",
     "output_type": "stream",
     "text": [
      "Original Skewness: 2.6104991376560327\n",
      "Transformed Skewness: 0.7118815018684936\n"
     ]
    },
    {
     "data": {
      "text/plain": [
       "<Figure size 1000x600 with 0 Axes>"
      ]
     },
     "metadata": {},
     "output_type": "display_data"
    },
    {
     "data": {
      "image/png": "[encoded data removed]",
      "text/plain": [
       "<Figure size 500x500 with 1 Axes>"
      ]
     },
     "metadata": {},
     "output_type": "display_data"
    }
   ],
   "source": [
    "import seaborn as sns\n",
    "import matplotlib.pyplot as plt\n",
    "from scipy.stats import skew\n",
    "import numpy as np\n",
    "\n",
    "# Check if 'price' is in the columns\n",
    "if 'price' in df2.columns:\n",
    "    col = 'price'\n",
    "\n",
    "    # Display original skewness\n",
    "    original_skewness = skew(df2[col])\n",
    "    print(f\"Original Skewness: {original_skewness}\")\n",
    "\n",
    "    # Apply log transformation\n",
    "    df2['price_log'] = np.log1p(df2[col])\n",
    "\n",
    "    # Display skewness after log transformation\n",
    "    transformed_skewness = skew(df2['price_log'])\n",
    "    print(f\"Transformed Skewness: {transformed_skewness}\")\n",
    "\n",
    "    # Create a distribution plot for the log-transformed 'price' column\n",
    "    plt.figure(figsize=(10, 6))\n",
    "    sns.displot(df2['price_log'], kde=True)\n",
    "    plt.title('Distribution of Log-Transformed Price')\n",
    "    plt.show()\n",
    "else:\n",
    "    print(\"'price' column not found in the DataFrame.\")\n"
   ]
  },
  {
   "cell_type": "code",
   "execution_count": 125,
   "metadata": {},
   "outputs": [
    {
     "data": {
      "text/html": [
       "<div>\n",
       "<style scoped>\n",
       "    .dataframe tbody tr th:only-of-type {\n",
       "        vertical-align: middle;\n",
       "    }\n",
       "\n",
       "    .dataframe tbody tr th {\n",
       "        vertical-align: top;\n",
       "    }\n",
       "\n",
       "    .dataframe thead th {\n",
       "        text-align: right;\n",
       "    }\n",
       "</style>\n",
       "<table border=\"1\" class=\"dataframe\">\n",
       "  <thead>\n",
       "    <tr style=\"text-align: right;\">\n",
       "      <th></th>\n",
       "      <th>Bedroom</th>\n",
       "      <th>Bathroom</th>\n",
       "      <th>Property Size</th>\n",
       "      <th>Category</th>\n",
       "      <th>Facilities</th>\n",
       "      <th>Building Name</th>\n",
       "      <th>Developer</th>\n",
       "      <th>Address</th>\n",
       "      <th># of Floors</th>\n",
       "      <th>Total Units</th>\n",
       "      <th>Parking Lot</th>\n",
       "      <th>Firm Number</th>\n",
       "      <th>REN Number</th>\n",
       "      <th>Bus Stop</th>\n",
       "      <th>Mall</th>\n",
       "      <th>Park</th>\n",
       "      <th>School</th>\n",
       "      <th>Hospital</th>\n",
       "      <th>price</th>\n",
       "      <th>Highway</th>\n",
       "      <th>Railway Station</th>\n",
       "      <th>Tenure Type_encoded</th>\n",
       "      <th>Completion Year_encoded</th>\n",
       "      <th>Property Type_encoded</th>\n",
       "      <th>Floor Range_encoded</th>\n",
       "      <th>Land Title_encoded</th>\n",
       "      <th>Firm Type_encoded</th>\n",
       "      <th>State_encoded</th>\n",
       "      <th>price_log</th>\n",
       "    </tr>\n",
       "  </thead>\n",
       "  <tbody>\n",
       "    <tr>\n",
       "      <th>0</th>\n",
       "      <td>3</td>\n",
       "      <td>2</td>\n",
       "      <td>1000.0</td>\n",
       "      <td>Apartment / Condominium, For sale</td>\n",
       "      <td>3</td>\n",
       "      <td>Sri Lavender Apartment</td>\n",
       "      <td>TLS Group</td>\n",
       "      <td>Jalan Sepakat Indah 2/1, Taman Sepakat Indah 2...</td>\n",
       "      <td>13</td>\n",
       "      <td>445</td>\n",
       "      <td>1</td>\n",
       "      <td>Unknown</td>\n",
       "      <td>Unknown</td>\n",
       "      <td>0</td>\n",
       "      <td>0</td>\n",
       "      <td>0</td>\n",
       "      <td>0</td>\n",
       "      <td>0</td>\n",
       "      <td>230000.0</td>\n",
       "      <td>1</td>\n",
       "      <td>0</td>\n",
       "      <td>0</td>\n",
       "      <td>16</td>\n",
       "      <td>0</td>\n",
       "      <td>2</td>\n",
       "      <td>2</td>\n",
       "      <td>2</td>\n",
       "      <td>7</td>\n",
       "      <td>12.345839</td>\n",
       "    </tr>\n",
       "    <tr>\n",
       "      <th>1</th>\n",
       "      <td>3</td>\n",
       "      <td>2</td>\n",
       "      <td>1100.0</td>\n",
       "      <td>Apartment / Condominium, For sale</td>\n",
       "      <td>3</td>\n",
       "      <td>D'Piazza Condominium</td>\n",
       "      <td>X-Scan Penang Sdn Bhd</td>\n",
       "      <td>Jalan Mayang Pasir 2, Bayan Baru, Penang</td>\n",
       "      <td>19</td>\n",
       "      <td>706</td>\n",
       "      <td>1</td>\n",
       "      <td>11307</td>\n",
       "      <td>REN 61472</td>\n",
       "      <td>0</td>\n",
       "      <td>0</td>\n",
       "      <td>0</td>\n",
       "      <td>0</td>\n",
       "      <td>0</td>\n",
       "      <td>425000.0</td>\n",
       "      <td>0</td>\n",
       "      <td>0</td>\n",
       "      <td>0</td>\n",
       "      <td>19</td>\n",
       "      <td>1</td>\n",
       "      <td>1</td>\n",
       "      <td>2</td>\n",
       "      <td>1</td>\n",
       "      <td>5</td>\n",
       "      <td>12.959847</td>\n",
       "    </tr>\n",
       "    <tr>\n",
       "      <th>2</th>\n",
       "      <td>3</td>\n",
       "      <td>2</td>\n",
       "      <td>780.0</td>\n",
       "      <td>Apartment / Condominium, For sale</td>\n",
       "      <td>3</td>\n",
       "      <td>Pangsapuri Sri Alpinia</td>\n",
       "      <td>IOI Properties Group Berhad</td>\n",
       "      <td>Persiaran Indera, Pusat Bandar Puchong, Puchon...</td>\n",
       "      <td>5</td>\n",
       "      <td>281</td>\n",
       "      <td>1</td>\n",
       "      <td>31484</td>\n",
       "      <td>Unknown</td>\n",
       "      <td>0</td>\n",
       "      <td>0</td>\n",
       "      <td>0</td>\n",
       "      <td>0</td>\n",
       "      <td>0</td>\n",
       "      <td>230000.0</td>\n",
       "      <td>0</td>\n",
       "      <td>0</td>\n",
       "      <td>0</td>\n",
       "      <td>36</td>\n",
       "      <td>1</td>\n",
       "      <td>3</td>\n",
       "      <td>2</td>\n",
       "      <td>1</td>\n",
       "      <td>7</td>\n",
       "      <td>12.345839</td>\n",
       "    </tr>\n",
       "    <tr>\n",
       "      <th>3</th>\n",
       "      <td>3</td>\n",
       "      <td>2</td>\n",
       "      <td>660.0</td>\n",
       "      <td>Apartment / Condominium, For sale</td>\n",
       "      <td>3</td>\n",
       "      <td>Sri Aman Block C (Sri Aman Block 1 &amp; 3)</td>\n",
       "      <td>Unknown</td>\n",
       "      <td>Persiaran Paya Terubong 3, Bukit Jambul, Penang</td>\n",
       "      <td>18</td>\n",
       "      <td>701</td>\n",
       "      <td>1</td>\n",
       "      <td>31970</td>\n",
       "      <td>REN 03281</td>\n",
       "      <td>0</td>\n",
       "      <td>0</td>\n",
       "      <td>0</td>\n",
       "      <td>0</td>\n",
       "      <td>0</td>\n",
       "      <td>265000.0</td>\n",
       "      <td>0</td>\n",
       "      <td>0</td>\n",
       "      <td>0</td>\n",
       "      <td>17</td>\n",
       "      <td>0</td>\n",
       "      <td>2</td>\n",
       "      <td>2</td>\n",
       "      <td>1</td>\n",
       "      <td>5</td>\n",
       "      <td>12.487489</td>\n",
       "    </tr>\n",
       "    <tr>\n",
       "      <th>4</th>\n",
       "      <td>3</td>\n",
       "      <td>2</td>\n",
       "      <td>1250.0</td>\n",
       "      <td>Apartment / Condominium, For sale</td>\n",
       "      <td>3</td>\n",
       "      <td>Ameera Residence</td>\n",
       "      <td>TLS Group</td>\n",
       "      <td>Jalan Mutiara 3, Mutiara Heights,, Kajang, Sel...</td>\n",
       "      <td>0</td>\n",
       "      <td>428</td>\n",
       "      <td>2</td>\n",
       "      <td>31484</td>\n",
       "      <td>Unknown</td>\n",
       "      <td>0</td>\n",
       "      <td>0</td>\n",
       "      <td>0</td>\n",
       "      <td>0</td>\n",
       "      <td>0</td>\n",
       "      <td>340000.0</td>\n",
       "      <td>0</td>\n",
       "      <td>0</td>\n",
       "      <td>0</td>\n",
       "      <td>25</td>\n",
       "      <td>1</td>\n",
       "      <td>3</td>\n",
       "      <td>2</td>\n",
       "      <td>1</td>\n",
       "      <td>7</td>\n",
       "      <td>12.736704</td>\n",
       "    </tr>\n",
       "  </tbody>\n",
       "</table>\n",
       "</div>"
      ],
      "text/plain": [
       "   Bedroom  Bathroom  Property Size                           Category  \\\n",
       "0        3         2         1000.0  Apartment / Condominium, For sale   \n",
       "1        3         2         1100.0  Apartment / Condominium, For sale   \n",
       "2        3         2          780.0  Apartment / Condominium, For sale   \n",
       "3        3         2          660.0  Apartment / Condominium, For sale   \n",
       "4        3         2         1250.0  Apartment / Condominium, For sale   \n",
       "\n",
       "  Facilities                            Building Name  \\\n",
       "0          3                   Sri Lavender Apartment   \n",
       "1          3                     D'Piazza Condominium   \n",
       "2          3                   Pangsapuri Sri Alpinia   \n",
       "3          3  Sri Aman Block C (Sri Aman Block 1 & 3)   \n",
       "4          3                         Ameera Residence   \n",
       "\n",
       "                     Developer  \\\n",
       "0                    TLS Group   \n",
       "1        X-Scan Penang Sdn Bhd   \n",
       "2  IOI Properties Group Berhad   \n",
       "3                      Unknown   \n",
       "4                    TLS Group   \n",
       "\n",
       "                                             Address  # of Floors  \\\n",
       "0  Jalan Sepakat Indah 2/1, Taman Sepakat Indah 2...           13   \n",
       "1           Jalan Mayang Pasir 2, Bayan Baru, Penang           19   \n",
       "2  Persiaran Indera, Pusat Bandar Puchong, Puchon...            5   \n",
       "3    Persiaran Paya Terubong 3, Bukit Jambul, Penang           18   \n",
       "4  Jalan Mutiara 3, Mutiara Heights,, Kajang, Sel...            0   \n",
       "\n",
       "   Total Units  Parking Lot Firm Number REN Number  Bus Stop  Mall  Park  \\\n",
       "0          445            1     Unknown    Unknown         0     0     0   \n",
       "1          706            1       11307  REN 61472         0     0     0   \n",
       "2          281            1       31484    Unknown         0     0     0   \n",
       "3          701            1       31970  REN 03281         0     0     0   \n",
       "4          428            2       31484    Unknown         0     0     0   \n",
       "\n",
       "   School  Hospital     price  Highway  Railway Station  Tenure Type_encoded  \\\n",
       "0       0         0  230000.0        1                0                    0   \n",
       "1       0         0  425000.0        0                0                    0   \n",
       "2       0         0  230000.0        0                0                    0   \n",
       "3       0         0  265000.0        0                0                    0   \n",
       "4       0         0  340000.0        0                0                    0   \n",
       "\n",
       "   Completion Year_encoded  Property Type_encoded  Floor Range_encoded  \\\n",
       "0                       16                      0                    2   \n",
       "1                       19                      1                    1   \n",
       "2                       36                      1                    3   \n",
       "3                       17                      0                    2   \n",
       "4                       25                      1                    3   \n",
       "\n",
       "   Land Title_encoded  Firm Type_encoded  State_encoded  price_log  \n",
       "0                   2                  2              7  12.345839  \n",
       "1                   2                  1              5  12.959847  \n",
       "2                   2                  1              7  12.345839  \n",
       "3                   2                  1              5  12.487489  \n",
       "4                   2                  1              7  12.736704  "
      ]
     },
     "execution_count": 125,
     "metadata": {},
     "output_type": "execute_result"
    }
   ],
   "source": [
    "df2.head() "
   ]
  },
  {
   "cell_type": "code",
   "execution_count": 126,
   "metadata": {},
   "outputs": [
    {
     "data": {
      "image/png": "[encoded data removed]",
      "text/plain": [
       "<Figure size 1500x600 with 1 Axes>"
      ]
     },
     "metadata": {},
     "output_type": "display_data"
    }
   ],
   "source": [
    "plt.figure(figsize = ((15, 6)))\n",
    "plt.scatter(x = 'Property Size', y = 'price_log', data = df2, color='crimson')\n",
    "plt.title('Relationship between Property Size and Sale Price', weight = 'bold', fontsize = 10)\n",
    "plt.xlabel('Property Size', weight = 'bold')\n",
    "plt.ylabel('Sale Price', weight = 'bold')  \n",
    "plt.show() "
   ]
  },
  {
   "cell_type": "code",
   "execution_count": 127,
   "metadata": {},
   "outputs": [
    {
     "data": {
      "text/html": [
       "<div>\n",
       "<style scoped>\n",
       "    .dataframe tbody tr th:only-of-type {\n",
       "        vertical-align: middle;\n",
       "    }\n",
       "\n",
       "    .dataframe tbody tr th {\n",
       "        vertical-align: top;\n",
       "    }\n",
       "\n",
       "    .dataframe thead th {\n",
       "        text-align: right;\n",
       "    }\n",
       "</style>\n",
       "<table border=\"1\" class=\"dataframe\">\n",
       "  <thead>\n",
       "    <tr style=\"text-align: right;\">\n",
       "      <th></th>\n",
       "      <th>Property Size</th>\n",
       "      <th>Bathroom</th>\n",
       "      <th>Bedroom</th>\n",
       "      <th># of Floors</th>\n",
       "      <th>Parking Lot</th>\n",
       "      <th>price_log</th>\n",
       "    </tr>\n",
       "  </thead>\n",
       "  <tbody>\n",
       "    <tr>\n",
       "      <th>Property Size</th>\n",
       "      <td>1.000000</td>\n",
       "      <td>0.640284</td>\n",
       "      <td>0.502803</td>\n",
       "      <td>0.102659</td>\n",
       "      <td>0.481234</td>\n",
       "      <td>0.655095</td>\n",
       "    </tr>\n",
       "    <tr>\n",
       "      <th>Bathroom</th>\n",
       "      <td>0.640284</td>\n",
       "      <td>1.000000</td>\n",
       "      <td>0.481811</td>\n",
       "      <td>0.104790</td>\n",
       "      <td>0.315305</td>\n",
       "      <td>0.490772</td>\n",
       "    </tr>\n",
       "    <tr>\n",
       "      <th>Bedroom</th>\n",
       "      <td>0.502803</td>\n",
       "      <td>0.481811</td>\n",
       "      <td>1.000000</td>\n",
       "      <td>0.027098</td>\n",
       "      <td>0.183100</td>\n",
       "      <td>0.198015</td>\n",
       "    </tr>\n",
       "    <tr>\n",
       "      <th># of Floors</th>\n",
       "      <td>0.102659</td>\n",
       "      <td>0.104790</td>\n",
       "      <td>0.027098</td>\n",
       "      <td>1.000000</td>\n",
       "      <td>0.195176</td>\n",
       "      <td>0.237320</td>\n",
       "    </tr>\n",
       "    <tr>\n",
       "      <th>Parking Lot</th>\n",
       "      <td>0.481234</td>\n",
       "      <td>0.315305</td>\n",
       "      <td>0.183100</td>\n",
       "      <td>0.195176</td>\n",
       "      <td>1.000000</td>\n",
       "      <td>0.539487</td>\n",
       "    </tr>\n",
       "    <tr>\n",
       "      <th>price_log</th>\n",
       "      <td>0.655095</td>\n",
       "      <td>0.490772</td>\n",
       "      <td>0.198015</td>\n",
       "      <td>0.237320</td>\n",
       "      <td>0.539487</td>\n",
       "      <td>1.000000</td>\n",
       "    </tr>\n",
       "  </tbody>\n",
       "</table>\n",
       "</div>"
      ],
      "text/plain": [
       "               Property Size  Bathroom   Bedroom  # of Floors  Parking Lot  \\\n",
       "Property Size       1.000000  0.640284  0.502803     0.102659     0.481234   \n",
       "Bathroom            0.640284  1.000000  0.481811     0.104790     0.315305   \n",
       "Bedroom             0.502803  0.481811  1.000000     0.027098     0.183100   \n",
       "# of Floors         0.102659  0.104790  0.027098     1.000000     0.195176   \n",
       "Parking Lot         0.481234  0.315305  0.183100     0.195176     1.000000   \n",
       "price_log           0.655095  0.490772  0.198015     0.237320     0.539487   \n",
       "\n",
       "               price_log  \n",
       "Property Size   0.655095  \n",
       "Bathroom        0.490772  \n",
       "Bedroom         0.198015  \n",
       "# of Floors     0.237320  \n",
       "Parking Lot     0.539487  \n",
       "price_log       1.000000  "
      ]
     },
     "execution_count": 127,
     "metadata": {},
     "output_type": "execute_result"
    }
   ],
   "source": [
    "#applying correlation matrix on continuous value not encoded values\n",
    "selected_col_corr = [\"Property Size\",\"Bathroom\",\"Bedroom\",\"# of Floors\",\"Parking Lot\",\"price_log\"] \n",
    "correlation_matrix = df2[selected_col_corr].corr()\n",
    "\n",
    "correlation_matrix "
   ]
  },
  {
   "cell_type": "code",
   "execution_count": 128,
   "metadata": {},
   "outputs": [
    {
     "data": {
      "image/png": "[encoded data removed]",
      "text/plain": [
       "<Figure size 800x600 with 2 Axes>"
      ]
     },
     "metadata": {},
     "output_type": "display_data"
    }
   ],
   "source": [
    "#from the correlation matrix , we can see that most of them  have directly proportional relationship \n",
    "plt.figure(figsize=(8, 6))\n",
    "sns.heatmap(correlation_matrix, annot=True)\n",
    "plt.title('Correlation Matrix')\n",
    "plt.show()"
   ]
  },
  {
   "cell_type": "code",
   "execution_count": 129,
   "metadata": {},
   "outputs": [
    {
     "data": {
      "text/plain": [
       "Index(['Bedroom', 'Bathroom', 'Property Size', 'Category', 'Facilities',\n",
       "       'Building Name', 'Developer', 'Address', '# of Floors', 'Total Units',\n",
       "       'Parking Lot', 'Firm Number', 'REN Number', 'Bus Stop', 'Mall', 'Park',\n",
       "       'School', 'Hospital', 'price', 'Highway', 'Railway Station',\n",
       "       'Tenure Type_encoded', 'Completion Year_encoded',\n",
       "       'Property Type_encoded', 'Floor Range_encoded', 'Land Title_encoded',\n",
       "       'Firm Type_encoded', 'State_encoded', 'price_log'],\n",
       "      dtype='object')"
      ]
     },
     "execution_count": 129,
     "metadata": {},
     "output_type": "execute_result"
    }
   ],
   "source": [
    "df2.columns"
   ]
  },
  {
   "cell_type": "code",
   "execution_count": 130,
   "metadata": {},
   "outputs": [],
   "source": [
    "from sklearn.model_selection import KFold\n",
    "features = ['Bedroom','Bathroom','Property Size','Tenure Type_encoded',\n",
    "            '# of Floors','Property Type_encoded','Parking Lot','Land Title_encoded',\n",
    "            'Bus Stop','Mall','Park','School','Hospital','State_encoded','Highway','Completion Year_encoded'] \n",
    "X = df2[features]  \n",
    "y = df2['price_log']  \n",
    " \n",
    "kfold = KFold(n_splits=5, shuffle=True, random_state=42)"
   ]
  },
  {
   "cell_type": "code",
   "execution_count": 131,
   "metadata": {},
   "outputs": [
    {
     "name": "stdout",
     "output_type": "stream",
     "text": [
      "Cross-Validation Scores: [0.55932236 0.51079017 0.44002145 0.63065672 0.61197788]\n",
      "Mean CV Score: 0.550553718996877\n"
     ]
    }
   ],
   "source": [
    "from sklearn.model_selection import cross_val_score\n",
    "from sklearn.linear_model import LinearRegression\n",
    "\n",
    "model = LinearRegression()\n",
    "\n",
    "cross_val_scores = cross_val_score(model, X, y, cv=kfold)\n",
    "print(\"Cross-Validation Scores:\", cross_val_scores)\n",
    "print(\"Mean CV Score:\", cross_val_scores.mean()) \n"
   ]
  },
  {
   "cell_type": "code",
   "execution_count": 132,
   "metadata": {},
   "outputs": [
    {
     "name": "stdout",
     "output_type": "stream",
     "text": [
      "Cross-Validation Scores: [0.43573401 0.50157908 0.35742149 0.53930953 0.41790265]\n",
      "Mean CV Score: 0.4503893518250363\n"
     ]
    }
   ],
   "source": [
    "#Lasso regression \n",
    "from sklearn.linear_model import Lasso\n",
    "from sklearn.model_selection import cross_val_score\n",
    "from sklearn.pipeline import make_pipeline\n",
    "\n",
    "lasso_model = make_pipeline(Lasso(alpha=0.1))\n",
    "\n",
    "cross_val_scores = cross_val_score(lasso_model, X, y, cv=5, scoring='r2')\n",
    " \n",
    "print(\"Cross-Validation Scores:\", cross_val_scores)\n",
    "print(\"Mean CV Score:\", cross_val_scores.mean())\n"
   ]
  },
  {
   "cell_type": "code",
   "execution_count": 133,
   "metadata": {},
   "outputs": [
    {
     "name": "stdout",
     "output_type": "stream",
     "text": [
      "Cross-Validation Scores: [0.51379699 0.55932558 0.49581843 0.60313743 0.53419344]\n",
      "Mean CV Score: 0.5412543730622369\n"
     ]
    }
   ],
   "source": [
    "#Ridge regression \n",
    "from sklearn.linear_model import Ridge\n",
    "from sklearn.model_selection import cross_val_score\n",
    "from sklearn.preprocessing import StandardScaler\n",
    "from sklearn.pipeline import make_pipeline\n",
    "\n",
    "\n",
    "ridge_model = make_pipeline(StandardScaler(), Ridge(alpha=0.1)) \n",
    "\n",
    "cross_val_scores = cross_val_score(ridge_model, X, y, cv=5, scoring='r2')\n",
    "\n",
    "print(\"Cross-Validation Scores:\", cross_val_scores)\n",
    "print(\"Mean CV Score:\", cross_val_scores.mean()) \n"
   ]
  },
  {
   "cell_type": "code",
   "execution_count": 134,
   "metadata": {},
   "outputs": [
    {
     "name": "stdout",
     "output_type": "stream",
     "text": [
      "Random Forest Cross-Validation Scores: [0.79195357 0.74584306 0.74762065 0.73865876 0.74716299]\n",
      "Mean CV Score: 0.7542478057641329\n"
     ]
    }
   ],
   "source": [
    "from sklearn.ensemble import RandomForestRegressor\n",
    "from sklearn.model_selection import cross_val_score, KFold\n",
    "\n",
    "model = RandomForestRegressor(random_state=42) \n",
    "\n",
    "cross_val_scores = cross_val_score(model, X, y, cv=kfold) \n",
    "print(\"Random Forest Cross-Validation Scores:\", cross_val_scores)\n",
    "print(\"Mean CV Score:\", cross_val_scores.mean())"
   ]
  },
  {
   "cell_type": "code",
   "execution_count": 135,
   "metadata": {},
   "outputs": [
    {
     "name": "stdout",
     "output_type": "stream",
     "text": [
      "Support Vector Regression Cross-Validation Scores: [0.48467635 0.39210738 0.38118367 0.48564542 0.5263803 ]\n",
      "Mean CV Score: 0.4539986247244247\n"
     ]
    }
   ],
   "source": [
    "from sklearn.svm import SVR\n",
    "from sklearn.model_selection import cross_val_score, KFold\n",
    "\n",
    "model = SVR()\n",
    "\n",
    "cross_val_scores = cross_val_score(model, X, y, cv=kfold)\n",
    "print(\"Support Vector Regression Cross-Validation Scores:\", cross_val_scores)\n",
    "print(\"Mean CV Score:\", cross_val_scores.mean())"
   ]
  },
  {
   "cell_type": "code",
   "execution_count": 136,
   "metadata": {},
   "outputs": [
    {
     "name": "stdout",
     "output_type": "stream",
     "text": [
      "XGBoost Cross-Validation Scores: [0.79043095 0.7390677  0.72547471 0.71559341 0.73597367]\n",
      "Mean CV Score: 0.7413080878888325\n"
     ]
    }
   ],
   "source": [
    "from xgboost import XGBRegressor \n",
    "from sklearn.model_selection import cross_val_score \n",
    "\n",
    "model = XGBRegressor(objective='reg:squarederror', random_state=42)\n",
    "\n",
    "cross_val_scores = cross_val_score(model, X, y, cv=kfold)\n",
    "print(\"XGBoost Cross-Validation Scores:\", cross_val_scores)  \n",
    "print(\"Mean CV Score:\", cross_val_scores.mean())    "
   ]
  },
  {
   "cell_type": "code",
   "execution_count": 137,
   "metadata": {},
   "outputs": [
    {
     "name": "stdout",
     "output_type": "stream",
     "text": [
      "Mean Squared Error (cross-validated): 0.07381593380083923\n"
     ]
    }
   ],
   "source": [
    "from sklearn.model_selection import cross_val_score, KFold\n",
    "from sklearn.neighbors import KNeighborsRegressor\n",
    "from sklearn.preprocessing import StandardScaler\n",
    "import numpy as np\n",
    "\n",
    "# Assuming X, y are your features and target\n",
    "# Replace these with your actual data\n",
    "\n",
    "# Standardize the features\n",
    "scaler = StandardScaler()\n",
    "X_scaled = scaler.fit_transform(X)\n",
    "\n",
    "# Initialize KNN Regression model\n",
    "knn_model = KNeighborsRegressor(n_neighbors=5)\n",
    "\n",
    "# Perform 5-fold cross-validation\n",
    "kf = KFold(n_splits=5, shuffle=True, random_state=42)\n",
    "mse_scores = cross_val_score(knn_model, X_scaled, y, scoring='neg_mean_squared_error', cv=kf)\n",
    "\n",
    "# Calculate the mean MSE\n",
    "mean_mse = np.mean(-mse_scores)\n",
    "print(f'Mean Squared Error (cross-validated): {mean_mse}') "
   ]
  },
  {
   "cell_type": "code",
   "execution_count": 138,
   "metadata": {},
   "outputs": [
    {
     "name": "stdout",
     "output_type": "stream",
     "text": [
      "Mean Squared Error (cross-validated): 0.050879544896869744\n"
     ]
    }
   ],
   "source": [
    "from sklearn.model_selection import cross_val_score, KFold\n",
    "from sklearn.ensemble import GradientBoostingRegressor\n",
    "import numpy as np\n",
    " \n",
    "# Assuming X, y are your features and target\n",
    "# Replace these with your actual data\n",
    "\n",
    "# Initialize Gradient Boosting model\n",
    "gb_model = GradientBoostingRegressor(n_estimators=100, learning_rate=0.1, max_depth=3, random_state=42)\n",
    "\n",
    "# Perform 5-fold cross-validation\n",
    "kf = KFold(n_splits=5, shuffle=True, random_state=42)\n",
    "mse_scores = cross_val_score(gb_model, X, y, scoring='neg_mean_squared_error', cv=kf)\n",
    "\n",
    "# Calculate the mean MSE\n",
    "mean_mse = np.mean(-mse_scores)\n",
    "print(f'Mean Squared Error (cross-validated): {mean_mse}')"
   ]
  },
  {
   "cell_type": "code",
   "execution_count": 139,
   "metadata": {},
   "outputs": [
    {
     "data": {
      "text/plain": [
       "(1000, 29)"
      ]
     },
     "execution_count": 139,
     "metadata": {},
     "output_type": "execute_result"
    }
   ],
   "source": [
    "df2.shape"
   ]
  },
  {
   "cell_type": "code",
   "execution_count": 140,
   "metadata": {},
   "outputs": [
    {
     "name": "stdout",
     "output_type": "stream",
     "text": [
      "Random Forest Cross-Validation Scores: [0.80382178 0.76140013 0.76841246 0.74873057 0.77503597]\n",
      "Mean CV Score: 0.7714801811589838\n"
     ]
    }
   ],
   "source": [
    "from sklearn.ensemble import RandomForestRegressor\n",
    "from sklearn.model_selection import cross_val_score, KFold  \n",
    "\n",
    "model = RandomForestRegressor(random_state=42,n_estimators=100,max_features=4,n_jobs=-1)  \n",
    " \n",
    "cross_val_scores = cross_val_score(model, X, y, cv=kfold)\n",
    "print(\"Random Forest Cross-Validation Scores:\", cross_val_scores)\n",
    "print(\"Mean CV Score:\", cross_val_scores.mean())  \n"
   ]
  },
  {
   "cell_type": "code",
   "execution_count": 153,
   "metadata": {},
   "outputs": [
    {
     "name": "stdout",
     "output_type": "stream",
     "text": [
      "R-squared score: 0.8419066264154595\n",
      "Mean Squared Error: 0.03407297559741093\n",
      "Mean Absolute Error: 0.12874116335632713\n"
     ]
    }
   ],
   "source": [
    "from sklearn.model_selection import train_test_split\n",
    "from sklearn.metrics import r2_score,mean_squared_error,mean_absolute_error \n",
    " \n",
    "X_train, X_test, y_train, y_test = train_test_split(X,y,test_size=0.2)\n",
    "finalized_model = RandomForestRegressor(random_state=42,n_estimators=100,max_features=4,n_jobs=-1)  \n",
    " \n",
    "finalized_model.fit(X_train,y_train)\n",
    "prediction = finalized_model.predict(X_test)  \n",
    "\n",
    "r2 = r2_score(y_test, prediction) \n",
    "mse = mean_squared_error(y_test, prediction)\n",
    "mae = mean_absolute_error(y_test, prediction)\n",
    "\n",
    "# The R-squared score indicates how well the model's predictions match the actual values. It ranges from 0 to 1, where 1 indicates a perfect fit.\n",
    "print(\"R-squared score:\", r2)  \n",
    "print(\"Mean Squared Error:\", mse) \n",
    "print(\"Mean Absolute Error:\", mae)  "
   ]
  },
  {
   "cell_type": "code",
   "execution_count": 143,
   "metadata": {},
   "outputs": [],
   "source": [
    "import pickle\n",
    " \n",
    "with open('model_pickle','wb') as f: \n",
    "    pickle.dump(finalized_model,f)    "
   ]
  },
  {
   "cell_type": "code",
   "execution_count": 144,
   "metadata": {},
   "outputs": [
    {
     "data": {
      "text/html": [
       "<div>\n",
       "<style scoped>\n",
       "    .dataframe tbody tr th:only-of-type {\n",
       "        vertical-align: middle;\n",
       "    }\n",
       "\n",
       "    .dataframe tbody tr th {\n",
       "        vertical-align: top;\n",
       "    }\n",
       "\n",
       "    .dataframe thead th {\n",
       "        text-align: right;\n",
       "    }\n",
       "</style>\n",
       "<table border=\"1\" class=\"dataframe\">\n",
       "  <thead>\n",
       "    <tr style=\"text-align: right;\">\n",
       "      <th></th>\n",
       "      <th>Bedroom</th>\n",
       "      <th>Bathroom</th>\n",
       "      <th>Property Size</th>\n",
       "      <th>Category</th>\n",
       "      <th>Facilities</th>\n",
       "      <th>Building Name</th>\n",
       "      <th>Developer</th>\n",
       "      <th>Address</th>\n",
       "      <th># of Floors</th>\n",
       "      <th>Total Units</th>\n",
       "      <th>Parking Lot</th>\n",
       "      <th>Firm Number</th>\n",
       "      <th>REN Number</th>\n",
       "      <th>Bus Stop</th>\n",
       "      <th>Mall</th>\n",
       "      <th>Park</th>\n",
       "      <th>School</th>\n",
       "      <th>Hospital</th>\n",
       "      <th>price</th>\n",
       "      <th>Highway</th>\n",
       "      <th>Railway Station</th>\n",
       "      <th>Tenure Type_encoded</th>\n",
       "      <th>Completion Year_encoded</th>\n",
       "      <th>Property Type_encoded</th>\n",
       "      <th>Floor Range_encoded</th>\n",
       "      <th>Land Title_encoded</th>\n",
       "      <th>Firm Type_encoded</th>\n",
       "      <th>State_encoded</th>\n",
       "      <th>price_log</th>\n",
       "    </tr>\n",
       "  </thead>\n",
       "  <tbody>\n",
       "    <tr>\n",
       "      <th>0</th>\n",
       "      <td>3</td>\n",
       "      <td>2</td>\n",
       "      <td>1000.0</td>\n",
       "      <td>Apartment / Condominium, For sale</td>\n",
       "      <td>3</td>\n",
       "      <td>Sri Lavender Apartment</td>\n",
       "      <td>TLS Group</td>\n",
       "      <td>Jalan Sepakat Indah 2/1, Taman Sepakat Indah 2...</td>\n",
       "      <td>13</td>\n",
       "      <td>445</td>\n",
       "      <td>1</td>\n",
       "      <td>Unknown</td>\n",
       "      <td>Unknown</td>\n",
       "      <td>0</td>\n",
       "      <td>0</td>\n",
       "      <td>0</td>\n",
       "      <td>0</td>\n",
       "      <td>0</td>\n",
       "      <td>230000.0</td>\n",
       "      <td>1</td>\n",
       "      <td>0</td>\n",
       "      <td>0</td>\n",
       "      <td>16</td>\n",
       "      <td>0</td>\n",
       "      <td>2</td>\n",
       "      <td>2</td>\n",
       "      <td>2</td>\n",
       "      <td>7</td>\n",
       "      <td>12.345839</td>\n",
       "    </tr>\n",
       "    <tr>\n",
       "      <th>1</th>\n",
       "      <td>3</td>\n",
       "      <td>2</td>\n",
       "      <td>1100.0</td>\n",
       "      <td>Apartment / Condominium, For sale</td>\n",
       "      <td>3</td>\n",
       "      <td>D'Piazza Condominium</td>\n",
       "      <td>X-Scan Penang Sdn Bhd</td>\n",
       "      <td>Jalan Mayang Pasir 2, Bayan Baru, Penang</td>\n",
       "      <td>19</td>\n",
       "      <td>706</td>\n",
       "      <td>1</td>\n",
       "      <td>11307</td>\n",
       "      <td>REN 61472</td>\n",
       "      <td>0</td>\n",
       "      <td>0</td>\n",
       "      <td>0</td>\n",
       "      <td>0</td>\n",
       "      <td>0</td>\n",
       "      <td>425000.0</td>\n",
       "      <td>0</td>\n",
       "      <td>0</td>\n",
       "      <td>0</td>\n",
       "      <td>19</td>\n",
       "      <td>1</td>\n",
       "      <td>1</td>\n",
       "      <td>2</td>\n",
       "      <td>1</td>\n",
       "      <td>5</td>\n",
       "      <td>12.959847</td>\n",
       "    </tr>\n",
       "    <tr>\n",
       "      <th>2</th>\n",
       "      <td>3</td>\n",
       "      <td>2</td>\n",
       "      <td>780.0</td>\n",
       "      <td>Apartment / Condominium, For sale</td>\n",
       "      <td>3</td>\n",
       "      <td>Pangsapuri Sri Alpinia</td>\n",
       "      <td>IOI Properties Group Berhad</td>\n",
       "      <td>Persiaran Indera, Pusat Bandar Puchong, Puchon...</td>\n",
       "      <td>5</td>\n",
       "      <td>281</td>\n",
       "      <td>1</td>\n",
       "      <td>31484</td>\n",
       "      <td>Unknown</td>\n",
       "      <td>0</td>\n",
       "      <td>0</td>\n",
       "      <td>0</td>\n",
       "      <td>0</td>\n",
       "      <td>0</td>\n",
       "      <td>230000.0</td>\n",
       "      <td>0</td>\n",
       "      <td>0</td>\n",
       "      <td>0</td>\n",
       "      <td>36</td>\n",
       "      <td>1</td>\n",
       "      <td>3</td>\n",
       "      <td>2</td>\n",
       "      <td>1</td>\n",
       "      <td>7</td>\n",
       "      <td>12.345839</td>\n",
       "    </tr>\n",
       "    <tr>\n",
       "      <th>3</th>\n",
       "      <td>3</td>\n",
       "      <td>2</td>\n",
       "      <td>660.0</td>\n",
       "      <td>Apartment / Condominium, For sale</td>\n",
       "      <td>3</td>\n",
       "      <td>Sri Aman Block C (Sri Aman Block 1 &amp; 3)</td>\n",
       "      <td>Unknown</td>\n",
       "      <td>Persiaran Paya Terubong 3, Bukit Jambul, Penang</td>\n",
       "      <td>18</td>\n",
       "      <td>701</td>\n",
       "      <td>1</td>\n",
       "      <td>31970</td>\n",
       "      <td>REN 03281</td>\n",
       "      <td>0</td>\n",
       "      <td>0</td>\n",
       "      <td>0</td>\n",
       "      <td>0</td>\n",
       "      <td>0</td>\n",
       "      <td>265000.0</td>\n",
       "      <td>0</td>\n",
       "      <td>0</td>\n",
       "      <td>0</td>\n",
       "      <td>17</td>\n",
       "      <td>0</td>\n",
       "      <td>2</td>\n",
       "      <td>2</td>\n",
       "      <td>1</td>\n",
       "      <td>5</td>\n",
       "      <td>12.487489</td>\n",
       "    </tr>\n",
       "    <tr>\n",
       "      <th>4</th>\n",
       "      <td>3</td>\n",
       "      <td>2</td>\n",
       "      <td>1250.0</td>\n",
       "      <td>Apartment / Condominium, For sale</td>\n",
       "      <td>3</td>\n",
       "      <td>Ameera Residence</td>\n",
       "      <td>TLS Group</td>\n",
       "      <td>Jalan Mutiara 3, Mutiara Heights,, Kajang, Sel...</td>\n",
       "      <td>0</td>\n",
       "      <td>428</td>\n",
       "      <td>2</td>\n",
       "      <td>31484</td>\n",
       "      <td>Unknown</td>\n",
       "      <td>0</td>\n",
       "      <td>0</td>\n",
       "      <td>0</td>\n",
       "      <td>0</td>\n",
       "      <td>0</td>\n",
       "      <td>340000.0</td>\n",
       "      <td>0</td>\n",
       "      <td>0</td>\n",
       "      <td>0</td>\n",
       "      <td>25</td>\n",
       "      <td>1</td>\n",
       "      <td>3</td>\n",
       "      <td>2</td>\n",
       "      <td>1</td>\n",
       "      <td>7</td>\n",
       "      <td>12.736704</td>\n",
       "    </tr>\n",
       "  </tbody>\n",
       "</table>\n",
       "</div>"
      ],
      "text/plain": [
       "   Bedroom  Bathroom  Property Size                           Category  \\\n",
       "0        3         2         1000.0  Apartment / Condominium, For sale   \n",
       "1        3         2         1100.0  Apartment / Condominium, For sale   \n",
       "2        3         2          780.0  Apartment / Condominium, For sale   \n",
       "3        3         2          660.0  Apartment / Condominium, For sale   \n",
       "4        3         2         1250.0  Apartment / Condominium, For sale   \n",
       "\n",
       "  Facilities                            Building Name  \\\n",
       "0          3                   Sri Lavender Apartment   \n",
       "1          3                     D'Piazza Condominium   \n",
       "2          3                   Pangsapuri Sri Alpinia   \n",
       "3          3  Sri Aman Block C (Sri Aman Block 1 & 3)   \n",
       "4          3                         Ameera Residence   \n",
       "\n",
       "                     Developer  \\\n",
       "0                    TLS Group   \n",
       "1        X-Scan Penang Sdn Bhd   \n",
       "2  IOI Properties Group Berhad   \n",
       "3                      Unknown   \n",
       "4                    TLS Group   \n",
       "\n",
       "                                             Address  # of Floors  \\\n",
       "0  Jalan Sepakat Indah 2/1, Taman Sepakat Indah 2...           13   \n",
       "1           Jalan Mayang Pasir 2, Bayan Baru, Penang           19   \n",
       "2  Persiaran Indera, Pusat Bandar Puchong, Puchon...            5   \n",
       "3    Persiaran Paya Terubong 3, Bukit Jambul, Penang           18   \n",
       "4  Jalan Mutiara 3, Mutiara Heights,, Kajang, Sel...            0   \n",
       "\n",
       "   Total Units  Parking Lot Firm Number REN Number  Bus Stop  Mall  Park  \\\n",
       "0          445            1     Unknown    Unknown         0     0     0   \n",
       "1          706            1       11307  REN 61472         0     0     0   \n",
       "2          281            1       31484    Unknown         0     0     0   \n",
       "3          701            1       31970  REN 03281         0     0     0   \n",
       "4          428            2       31484    Unknown         0     0     0   \n",
       "\n",
       "   School  Hospital     price  Highway  Railway Station  Tenure Type_encoded  \\\n",
       "0       0         0  230000.0        1                0                    0   \n",
       "1       0         0  425000.0        0                0                    0   \n",
       "2       0         0  230000.0        0                0                    0   \n",
       "3       0         0  265000.0        0                0                    0   \n",
       "4       0         0  340000.0        0                0                    0   \n",
       "\n",
       "   Completion Year_encoded  Property Type_encoded  Floor Range_encoded  \\\n",
       "0                       16                      0                    2   \n",
       "1                       19                      1                    1   \n",
       "2                       36                      1                    3   \n",
       "3                       17                      0                    2   \n",
       "4                       25                      1                    3   \n",
       "\n",
       "   Land Title_encoded  Firm Type_encoded  State_encoded  price_log  \n",
       "0                   2                  2              7  12.345839  \n",
       "1                   2                  1              5  12.959847  \n",
       "2                   2                  1              7  12.345839  \n",
       "3                   2                  1              5  12.487489  \n",
       "4                   2                  1              7  12.736704  "
      ]
     },
     "execution_count": 144,
     "metadata": {},
     "output_type": "execute_result"
    }
   ],
   "source": [
    "df2.head(5)"
   ]
  },
  {
   "cell_type": "code",
   "execution_count": 145,
   "metadata": {},
   "outputs": [
    {
     "name": "stdout",
     "output_type": "stream",
     "text": [
      "364                   Fortune Avenue\n",
      "450         Fortune Perdana Lakeside\n",
      "480                     Forest Green\n",
      "502              Ferringhi Residence\n",
      "622            Ferringhi Residence 2\n",
      "646                      Fiera Vista\n",
      "647                    Fortuna Court\n",
      "789                Fettes Residences\n",
      "790                Fettes Residences\n",
      "791                Fettes Residences\n",
      "801                      Fiera Vista\n",
      "802                      Fiera Vista\n",
      "803                      Fiera Vista\n",
      "804                      Fiera Vista\n",
      "805                      Fiera Vista\n",
      "855     Ferringhi Delima Condominium\n",
      "1001        Fortune Perdana Lakeside\n",
      "1015        Fortune Perdana Lakeside\n",
      "1024       Fortune Court (Ayer Itam)\n",
      "Name: Building Name, dtype: object\n"
     ]
    }
   ],
   "source": [
    "#Fair View is not in here (which is used in Demo)\n",
    "filtered_df = df[df['Building Name'].str.lower().str.startswith('f')]\n",
    "\n",
    "# Displaying the result\n",
    "print(filtered_df['Building Name']) "
   ]
  },
  {
   "cell_type": "code",
   "execution_count": 146,
   "metadata": {},
   "outputs": [
    {
     "name": "stdout",
     "output_type": "stream",
     "text": [
      "102                   Faber Group\n",
      "175    Faber Development Holdings\n",
      "203                    F3 Capital\n",
      "510    Faber Development Holdings\n",
      "603               Faber Union Bhd\n",
      "610    Faber Development Holdings\n",
      "719       Farlim Group (M) Berhad\n",
      "825       Farlim Group (M) Berhad\n",
      "Name: Developer, dtype: object\n"
     ]
    }
   ],
   "source": [
    "#Fair View is not in here (which is used in Demo) \n",
    "filtered_df = df[df['Developer'].str.lower().str.startswith('f')]\n",
    "\n",
    "# Displaying the result\n",
    "print(filtered_df['Developer'])"
   ]
  }
 ],
 "metadata": {
  "kernelspec": {
   "display_name": "Python 3",
   "language": "python",
   "name": "python3"
  },
  "language_info": {
   "codemirror_mode": {
    "name": "ipython",
    "version": 3
   },
   "file_extension": ".py",
   "mimetype": "text/x-python",
   "name": "python",
   "nbconvert_exporter": "python",
   "pygments_lexer": "ipython3",
   "version": "3.12.0"
  }
 },
 "nbformat": 4,
 "nbformat_minor": 2
}
